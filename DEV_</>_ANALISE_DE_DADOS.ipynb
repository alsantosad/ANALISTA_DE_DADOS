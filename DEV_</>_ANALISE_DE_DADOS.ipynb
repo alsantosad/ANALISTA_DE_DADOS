{
  "cells": [
    {
      "cell_type": "markdown",
      "metadata": {
        "id": "view-in-github",
        "colab_type": "text"
      },
      "source": [
        "<a href=\"https://colab.research.google.com/github/alsantosad/ANALISTA_DE_DADOS/blob/main/DEV_%3C/%3E_ANALISE_DE_DADOS.ipynb\" target=\"_parent\"><img src=\"https://colab.research.google.com/assets/colab-badge.svg\" alt=\"Open In Colab\"/></a>"
      ]
    },
    {
      "cell_type": "markdown",
      "metadata": {
        "id": "hmWanlrNE9iV"
      },
      "source": [
        "#**PYTHON**🐍COM O APP **MIMO**🤖"
      ]
    },
    {
      "cell_type": "markdown",
      "metadata": {
        "id": "AmeAeW66GkO1"
      },
      "source": [
        "###**Dicionário .dict()📋**"
      ]
    },
    {
      "cell_type": "markdown",
      "metadata": {
        "id": "M72hTxEfHDAi"
      },
      "source": [
        "Para acessar um valor dentro de um dicionário, precisamos informar a \"chave\", veja o exemplo a seguir;"
      ]
    },
    {
      "cell_type": "code",
      "execution_count": null,
      "metadata": {
        "id": "2xjCacORGgIQ"
      },
      "outputs": [],
      "source": [
        "# Exemplo 1 - Acessando Dicionário:\n",
        "bio_ator = {\n",
        "\"name\" : \"Bill Murray\",\n",
        "\"conhecido por\" : [\"Perdidos no Espaço\", \"Hora do Rush\"]\n",
        "}\n",
        "print(bio_ator[\"name\"])\n",
        "\n",
        "#Podemos também armazenar o valor que acessamos em uma variável, veja:\n",
        "nome_ator = bio_ator[\"name\"]\n",
        "print(nome_ator)"
      ]
    },
    {
      "cell_type": "markdown",
      "metadata": {
        "id": "1sXl2I1RKgR5"
      },
      "source": [
        "Podemos iterar atrás das chaves do dicionário pelo loop 'For'. Lemos assim, Para cada(for) player(chaves) dentro(in) do dicionario(pontos_jogadores):\n",
        "Mostre(print()) jogadores(chave) dentro do dicionário."
      ]
    },
    {
      "cell_type": "code",
      "execution_count": null,
      "metadata": {
        "id": "regQUnzVMR7D"
      },
      "outputs": [],
      "source": [
        "# Exemplo\n",
        "pontos_jogadores = {\n",
        "\"Ailton\":35,\n",
        "\"Weliton\":60,\n",
        "\"Fabiana\":100\n",
        "}\n",
        "for jogadores in pontos_jogadores:\n",
        "  print(pontos_jogadores[jogadores])"
      ]
    },
    {
      "cell_type": "code",
      "execution_count": null,
      "metadata": {
        "id": "_mEaDpVOOmvr"
      },
      "outputs": [],
      "source": [
        "#Dicionário\n",
        "passagem = {\n",
        "\"Barca\":11,\n",
        "\"Primeira Classe\": False\n",
        "}\n",
        "#Acessando Valor\n",
        "passagem[\"Primeira Classe\"]\n",
        "\n",
        "#Agora vamos atualizar o valor da chave igual fazemos com uma variável\n",
        "passagem[\"Primeira Classe\"] = True\n",
        "print(passagem)"
      ]
    },
    {
      "cell_type": "markdown",
      "metadata": {
        "id": "o2zcPHVDRuJN"
      },
      "source": [
        "\n",
        "**1. Questionário:**\n",
        "\n",
        "Execute o código"
      ]
    },
    {
      "cell_type": "code",
      "execution_count": null,
      "metadata": {
        "id": "7bFfkImVnyY9"
      },
      "outputs": [],
      "source": [
        "# Criamos uma lista com as Perguntas\n",
        "pergunta = [\n",
        "    \"1. Pelo nome da sua chave\",\n",
        "    \"2. Pelo seu índice\"\n",
        "]\n",
        "\n",
        "#Criamos uma lista vazia para armazenar pontos do resultado das perguntas\n",
        "score = []\n",
        "\n",
        "def pergunta_1():\n",
        "    print(\"1 - Como acessamos um valor associado a uma determinada chave em um dicionário?\")\n",
        "\n",
        "    for i in pergunta:\n",
        "        print(i)\n",
        "\n",
        "    resposta = int(input(\"R: \"))\n",
        "    resultado(resposta)\n",
        "\n",
        "def resultado(resposta):\n",
        "    if resposta == 1:\n",
        "        print(\"Acertou!\")\n",
        "        score.append(100)\n",
        "    elif resposta == 2:\n",
        "        print(\"Errou\")\n",
        "        score.append(0)\n",
        "    else:\n",
        "        print(\"Inválido. Digite 1 ou 2\")\n",
        "\n",
        "pergunta_1()\n",
        "print(f\"Sua pontuação total é: {sum(score)}\")"
      ]
    },
    {
      "cell_type": "markdown",
      "metadata": {
        "id": "FsFTg0I284Wb"
      },
      "source": [
        "***Acessando Chave-Valor de forma separada com o loop For.***"
      ]
    },
    {
      "cell_type": "code",
      "execution_count": null,
      "metadata": {
        "id": "QqMFs1UiDIRK"
      },
      "outputs": [],
      "source": [
        "# Dicionário\n",
        "glossario = {\n",
        "    \"fruta\": \"banana\",\n",
        "    \"numero\": \"um\",\n",
        "    \"objeto\": \"tesoura\",\n",
        "    \"adjetivo\": \"belo\",\n",
        "    \"criatura\": \"humano\",\n",
        "}\n",
        "#Apresentando pelo Loop For as Chaves\n",
        "for item in glossario.keys():\n",
        "  print(item)\n",
        "#Apresentando pelo Loop For os Valores\n",
        "for item in glossario.values():\n",
        "  print(item)"
      ]
    },
    {
      "cell_type": "markdown",
      "metadata": {
        "id": "SH3Lh5NocL8t"
      },
      "source": [
        "***Adicionando um novo item no dicionário vazio.***"
      ]
    },
    {
      "cell_type": "code",
      "execution_count": null,
      "metadata": {
        "id": "1tjq5uoMcUeB"
      },
      "outputs": [],
      "source": [
        "# Dicionario vazio\n",
        "dic ={}\n",
        "\n",
        "#Adicionando uma nova chave \"nome\" seguido de uma tupla com o nome e sobrenome como valor\n",
        "dic[\"nome\"]=input(\"Digite seu nome \"),input(\"Digite seu sobrenome \")\n",
        "\n",
        "# Mostrando o conteúdo do dicionario\n",
        "print(dic)\n",
        "\n",
        "#Mostrando somente as chaves do dicionario\n",
        "print(dic.keys())\n",
        "\n",
        "#Mostrando somente os valores do dicionario\n",
        "print(dic.values())"
      ]
    },
    {
      "cell_type": "markdown",
      "metadata": {
        "id": "NiKItbarpmcU"
      },
      "source": [
        "***Verificando no dicionario se contém uma determinada chave. Pra isso, usamos o operador 'in', veja o Exemplo:***"
      ]
    },
    {
      "cell_type": "code",
      "execution_count": null,
      "metadata": {
        "id": "iYBXHVjyPpmx"
      },
      "outputs": [],
      "source": [
        "# Dicionario vazio\n",
        "dic = {\n",
        "        'nome': 'São Paulo',\n",
        "        'estado': 'São Paulo',\n",
        "        'populacao': 12300000,\n",
        "        'praia': False,\n",
        "        'regiao': 'Sudeste',\n",
        "        'gentilico': 'paulista'\n",
        "}\n",
        "\n",
        "#Utilizando o operador in para verificar se 'estado' esta dentro do dicionário.\n",
        "print('estado' in dic)\n",
        "# Ao verificar se existe a chave \"nome\" dentro do dicionário, ele retorna um valor booleano 'True ou 'False'.\n",
        "\n",
        "#Podemos salvar esse resultado em uma variável\n",
        "#Por exemplo\n",
        "verificar_dic = 'estado' in dic\n",
        "print(verificar_dic)"
      ]
    },
    {
      "cell_type": "markdown",
      "metadata": {
        "id": "Dqdsm29aUiAf"
      },
      "source": [
        "***2. Questionário***\n",
        "\n",
        "Execute o código e responda."
      ]
    },
    {
      "cell_type": "code",
      "execution_count": null,
      "metadata": {
        "id": "C9kOj36bUy30"
      },
      "outputs": [],
      "source": [
        "print(\"O que nos dá se verificarmos uma palavra no dicionario com o operador 'in'? \")\n",
        "questoes =[\n",
        "\"1. Um valor booleano que indica se a chave está presente.\",\n",
        "\"2. O valor da chave se a chave estiver presente.\"\n",
        "]\n",
        "\n",
        "while True:\n",
        "  for p in questoes:\n",
        "    print(p)\n",
        "  pergunta = int(input(\"R: \"))\n",
        "  if pergunta == 1:\n",
        "    print(\"Parabéns, Acertou!\")\n",
        "    break\n",
        "  elif pergunta == 2:\n",
        "    print(\"Resposta errada, tente novamente.\")\n",
        "    continue\n",
        "  else:\n",
        "    print(\"Digite novamente os números correspondentes a Resposta.\")\n",
        "    continue"
      ]
    },
    {
      "cell_type": "markdown",
      "metadata": {
        "id": "OfeCyP5TbGK9"
      },
      "source": [
        "\n",
        "***Removendo chave-valor no dicionário***\n",
        "\n",
        "Para remover um par de chave-valor de forma semelhante a lista, chamamos o dicionário seguido pela instrução \".pop()\""
      ]
    },
    {
      "cell_type": "code",
      "execution_count": null,
      "metadata": {
        "id": "N6rF2j9NbGrW"
      },
      "outputs": [],
      "source": [
        "\n",
        "#Criamos o Dicionário\n",
        "stock = {\n",
        " \"dresses\": 25,\n",
        " \"t-shirts\": 50,\n",
        " \"jeans\": 1\n",
        "}\n",
        "\n",
        "'''Chamamos o dicionário em seguida\n",
        "a função e dentro dos parênteses\n",
        "o nome da chave a qual queremos remover 'stock.pop(\"jeans\")'\n",
        "'''\n",
        "#stock.pop(\"jeans\")\n",
        "#Podemos também armazenar o valor da chave removida para uma variável\n",
        "jeans_stock = stock.pop(\"jeans\") #para executar é só remover o '#'\n",
        "print(stock)\n",
        "print(jeans_stock)"
      ]
    },
    {
      "cell_type": "markdown",
      "metadata": {
        "id": "nyilriOaebL0"
      },
      "source": [
        "**🚩BOAS PRÁTICAS**🚩\n",
        "\n",
        "Para evitar erros ao remover uma chave, é importante que seja utilizado o operador condicional \"if\" para verificar se a chave existe."
      ]
    },
    {
      "cell_type": "code",
      "execution_count": null,
      "metadata": {
        "id": "M9HqM6-afL9h"
      },
      "outputs": [],
      "source": [
        "estoque = {\n",
        "\"vestido\":25,\n",
        "\"camisa\":50,\n",
        "\"jeans\":1\n",
        "}\n",
        "if \"jeans\" in estoque:\n",
        "  estoque.pop(\"jeans\")"
      ]
    },
    {
      "cell_type": "markdown",
      "metadata": {
        "id": "yEaUiTnclEyN"
      },
      "source": [
        "***3. Questionario***"
      ]
    },
    {
      "cell_type": "markdown",
      "metadata": {
        "id": "mX9F-j8ylUgu"
      },
      "source": [
        "\n",
        "***O que esse código exibe?***\n",
        "\n",
        "```def get_profile_info(user_data):\n",
        "  age = user_data[2]\n",
        "  name = user_data[0]\n",
        "  return age, name```\n",
        "\n",
        "```user = [\"Ann\", \"Davis\", 35]info = get_profile_info(user)\n",
        "print(info)```"
      ]
    },
    {
      "cell_type": "code",
      "execution_count": null,
      "metadata": {
        "id": "kJM4bCDFmZir"
      },
      "outputs": [],
      "source": [
        "opcoes ={\n",
        "\"1. ger_profile_info(user)\":0,\n",
        "\"2. age, name\":0,\n",
        "\"3. 35, 'Ann'\":100\n",
        "}\n",
        "\n",
        "score =0\n",
        "\n",
        "for item in opcoes.keys():\n",
        "  print(item)\n",
        "\n",
        "resposta = int(input(\"R: \"))\n",
        "if resposta == 1:\n",
        "  score += opcoes[\"1. ger_profile_info(user)\"]\n",
        "  print(\"Errou, tente outra vez.\")\n",
        "elif resposta ==2:\n",
        "  score += opcoes[\"2. age, name\"]\n",
        "  print(\"Errou, tente outra vez\")\n",
        "elif resposta ==3:\n",
        "  score += opcoes[\"3. 35, 'Ann'\"]\n",
        "  print(\"Acertou! Parabens\")\n",
        "else:\n",
        "  print(\"Inválido, digite o número corretamente\")\n",
        "\n",
        "print(f'Seu Score é {score}')"
      ]
    },
    {
      "cell_type": "markdown",
      "metadata": {
        "id": "6QnlzR4due59"
      },
      "source": [
        "###**Conjuntos 'Set'**📚"
      ]
    },
    {
      "cell_type": "markdown",
      "metadata": {
        "id": "f50H2gsJu7vH"
      },
      "source": [
        "Conjuntos como 'codigo_postal ={}', são coleções de valores como listas, mas não permitem valores duplicados.\n",
        "\n",
        "Diferente do dicionario, o 'set' utiliza a virgula para separar cada valor como em listas.\n",
        "\n",
        "O que são Conjuntos?\n",
        "Coleção de valores que são únicos."
      ]
    },
    {
      "cell_type": "code",
      "execution_count": null,
      "metadata": {
        "colab": {
          "base_uri": "https://localhost:8080/"
        },
        "id": "uFXV12CBu9be",
        "outputId": "64ffe316-59d8-43f0-abfb-29568a1f5bf5"
      },
      "outputs": [
        {
          "name": "stdout",
          "output_type": "stream",
          "text": [
            "{'SW1A', 'SY3', 'B44'}\n"
          ]
        }
      ],
      "source": [
        "\n",
        "#Exemplo de Conjunto ou \"Set\"\n",
        "codigo_postal = {\"SW1A\",\"SY3\",\"B44\"}\n",
        "print(codigo_postal)"
      ]
    },
    {
      "cell_type": "markdown",
      "metadata": {
        "id": "l7ehbPzAzh69"
      },
      "source": [
        "***Adicionando um novo valor ao Conjunto***"
      ]
    },
    {
      "cell_type": "code",
      "execution_count": null,
      "metadata": {
        "colab": {
          "base_uri": "https://localhost:8080/"
        },
        "id": "lMDSqBq-zt3u",
        "outputId": "52f13aa4-b1c0-4f88-f24a-66b2269ca4c3"
      },
      "outputs": [
        {
          "name": "stdout",
          "output_type": "stream",
          "text": [
            "{'talvez', 'sim', 'nao'}\n"
          ]
        }
      ],
      "source": [
        "resposta ={\"sim\",\"nao\"}\n",
        "resposta.add(\"talvez\")\n",
        "print(resposta)"
      ]
    },
    {
      "cell_type": "markdown",
      "metadata": {
        "id": "JY6nIWt30_VK"
      },
      "source": [
        "***Valores iguais dentro do conjunto são excluídos***\n",
        "\n",
        "Veja o exemplo abaixo:"
      ]
    },
    {
      "cell_type": "code",
      "execution_count": null,
      "metadata": {
        "colab": {
          "base_uri": "https://localhost:8080/"
        },
        "id": "Alu98twMifpC",
        "outputId": "b815ef59-db8f-44ec-ca44-b8baed489dde"
      },
      "outputs": [
        {
          "name": "stdout",
          "output_type": "stream",
          "text": [
            "{'talvez', 'sim', 'não'}\n"
          ]
        }
      ],
      "source": [
        "# Criamos o conjunto\n",
        "conjunto = {\"sim\",\"não\"}\n",
        "\n",
        "# Adicionamos 'com add.()' o valor 'talvez'\n",
        "conjunto.add(\"talvez\")\n",
        "\n",
        "# Aqui adicionamos um valor já existente no conjunto\n",
        "# Vemos ao executar o código que ele não duplica o valor.\n",
        "conjunto.add(\"sim\")\n",
        "\n",
        "print(conjunto)"
      ]
    },
    {
      "cell_type": "markdown",
      "metadata": {
        "id": "1eli8fMokMtc"
      },
      "source": [
        "**Os conjuntos não são ordenados ou seja, não possuem índice como em lista.**\n",
        "\n",
        "Dito isso, só conseguimos verificar se existe um valor no conjunto da seguinte forma:\n",
        "\n",
        "**❗- Verificando se existe um elemento no Conjunto**\n",
        "\n",
        "🚩**O Resultado sempre é um valor BOOLEANO.**"
      ]
    },
    {
      "cell_type": "code",
      "execution_count": null,
      "metadata": {
        "colab": {
          "base_uri": "https://localhost:8080/"
        },
        "id": "mZqoxlAck0L6",
        "outputId": "070ef5d3-6b39-4142-ba69-fe78ea537570"
      },
      "outputs": [
        {
          "name": "stdout",
          "output_type": "stream",
          "text": [
            "False\n"
          ]
        }
      ],
      "source": [
        "# Criamos o conjunto\n",
        "conjunto = {\"sim\",\"não\"}\n",
        "\n",
        "# Para verificar se existe um valor em um conjunto\n",
        "# utilizamos o operador 'in'\n",
        "print(\"nâo\" in conjunto)\n",
        "\n",
        "# Sempre que verificamos se existe um valor, ele retorna um valor booleano"
      ]
    },
    {
      "cell_type": "markdown",
      "metadata": {
        "id": "tbMhUV1DmYkX"
      },
      "source": [
        "\n",
        "**Como iterar um Conjunto**\n",
        "\n",
        "Vamos agora iterar pelos elementos do nosso conjunto com o loop 'for'.\n",
        "Veja o exemplo:"
      ]
    },
    {
      "cell_type": "code",
      "execution_count": null,
      "metadata": {
        "colab": {
          "base_uri": "https://localhost:8080/"
        },
        "id": "g5w0GZ5qmzKY",
        "outputId": "b6625b79-f55c-4934-e812-82980ceafeab"
      },
      "outputs": [
        {
          "name": "stdout",
          "output_type": "stream",
          "text": [
            "Opção: talvez\n",
            "Opção: sim\n",
            "Opção: não\n"
          ]
        }
      ],
      "source": [
        "# Criamos o conjunto\n",
        "conjunto = {\"sim\",\"não\",\"talvez\"}\n",
        "# Criando um loop 'for' para iterar nos elementos\n",
        "# Ler: Para cada(for) opcao(valor/variavel) dentro(in)  do conjunto(set):\n",
        "for opcao in conjunto:\n",
        "  print(f\"Opção: {opcao}\")"
      ]
    },
    {
      "cell_type": "markdown",
      "metadata": {
        "id": "IUy93N7Tr4qE"
      },
      "source": [
        "***1. Questionário***\n",
        "Como podemos acessar os elementos de um conjunto, já que os conjuntos não possuem indices?\n",
        "\n",
        "_Mostre um código que resolva essa questão._"
      ]
    },
    {
      "cell_type": "markdown",
      "metadata": {
        "id": "-ITDqdZAuk19"
      },
      "source": [
        "***Removendo um elemento do conjunto***"
      ]
    },
    {
      "cell_type": "code",
      "execution_count": null,
      "metadata": {
        "colab": {
          "base_uri": "https://localhost:8080/"
        },
        "id": "9e4-Nb9tutyj",
        "outputId": "713e3157-d2e7-4179-97fb-b50251146220"
      },
      "outputs": [
        {
          "name": "stdout",
          "output_type": "stream",
          "text": [
            "{'classe média', 'rico', 'Classe alta'}\n"
          ]
        }
      ],
      "source": [
        "\n",
        "# Criando um conjunto\n",
        "classes = {\n",
        "\"rico\",\"pobre\",\"classe média\",\n",
        "\"Classe alta\"\n",
        "}\n",
        "\n",
        "# Removendo um elemento do conjunto com a função 'remove()' e o valor entre parenteses\n",
        "classes.remove(\"pobre\")\n",
        "print(classes)"
      ]
    },
    {
      "cell_type": "markdown",
      "metadata": {
        "id": "CYpFw33QwMax"
      },
      "source": [
        "***O que acontece se removemos um elemento do nosso conjunto que nao existe?***\n",
        "_Veja:_"
      ]
    },
    {
      "cell_type": "code",
      "execution_count": null,
      "metadata": {
        "colab": {
          "base_uri": "https://localhost:8080/",
          "height": 367
        },
        "id": "qH1eZ7JnwYBG",
        "outputId": "8b3216b2-3bce-4305-db76-f60210c1083d"
      },
      "outputs": [
        {
          "ename": "KeyError",
          "evalue": "ignored",
          "output_type": "error",
          "traceback": [
            "\u001b[0;31m---------------------------------------------------------------------------\u001b[0m",
            "\u001b[0;31mKeyError\u001b[0m                                  Traceback (most recent call last)",
            "\u001b[0;32m<ipython-input-22-9935a147a2da>\u001b[0m in \u001b[0;36m<cell line: 2>\u001b[0;34m()\u001b[0m\n\u001b[1;32m      1\u001b[0m \u001b[0;31m# Se tentarmos remover um elemento que não existe no nosso conjunto, o código apresenta um erro 'key error'\u001b[0m\u001b[0;34m\u001b[0m\u001b[0;34m\u001b[0m\u001b[0m\n\u001b[0;32m----> 2\u001b[0;31m \u001b[0mclasses\u001b[0m\u001b[0;34m.\u001b[0m\u001b[0mremove\u001b[0m\u001b[0;34m(\u001b[0m\u001b[0;34m\"mendingo\"\u001b[0m\u001b[0;34m)\u001b[0m\u001b[0;34m\u001b[0m\u001b[0;34m\u001b[0m\u001b[0m\n\u001b[0m\u001b[1;32m      3\u001b[0m \u001b[0mprint\u001b[0m\u001b[0;34m(\u001b[0m\u001b[0mclasses\u001b[0m\u001b[0;34m)\u001b[0m\u001b[0;34m\u001b[0m\u001b[0;34m\u001b[0m\u001b[0m\n",
            "\u001b[0;31mKeyError\u001b[0m: 'mendingo'"
          ]
        }
      ],
      "source": [
        "# Se tentarmos remover um elemento que não existe no nosso conjunto, o código apresenta um erro 'key error'\n",
        "classes.remove(\"mendingo\")\n",
        "print(classes)"
      ]
    },
    {
      "cell_type": "markdown",
      "metadata": {
        "id": "_vOO_u4qwgUb"
      },
      "source": [
        "***🚩Boas Práticas🚩***\n",
        "\n",
        "Para evitar erros, primeiro verifique se um elemento está dentro 'in' de um conjunto antes de remove-lo com uma condição de validação. Veja:"
      ]
    },
    {
      "cell_type": "code",
      "execution_count": null,
      "metadata": {
        "id": "JO1LFMt7K4tx"
      },
      "outputs": [],
      "source": [
        "classes = {\"Geometry\", \"Music\", \"French\"}\n",
        "\n",
        "if \"History\" in classes:\n",
        "  classes.remove(\"History\")\n",
        "\n",
        "print(classes)"
      ]
    },
    {
      "cell_type": "markdown",
      "metadata": {
        "id": "r43qVDI0tF5P"
      },
      "source": [
        "***Transformando uma lista em conjunto***\n",
        "Utilizamos em uma lista, ele nos retorna os valores exclusivos de uma lista, sem duplicidades."
      ]
    },
    {
      "cell_type": "code",
      "execution_count": null,
      "metadata": {
        "id": "WdaacmqutaIY"
      },
      "outputs": [],
      "source": [
        "\n",
        "# Criando uma lista\n",
        "ingredientes_lista = [\n",
        "\"brocolis\", \"leite\",\n",
        "\"cereais\", \"leite\"\n",
        "]\n",
        "# Transformando em um conjunto com a função 'set()' e entre parenteses o nome da lista.\n",
        "print(set(ingredientes_lista))\n",
        "\n",
        "# Salvando o resultado em uma variável\n",
        "conj_ingredientes = set(ingredientes_lista)\n",
        "print (conj_ingredientes)"
      ]
    },
    {
      "cell_type": "code",
      "execution_count": null,
      "metadata": {
        "id": "gjl1-nEE-0l5"
      },
      "outputs": [],
      "source": [
        "# Exemplo 2, eliminando duplicidade da lista\n",
        "carro = [\"gol\", \"voyagem\", \"corsa\", \"gol\", \"voyagem\"]\n",
        "\n",
        "# Transformando lista em conjunto 'set()'\n",
        "nome_carros=set(carro)\n",
        "print(nome_carros)\n",
        "\n",
        "# Transformando o conjunto em lista 'list()'\n",
        "carro_lista=list(nome_carros)\n",
        "print(carro_lista)"
      ]
    },
    {
      "cell_type": "markdown",
      "metadata": {
        "id": "Mi5OyD9lMuHu"
      },
      "source": [
        "**Utilizando a instrução 'len()'**\n",
        "\n",
        "Podemos saber o tamanho do conjunto com a instrução 'len()' com o conjunto entre parenteses. Veja:"
      ]
    },
    {
      "cell_type": "code",
      "execution_count": null,
      "metadata": {
        "id": "XNagdse8NNRr"
      },
      "outputs": [],
      "source": [
        "\n",
        "friends = {\"Emma\", \"Jen\", \"Rob\", \"Ed\"}\n",
        "print(len(friends))\n",
        "\n",
        "amigos = {\"pri\", \"handsson\", \"hudson\", \"davi\", \"felipe\", \"cesar\", \"meire\", \"stefani\", \"taiane\", \"cassio\", \"bololo\"}\n",
        "#utilizando a instrução 'len()' no print().\n",
        "print(len(amigos))\n",
        "\n",
        "# Exemplos de utilização da instrução 'len()'.\n",
        "quant_amigos=len(amigos)\n",
        "print(quant_amigos)\n",
        "\n",
        "#Verificando o tipo do valor\n",
        "quant = type(quant_amigos)\n",
        "print(quant)"
      ]
    },
    {
      "cell_type": "markdown",
      "metadata": {
        "id": "mq_0Ql_jPYTT"
      },
      "source": [
        "**❗SubConjuntos do Conjunto**\n",
        "\n",
        "Quando todos os elementos de um conjunto como 'chat', estão presentes em outro conjunto como 'amigos', dizemos que ele é um 'SubConjunto' de 'amigos'. Veja"
      ]
    },
    {
      "cell_type": "markdown",
      "metadata": {
        "id": "7uSekIW-Qiks"
      },
      "source": [
        "❗Utilizando a instrução **'issubset()'**. **chat.issubset(amigos)**\n",
        "_SubConjunto.issubset(Conjunto)_\n",
        "\n",
        "🚩**O resultado é um valor BOOLEANO.**\n",
        "Veja:"
      ]
    },
    {
      "cell_type": "code",
      "execution_count": null,
      "metadata": {
        "id": "5lz3O_GRQCke"
      },
      "outputs": [],
      "source": [
        "amigos = {\"davi\", \"diego\", \"alex\"}\n",
        "chat = {\"davi\", \"diego\"}\n",
        "print(chat.issubset(amigos))"
      ]
    },
    {
      "cell_type": "markdown",
      "metadata": {
        "id": "oyrwdCXr9dzo"
      },
      "source": [
        "❗**Utilizando a instrução '.difference()'**\n",
        "\n",
        "Para obter um conjunto de elementos que estão presente no conjunto 'colega_classe', mas não no conjunto 'amigos', usamos a instrução '.difference()'."
      ]
    },
    {
      "cell_type": "code",
      "execution_count": null,
      "metadata": {
        "id": "IHJYZxkLCvYN"
      },
      "outputs": [],
      "source": [
        "colega_classe ={\"Carlos\", \"Adriano\", \"Diego\", \"Davi\", \"Rafael\", \"Felipe\"}\n",
        "amigos ={\"Carlos\", \"Adriano\", \"Diego\"}\n",
        "diferente=colega_classe.difference(amigos)\n",
        "print(diferente)"
      ]
    },
    {
      "cell_type": "markdown",
      "metadata": {
        "id": "elCP9WPgvIGp"
      },
      "source": [
        "##**Compressão de Listas** 🗜\n",
        "\n",
        "***Obs: Só podemos utilizar *função* que possuem a instrução *Return****"
      ]
    },
    {
      "cell_type": "markdown",
      "metadata": {
        "id": "6LwoxowGyziT"
      },
      "source": [
        "###**Compressão de lista** com o loop **FOR**"
      ]
    },
    {
      "cell_type": "code",
      "execution_count": null,
      "metadata": {
        "id": "EnAcMklCvhZj"
      },
      "outputs": [],
      "source": [
        "\n",
        "#EXEMPLO DE LISTA NORMAL\n",
        "\n",
        "#Lista com valores\n",
        "precos = [10,20,30,40,50,60,70,80,90,100]\n",
        "\n",
        "#Lista vazia que receberá os valores divididos\n",
        "resultado_precos=[]\n",
        "\n",
        "#Loop para percorrer a lista 'precos'\n",
        "for preco in precos:\n",
        "  divisao = preco/2 #Dividindo cada valor recebido da lista 'precos' e salvando na variável 'divisao'.\n",
        "  resultado_precos.append(divisao) #Enviando cada valor armazenado na variável 'divisao' na lista 'resultado_precos'.\n",
        "\n",
        "#Exibindo a lista 'resultado_precos\n",
        "print(resultado_precos)"
      ]
    },
    {
      "cell_type": "markdown",
      "metadata": {
        "id": "mP33eLka1-Tv"
      },
      "source": [
        "❗**Exemplo 1** - Lista comprimida"
      ]
    },
    {
      "cell_type": "code",
      "execution_count": null,
      "metadata": {
        "id": "eSpXbN0GvxC6"
      },
      "outputs": [],
      "source": [
        "#EXEMPLO DE LISTA COMPRIMIDA\n",
        "#Lista com valores\n",
        "precos = [10,20,30,40,50,60,70,80,90,100]\n",
        "\n",
        "#Comprimindo dentro da lista 'resultado_precos'\n",
        "#Dentro da lista primeiro dividimos por 2 a variável 'preco' criada na operação\n",
        "#iteramos 'for' cada valor da lista para 'preco'\n",
        "#Lemos - Dividir preço por 2 pra cada preço na lista preços e armazenamos na lista.\n",
        "resultado_precos = [preco / 2 for preco in precos]\n",
        "\n",
        "\n",
        "#Exibindo a lista 'resultado_precos\n",
        "print(resultado_precos)"
      ]
    },
    {
      "cell_type": "markdown",
      "metadata": {
        "id": "0E0zTLwM2SSu"
      },
      "source": [
        "**Exemplo 2** - Compressão de lista"
      ]
    },
    {
      "cell_type": "code",
      "execution_count": null,
      "metadata": {
        "id": "O6c8DJtZ2cVL"
      },
      "outputs": [],
      "source": [
        "temperatura =[20,35,24,38,39,30]\n",
        "bangu_temp = [termometro + 4 for termometro in temperatura]\n",
        "print(bangu_temp)"
      ]
    },
    {
      "cell_type": "markdown",
      "metadata": {
        "id": "ftTeKEGj3q7B"
      },
      "source": [
        "**Exemplo 3 -** Compressão de Lista\n",
        "Retirando o lucro de uma lista de produtos."
      ]
    },
    {
      "cell_type": "code",
      "execution_count": null,
      "metadata": {
        "colab": {
          "base_uri": "https://localhost:8080/"
        },
        "id": "eNeRp1G14NVO",
        "outputId": "da8506ce-d5b2-4184-d39f-8379e7e678b4"
      },
      "outputs": [
        {
          "name": "stdout",
          "output_type": "stream",
          "text": [
            "O valor do lucro do mouse é R$3.00\n",
            "O valor do lucro do Teclado é R$5.00\n",
            "O valor do lucro do Monitor é R$30.00\n",
            "O valor do lucro do Placa de vídeo é R$60.00\n",
            "O valor do lucro do mouse é R$3.00\n",
            "O valor do lucro do Teclado é R$5.00\n",
            "O valor do lucro do Monitor é R$30.00\n",
            "O valor do lucro do Placa de vídeo é R$60.00\n"
          ]
        }
      ],
      "source": [
        "info_produtos = {\n",
        "    \"mouse\": 15,\n",
        "    \"Teclado\": 25,\n",
        "    \"Monitor\": 150,\n",
        "    \"Placa de video\": 300\n",
        "}\n",
        "valores = list(info_produtos.values())\n",
        "lucro = [preco * 0.20 for preco in valores]\n",
        "\n",
        "for produto, lucro in lucros.items():\n",
        "  print(f\"O valor do lucro do {produto} é R${lucro:.2f}\")\n",
        "\n",
        "info_produtos = {\n",
        "    \"mouse\": 15,\n",
        "    \"Teclado\": 25,\n",
        "    \"Monitor\": 150,\n",
        "    \"Placa de vídeo\": 300\n",
        "}\n",
        "\n",
        "# Calculando o lucro de cada produto\n",
        "lucros = {produto: preco * 0.20 for produto, preco in info_produtos.items()}\n",
        "\n",
        "# Exibindo os lucros de cada produto\n",
        "for produto, lucro in lucros.items():\n",
        "  print(f\"O valor do lucro do {produto} é R${lucro:.2f}\")"
      ]
    },
    {
      "cell_type": "markdown",
      "metadata": {
        "id": "8uHi3fYJZ7P9"
      },
      "source": [
        "❗**Exemplo 4** - Compressão com *Função*❗\n",
        ">Podemos escolher as operações que podemos utilizar a cada valor de preço com a função e usala como uma expressão."
      ]
    },
    {
      "cell_type": "code",
      "execution_count": null,
      "metadata": {
        "id": "sMNWgCyuaETd"
      },
      "outputs": [],
      "source": [
        "#Criamos uma lista com precos\n",
        "precos = [10,22,30,40,58,62]\n",
        "\n",
        "#Criamos uma Função de Divisão\n",
        "def dividir(numero):\n",
        "  return numero/2\n",
        "\n",
        "#Comprimimos a lista que será dividida com a função de divisao\n",
        "#Lemos: Dentro da Lista 'Divisao' a gente chama a função dividir com o parâmetro preco e depois iteramos o loop for para cada preco 'in' na lista preços.\n",
        "divisao = [dividir(preco) for preco in precos]\n",
        "print(divisao)"
      ]
    },
    {
      "cell_type": "markdown",
      "metadata": {
        "id": "am1GVrNYiIEF"
      },
      "source": [
        "**Exemplo 5** - Usando funções para descontar **IMPOSTO**.\n",
        "> Funções também são úteis quando queremos aplicar mais expressões, como retirar o valor do imposto antes de reduzir o preço pela metade."
      ]
    },
    {
      "cell_type": "code",
      "execution_count": null,
      "metadata": {
        "colab": {
          "base_uri": "https://localhost:8080/"
        },
        "id": "coE_b0LOi_EC",
        "outputId": "bb4f6843-e84b-4e70-f9cb-0ec370f07e3f"
      },
      "outputs": [
        {
          "name": "stdout",
          "output_type": "stream",
          "text": [
            "[4.25, 9.35, 12.75, 17.0, 24.65, 26.349999999999998]\n"
          ]
        }
      ],
      "source": [
        "#Criamos uma lista com precos\n",
        "precos = [10,22,30,40,58,62]\n",
        "\n",
        "#Criamos uma Função de Divisão\n",
        "def dividir(numero):\n",
        "#Expressão para Descontar o valor de 8,5% de imposto antes de dividir pela metade.\n",
        "#Descontamos a porcentagem e armazenamos em uma variável e depois retornamos a variável.\n",
        "  no_tax = 0.85 * numero\n",
        "  return no_tax/2\n",
        "\n",
        "#Comprimimos a lista que será dividida com a função de divisao\n",
        "#Lemos: Dentro da Lista 'Divisao' a gente chama a função dividir com o parâmetro preco e depois iteramos o loop for para cada preco 'in' na lista preços.\n",
        "divisao = [dividir(preco) for preco in precos]\n",
        "print(divisao)"
      ]
    },
    {
      "cell_type": "markdown",
      "metadata": {
        "id": "n4nIfheqnJFS"
      },
      "source": [
        "**Exemplo 6** - Utilizando o Fatiamento **'split(\" \")**"
      ]
    },
    {
      "cell_type": "code",
      "execution_count": null,
      "metadata": {
        "id": "9ju9MyiHnXm8"
      },
      "outputs": [],
      "source": [
        "autor = [\"Juan vincent\",\"Frederic Stephan\"]\n",
        "\n",
        "#Criando uma função que fatia uma lista e adiciona (, )\n",
        "def adicionar_carac (nome):\n",
        "# Dividir o nome em uma lista com a função .split(\"\")\n",
        "  parts = nome.split(\" \")\n",
        "  return parts[1] + \", \" + parts[0]\n",
        "\n",
        "#Comprimindo a lista e iterando e fatiado.\n",
        "atualizar_atores =[adicionar_carac(nome) for nome in autor]\n",
        "print (atualizar_atores)"
      ]
    },
    {
      "cell_type": "markdown",
      "metadata": {
        "id": "rh4LDhMxaJXU"
      },
      "source": [
        "**Exemplo 7** - Utilizando a função **.count()** para verificar se existe determinado valor."
      ]
    },
    {
      "cell_type": "code",
      "execution_count": null,
      "metadata": {
        "colab": {
          "base_uri": "https://localhost:8080/"
        },
        "id": "lsNaue85aqUB",
        "outputId": "944ffc41-d6e4-47cf-834c-619d6c0792a0"
      },
      "outputs": [
        {
          "name": "stdout",
          "output_type": "stream",
          "text": [
            "[True, False, False, False, True]\n"
          ]
        }
      ],
      "source": [
        "palavras = [\"maca\",\"pera\",\"uva\",\"banana\",\"jaca\"]\n",
        "\n",
        "#Função para verificar se tem 2 \"a's\". Com o parâmetro palavra para receber um valor e operar.\n",
        "def tem_dois_a(palavra):\n",
        "#Salvamos o resultado de \".count()\" que é contar quantos determinados elementos tem o valor.\n",
        "  quant = palavra.count(\"a\")\n",
        "#Retornamos o valor para função sempre que queremos utilizar esse resultado em outro lugar.\n",
        "  return quant == 2\n",
        "#Compressão da lista com a função de contagem.\n",
        "duplo_a=[tem_dois_a(palavra) for palavra in palavras]\n",
        "print (duplo_a)"
      ]
    },
    {
      "cell_type": "markdown",
      "metadata": {
        "id": "lMriDpyXeGuc"
      },
      "source": [
        "**Exemplo 8** - Utilizando do operador **>** para verificar se o valor é maior que."
      ]
    },
    {
      "cell_type": "code",
      "execution_count": null,
      "metadata": {
        "colab": {
          "base_uri": "https://localhost:8080/"
        },
        "id": "ZIgEpNW4eb81",
        "outputId": "cafc95fa-e8a1-4fee-e85c-6e8cf056b99f"
      },
      "outputs": [
        {
          "name": "stdout",
          "output_type": "stream",
          "text": [
            "[False, False, False, False, True]\n"
          ]
        }
      ],
      "source": [
        "pontuacao = [50,60,70,80,85]\n",
        "\n",
        "def bonus(pontos):\n",
        "  com_bonus = pontos+10\n",
        "  return com_bonus > 90\n",
        "\n",
        "tem_bonus=[bonus(pontos) for pontos in pontuacao]\n",
        "print(tem_bonus)"
      ]
    },
    {
      "cell_type": "markdown",
      "metadata": {
        "id": "kojuOJ3_j7Nd"
      },
      "source": [
        "###**Compressão de lista** com loop **FOR** e com Condicional **IF**.\n",
        ">Podemos usar a compressao de lista para criar uma nova lista e filtrando elementos de uma lista existente."
      ]
    },
    {
      "cell_type": "markdown",
      "metadata": {
        "id": "CrUzdFelk1V0"
      },
      "source": [
        "**Exemplo 1** - comprimindo, iterando e utilizando o operador **IF** para filtrar elemento e criar uma nova lista."
      ]
    },
    {
      "cell_type": "code",
      "execution_count": null,
      "metadata": {
        "id": "JjgKGz12lQFi"
      },
      "outputs": [],
      "source": [
        "pontuacao = [10,20,30,40,50,60,70]\n",
        "#Criando uma nova lista com as pontuações altas.\n",
        "#Variavel do loop, para cada variável do loop em(in) pontuacao se(if) variável do loop for maior que(>) 30.\n",
        "alta_pontuacao = [pontos for pontos in pontuacao if pontos > 30]\n",
        "\n",
        "print(alta_pontuacao)"
      ]
    },
    {
      "cell_type": "markdown",
      "metadata": {
        "id": "BWDoY4hAsKOh"
      },
      "source": [
        "**Exemplo 2** - Condicionais **IF** e Operadores **AND** e **>=**."
      ]
    },
    {
      "cell_type": "code",
      "execution_count": null,
      "metadata": {
        "colab": {
          "background_save": true,
          "base_uri": "https://localhost:8080/",
          "height": 575
        },
        "id": "MGlK_6tFsMwZ",
        "outputId": "0c61e34f-2bba-4b8a-d159-30a0df0a9aaa"
      },
      "outputs": [
        {
          "name": "stdout",
          "output_type": "stream",
          "text": [
            "[40, 35]\n"
          ]
        },
        {
          "ename": "NameError",
          "evalue": "ignored",
          "output_type": "error",
          "traceback": [
            "\u001b[0;31m---------------------------------------------------------------------------\u001b[0m",
            "\u001b[0;31mNameError\u001b[0m                                 Traceback (most recent call last)",
            "\u001b[0;32m<ipython-input-4-04f5251a0a59>\u001b[0m in \u001b[0;36m<cell line: 6>\u001b[0;34m()\u001b[0m\n\u001b[1;32m      4\u001b[0m \u001b[0;34m\u001b[0m\u001b[0m\n\u001b[1;32m      5\u001b[0m \u001b[0mhumanidade_porcento\u001b[0m \u001b[0;34m=\u001b[0m \u001b[0;34m[\u001b[0m\u001b[0;36m40\u001b[0m\u001b[0;34m,\u001b[0m\u001b[0;36m35\u001b[0m\u001b[0;34m,\u001b[0m\u001b[0;36m20\u001b[0m\u001b[0;34m,\u001b[0m\u001b[0;36m70\u001b[0m\u001b[0;34m]\u001b[0m\u001b[0;34m\u001b[0m\u001b[0;34m\u001b[0m\u001b[0m\n\u001b[0;32m----> 6\u001b[0;31m \u001b[0mporcento\u001b[0m \u001b[0;34m=\u001b[0m \u001b[0;34m[\u001b[0m\u001b[0mnível\u001b[0m \u001b[0;32mfor\u001b[0m \u001b[0mnível\u001b[0m \u001b[0;32min\u001b[0m \u001b[0mhumanidade_porcento\u001b[0m \u001b[0;32mif\u001b[0m \u001b[0mlevel\u001b[0m \u001b[0;34m>=\u001b[0m \u001b[0;36m30\u001b[0m \u001b[0;32mand\u001b[0m \u001b[0mlevel\u001b[0m \u001b[0;34m<=\u001b[0m\u001b[0;36m50\u001b[0m\u001b[0;34m]\u001b[0m\u001b[0;34m\u001b[0m\u001b[0;34m\u001b[0m\u001b[0m\n\u001b[0m\u001b[1;32m      7\u001b[0m \u001b[0mprint\u001b[0m\u001b[0;34m(\u001b[0m\u001b[0mporcento\u001b[0m\u001b[0;34m)\u001b[0m\u001b[0;34m\u001b[0m\u001b[0;34m\u001b[0m\u001b[0m\n",
            "\u001b[0;32m<ipython-input-4-04f5251a0a59>\u001b[0m in \u001b[0;36m<listcomp>\u001b[0;34m(.0)\u001b[0m\n\u001b[1;32m      4\u001b[0m \u001b[0;34m\u001b[0m\u001b[0m\n\u001b[1;32m      5\u001b[0m \u001b[0mhumanidade_porcento\u001b[0m \u001b[0;34m=\u001b[0m \u001b[0;34m[\u001b[0m\u001b[0;36m40\u001b[0m\u001b[0;34m,\u001b[0m\u001b[0;36m35\u001b[0m\u001b[0;34m,\u001b[0m\u001b[0;36m20\u001b[0m\u001b[0;34m,\u001b[0m\u001b[0;36m70\u001b[0m\u001b[0;34m]\u001b[0m\u001b[0;34m\u001b[0m\u001b[0;34m\u001b[0m\u001b[0m\n\u001b[0;32m----> 6\u001b[0;31m \u001b[0mporcento\u001b[0m \u001b[0;34m=\u001b[0m \u001b[0;34m[\u001b[0m\u001b[0mnível\u001b[0m \u001b[0;32mfor\u001b[0m \u001b[0mnível\u001b[0m \u001b[0;32min\u001b[0m \u001b[0mhumanidade_porcento\u001b[0m \u001b[0;32mif\u001b[0m \u001b[0mlevel\u001b[0m \u001b[0;34m>=\u001b[0m \u001b[0;36m30\u001b[0m \u001b[0;32mand\u001b[0m \u001b[0mlevel\u001b[0m \u001b[0;34m<=\u001b[0m\u001b[0;36m50\u001b[0m\u001b[0;34m]\u001b[0m\u001b[0;34m\u001b[0m\u001b[0;34m\u001b[0m\u001b[0m\n\u001b[0m\u001b[1;32m      7\u001b[0m \u001b[0mprint\u001b[0m\u001b[0;34m(\u001b[0m\u001b[0mporcento\u001b[0m\u001b[0;34m)\u001b[0m\u001b[0;34m\u001b[0m\u001b[0;34m\u001b[0m\u001b[0m\n",
            "\u001b[0;31mNameError\u001b[0m: name 'level' is not defined"
          ]
        }
      ],
      "source": [
        "humidity_percent = [40, 35, 20, 70]\n",
        "ideal = [level for level in humidity_percent if level >= 30 and level <= 50]\n",
        "print(ideal)\n",
        "\n",
        "humanidade_porcento = [40,35,20,70]\n",
        " = [nível for nível in humanidade_porcento if level >= 30 and level <=50]\n",
        "print(ideal)"
      ]
    },
    {
      "cell_type": "markdown",
      "metadata": {
        "id": "qd0i6MD1r45Y"
      },
      "source": [
        "###🚩***EXERCICIOS E PRATICAS VARIADAS***🚩"
      ]
    },
    {
      "cell_type": "markdown",
      "metadata": {
        "id": "TsOh8a_7sVju"
      },
      "source": [
        "***Exemplo de Divisão e manipulação de Listas e Loop 'for'***"
      ]
    },
    {
      "cell_type": "code",
      "execution_count": null,
      "metadata": {
        "id": "fb4Cb8cjsRRl"
      },
      "outputs": [],
      "source": [
        "\n",
        "#Lista com valores\n",
        "precos = [10,20,30,40,50,60,70,80,90,100]\n",
        "\n",
        "#Lista vazia que receberá os valores divididos\n",
        "resultado_precos=[]\n",
        "\n",
        "#Loop para percorrer a lista 'precos'\n",
        "for preco in precos:\n",
        "  divisao = preco/2 #Dividindo cada valor recebido da lista 'precos' e salvando na variável 'divisao'.\n",
        "  resultado_precos.append(divisao) #Enviando cada valor armazenado na variável 'divisao' na lista 'resultado_precos'.\n",
        "\n",
        "#Exibindo a lista 'resultado_precos\n",
        "print(resultado_precos)"
      ]
    },
    {
      "cell_type": "markdown",
      "metadata": {
        "id": "JIqzydG5xDtN"
      },
      "source": [
        "##**Lambda**"
      ]
    },
    {
      "cell_type": "markdown",
      "metadata": {
        "id": "C0UcCwcMtlPl"
      },
      "source": [
        "#**SQL** com o App **MIMO🤖**"
      ]
    },
    {
      "cell_type": "markdown",
      "metadata": {
        "id": "LnG4YLkz-My-"
      },
      "source": [
        "##***SQL BÁSICO*** 📁"
      ]
    },
    {
      "cell_type": "markdown",
      "source": [
        "###**Linhas e Colunas**"
      ],
      "metadata": {
        "id": "hZydh8lUS70T"
      }
    },
    {
      "cell_type": "markdown",
      "source": [
        "***SQL, ou Structured Query Language***, é uma linguagem de programação projetada para gerenciar e manipular bancos de dados relacionais. Ela permite que você execute operações como *inserção*, *atualização*, *exclusão* e *consulta de dados* em um banco de dados.\n",
        "\n",
        "***Linhas e colunas*** são conceitos fundamentais em bancos de *dados relacionais*. Uma tabela em um banco de dados é organizada em linhas e colunas. Cada linha representa uma entrada ou registro único na tabela, enquanto cada coluna contém um tipo específico de informação sobre esses registros.\n",
        "\n",
        "Por exemplo, se tivermos uma tabela \"*Clientes*\", cada linha pode representar um cliente individual, e as colunas podem incluir informações como \"*Nome*\", \"*Idade*\", \"*Endereço*\" e assim por diante. Dessa forma, as linhas contêm dados específicos para cada **entidade**, e as colunas representam os diferentes **atributos** ou características desses dados."
      ],
      "metadata": {
        "id": "QY83BQQTTBKG"
      }
    },
    {
      "cell_type": "markdown",
      "source": [
        "###***Selecionando Dados*** ✔\n",
        "_SELECT_ - Seleciona\n",
        "\n",
        "_FROM_ - Seleciona a Tabela"
      ],
      "metadata": {
        "id": "4SELLPEsVZHF"
      }
    },
    {
      "cell_type": "markdown",
      "source": [
        "Selecionar dados em SQL é como pedir informações específicas de uma tabela em um banco de dados. Para isso, utilizamos a cláusula `SELECT`. Vamos usar um exemplo simples:\n",
        "\n",
        "Suponha que temos uma tabela chamada \"Produtos\" com as colunas \"Nome\", \"Preço\" e \"Categoria\". Se quisermos selecionar o nome e o preço de todos os produtos, a consulta seria assim:\n",
        "\n",
        "```sql\n",
        "SELECT Nome, Preço FROM Produtos;\n",
        "```\n",
        "\n",
        "Essa consulta diz ao banco de dados para nos dar os dados das colunas \"Nome\" e \"Preço\" da tabela \"Produtos\". O resultado seria uma lista desses dados.\n",
        "\n",
        "Se quisermos todos os dados de todas as colunas, podemos simplesmente usar:\n",
        "\n",
        "```sql\n",
        "SELECT * FROM Produtos;\n",
        "```\n",
        "\n",
        "O asterisco (`*`) significa \"todas as colunas\". Essa consulta nos traria todos os produtos com todas as informações disponíveis na tabela.\n",
        "\n",
        "Então, a ideia é que você especifica quais colunas deseja ver e de qual tabela, usando o `SELECT`. É como pedir ao banco de dados para mostrar apenas as informações que você precisa."
      ],
      "metadata": {
        "id": "YOBV6qS0V7TY"
      }
    },
    {
      "cell_type": "markdown",
      "source": [
        "####***Selecionando Dados***"
      ],
      "metadata": {
        "id": "tDyZ0tNOZov6"
      }
    },
    {
      "cell_type": "markdown",
      "source": [
        "\n",
        "**Tabela Produtos**\n",
        "\n",
        "| ID | Nome       | Preco | Categoria   |\n",
        "|----|------------|-------|-------------|\n",
        "| 1  | Produto A  | 19.99 | Eletrônicos |\n",
        "| 2  | Produto B  | 29.99 | Roupas      |\n",
        "| 3  | Produto C  | 9.99  | Alimentos   |\n",
        "\n",
        "**SELECT** - Seleciona\n",
        "\n",
        "**nome, preco** - São as colunas\n",
        "\n",
        "**FROM** - Selecionando a tabela\n",
        "\n",
        "**produtos** - nome da tabela\n",
        "\n",
        "```sql\n",
        "SELECT nome, preco\n",
        "FROM produtos;\n",
        "```"
      ],
      "metadata": {
        "id": "_tfChkUkW8n3"
      }
    },
    {
      "cell_type": "markdown",
      "source": [
        "###***Dados de Pedidos***\n",
        "***ORDER BY***\n",
        "\n",
        "❗Organiza texto em ordem alfabetica.\n",
        "\n",
        "❗Odganiza números em ordem numérica.\n",
        "\n",
        "***ASC*** - Ordem Crescente.\n",
        "\n",
        "***DESC*** - Ordem Descresente."
      ],
      "metadata": {
        "id": "J7wyu-WKaQKf"
      }
    },
    {
      "cell_type": "markdown",
      "source": [
        "A compreensão dos Dados é mais fácil quando os itens estão organizados utilizando a função ORDER BY.\n",
        "\n",
        "**Tabela Pacientes**\n",
        "\n",
        "| ID | Nome       | Idade |\n",
        "|----|------------|-------|\n",
        "| 1  | Brito      |  19   |\n",
        "| 2  | Santos     |  60   |\n",
        "| 3  | Ale        |  25   |\n",
        "\n",
        "***Exemplo***\n",
        "\n",
        "**SELECT** - Seleciona\n",
        "\n",
        "**`*`**- Selecionando todos os itens da tabela pacientes.\n",
        "\n",
        "**FROM** - Selecionando a tabela\n",
        "\n",
        "**produtos** - nome da tabela\n",
        "\n",
        "**ORDER BY** - Ordenando, organizando a seleção\n",
        "\n",
        "**nome** - Selecionando a coluna que desejamos ordenar.\n",
        "\n",
        "\n",
        "```sql\n",
        "SELECT *\n",
        "FROM pacientes\n",
        "ORDER BY nome;\n",
        "```\n",
        "\n",
        "| ID | Nome       | Idade |\n",
        "|----|------------|-------|\n",
        "| 1  | Ale        |  19   |\n",
        "| 2  | Brito      |  60   |\n",
        "| 3  | Santos     |  25   |\n",
        "\n",
        "\n",
        "\n",
        "Para ordenar de também podemos utilizar a palavra chave `ASC` no final.\n",
        "Dando o mesmo Resultado da consulta acima. Veja aqui o ***Exemplo de utilização:***\n",
        "\n",
        "```sql\n",
        "SELECT *\n",
        "FROM pascientes\n",
        "ORDER BY nome ASC;\n",
        "```\n",
        "\n",
        "Para ordenar os item em ordem *Decrescente* utilizamos a palavra chave `DESC` no final.\n",
        "Veja aqui o ***Exemplo de utilização:***\n",
        "\n",
        "```sql\n",
        "SELECT *\n",
        "FROM pacientes\n",
        "ORDER BY nome DESC;\n",
        "```\n",
        "\n",
        "| ID | Nome       | Idade |\n",
        "|----|------------|-------|\n",
        "| 1  | Santos     |  19   |\n",
        "| 2  | Brito      |  60   |\n",
        "| 3  | Ale        |  25   |"
      ],
      "metadata": {
        "id": "dWnJ70__aYwL"
      }
    },
    {
      "cell_type": "markdown",
      "source": [
        "###***Filtrando Dados***\n",
        "***WHERE*** - É usado para aplicar condições a uma consulta SQL, limitando os resultados às linhas que atendem a essas condições."
      ],
      "metadata": {
        "id": "csj1eHdMknf5"
      }
    },
    {
      "cell_type": "markdown",
      "source": [
        "- Pode ser usado em comandos como `SELECT`, `UPDATE`, `DELETE`, etc.\n",
        "- Condições podem incluir comparações, operadores lógicos e funções.\n",
        "\n",
        "**Exemplo:**\n",
        "Considere uma tabela \"pessoa\" com colunas `id`, `nome`, e `idade`. Vamos usar a cláusula `WHERE` para selecionar apenas as pessoas com idade superior a 25 anos.\n",
        "\n",
        "```sql\n",
        "-- Exemplo de SELECT com WHERE\n",
        "SELECT id, nome, idade\n",
        "FROM pessoa\n",
        "WHERE idade > 25;\n",
        "```\n",
        "\n",
        "Este comando SQL retorna todas as colunas (`id`, `nome`, e `idade`) da tabela \"pessoa\" apenas para as linhas em que a idade é maior que 25. A cláusula `WHERE` é fundamental para filtrar dados conforme necessário em consultas SQL.\n",
        "\n",
        "***Exemplo de utilização***\n",
        "\n",
        "**Tabela Membros**\n",
        "\n",
        "| nome           | email                     | tipo         |\n",
        "| -------------- | ------------------------- | -----------  |\n",
        "| João Silva     | joao.silva@example.com    | Regular      |\n",
        "| Maria Oliveira | maria.oliveira@example.com | Premium     |\n",
        "| Carlos Lima    | carlos.lima@example.com    | Regular     |\n",
        "| Ana Santos     | ana.santos@example.com     | Premium     |\n",
        "\n",
        "Filtrando com a palavra-chave com `WHERE`.\n",
        "\n",
        "```sql\n",
        "SELECT *\n",
        "FROM membros\n",
        "WHERE tipo = 'regular';\n",
        "```"
      ],
      "metadata": {
        "id": "qSt1C2O-ktMU"
      }
    },
    {
      "cell_type": "markdown",
      "source": [
        "### ***DISTINCT***\n",
        "`DISTINCT` é usado para obter valores únicos em uma consulta *SQL*. Ele opera em uma ou mais colunas especificadas após a palavra-chave `SELECT`.Remove duplicatas dos resultados retornados pela consulta."
      ],
      "metadata": {
        "id": "koc_7lB4ekUW"
      }
    },
    {
      "cell_type": "markdown",
      "source": [
        ".- Remove duplicatas dos resultados retornados pela consulta.\n",
        "\n",
        "**Exemplos:**\n",
        "Considere uma tabela \"frutas\" com uma coluna chamada \"nome\". Vejamos alguns exemplos:\n",
        "\n",
        "1. **Selecionar valores únicos de uma coluna:**\n",
        "   ```sql\n",
        "   SELECT DISTINCT nome FROM frutas;\n",
        "   ```\n",
        "   Isso retorna todos os valores únicos da coluna \"nome\" na tabela \"frutas\".\n",
        "\n",
        "2. **Selecionar valores únicos de múltiplas colunas:**\n",
        "   ```sql\n",
        "   SELECT DISTINCT nome, cor FROM frutas;\n",
        "   ```\n",
        "   Isso retorna combinações únicas de valores das colunas \"nome\" e \"cor\" na tabela \"frutas\".\n",
        "\n",
        "Lembre-se de que `DISTINCT` opera nas colunas específicas que você fornece após `SELECT`. Se você usar `DISTINCT` em várias colunas, ele considerará a combinação única dessas colunas para determinar a unicidade."
      ],
      "metadata": {
        "id": "lo_QsKxvimVQ"
      }
    },
    {
      "cell_type": "markdown",
      "source": [
        "###***OPERADORES***"
      ],
      "metadata": {
        "id": "Gr2IVgFWu6Se"
      }
    },
    {
      "cell_type": "markdown",
      "source": [
        "Os operadores em SQL são utilizados em consultas para realizar operações em valores ou expressões. Aqui estão alguns dos operadores mais comuns em SQL:\n",
        "\n",
        "1. **Operadores Aritméticos:**\n",
        "   - `+` (adição)\n",
        "   - `-` (subtração)\n",
        "   - `*` (multiplicação)\n",
        "   - `/` (divisão)\n",
        "\n",
        "   Exemplo:\n",
        "   ```sql\n",
        "   SELECT salario + bonus AS salario_total FROM funcionarios;\n",
        "   ```\n",
        "\n",
        "2. **Operadores de Comparação:**\n",
        "   - `=` (igual)\n",
        "   - `<>` ou `!=` (diferente)\n",
        "   - `<` (menor que)\n",
        "   - `>` (maior que)\n",
        "   - `<=` (menor ou igual a)\n",
        "   - `>=` (maior ou igual a)\n",
        "\n",
        "   Exemplo:\n",
        "   ```sql\n",
        "   SELECT nome FROM clientes WHERE idade >= 18;\n",
        "   ```\n",
        "\n",
        "3. **Operadores Lógicos:**\n",
        "   - `AND` (e lógico)\n",
        "   - `OR` (ou lógico)\n",
        "   - `NOT` (negação lógica)\n",
        "\n",
        "   Exemplo:\n",
        "   ```sql\n",
        "   SELECT nome, idade FROM funcionarios WHERE departamento = 'Vendas' AND salario > 50000;\n",
        "   ```\n",
        "\n",
        "4. **Operadores de Concatenação:**\n",
        "   - `||` (no PostgreSQL e alguns outros sistemas)\n",
        "   - `CONCAT()` (no MySQL, SQL Server, etc.)\n",
        "\n",
        "   Exemplo:\n",
        "   ```sql\n",
        "   SELECT CONCAT(primeiro_nome, ' ', ultimo_nome) AS nome_completo FROM clientes;\n",
        "   ```\n",
        "\n",
        "5. **Operador LIKE (para padrões de string):**\n",
        "   - `LIKE` (para buscar padrões em strings, pode incluir `%` como curinga)\n",
        "\n",
        "   Exemplo:\n",
        "   ```sql\n",
        "   SELECT nome FROM produtos WHERE nome LIKE 'Camisa%';\n",
        "   ```\n",
        "\n",
        "6. **Operador IN (para correspondência em uma lista):**\n",
        "   - `IN`\n",
        "\n",
        "   Exemplo:\n",
        "   ```sql\n",
        "   SELECT nome FROM produtos WHERE categoria IN ('Eletrônicos', 'Roupas', 'Calçados');\n",
        "   ```\n",
        "\n",
        "Esses são apenas alguns dos operadores disponíveis em SQL. A escolha do operador depende da operação específica que você deseja realizar em seus dados."
      ],
      "metadata": {
        "id": "GHsnV7iovEfL"
      }
    },
    {
      "cell_type": "markdown",
      "source": [
        "##***Gerenciamento de Tabelas***"
      ],
      "metadata": {
        "id": "UAIUIsPbDN3o"
      }
    },
    {
      "cell_type": "markdown",
      "source": [
        "### **Adicionando e Removendo Dados**"
      ],
      "metadata": {
        "id": "pfXtDZclDV6z"
      }
    },
    {
      "cell_type": "markdown",
      "source": [
        "**`INSERT INTO`**\n",
        "\n",
        "é usado para adicionar dados a uma tabela. A cláusula `VALUES` especifica os valores a serem inseridos nas colunas correspondentes. Exemplo:\n",
        "\n",
        "```sql\n",
        "INSERT INTO nome_tabela (coluna1, coluna2) VALUES ('valor1', 'valor2');\n",
        "```\n",
        "\n",
        "Isso adiciona uma nova linha à tabela \"nome_tabela\" com os valores 'valor1' na coluna1 e 'valor2' na coluna2."
      ],
      "metadata": {
        "id": "py9jGimdE1sf"
      }
    },
    {
      "cell_type": "markdown",
      "source": [
        "**`DELETE FROM`**\n",
        "\n",
        "é usado para remover dados de uma tabela no MySQL. A cláusula `WHERE` especifica a condição para determinar quais registros devem ser excluídos. Exemplo:\n",
        "\n",
        "```sql\n",
        "DELETE FROM nome_tabela WHERE condição;\n",
        "```\n",
        "\n",
        "Isso exclui os registros da tabela \"nome_tabela\" que atendem à condição especificada. Tenha cuidado ao usar o `DELETE`, pois ele pode resultar na perda permanente de dados.\n",
        "\n",
        "***Tabela Pessoa***\n",
        "\n",
        "| id | nome   | idade |\n",
        "|----|--------|-------|\n",
        "| 1  | João   | 25    |\n",
        "| 2  | Maria  | 30    |\n",
        "| 3  | Carlos | 22    |\n",
        "| 4  | Ana    | 28    |\n",
        "\n",
        "```sql\n",
        "DELETE FROM pessoa\n",
        "WHERE idade > 22;\n",
        "\n",
        "SELECT *FROM pessoa\n",
        "```"
      ],
      "metadata": {
        "id": "RBU-SRPIGdUP"
      }
    },
    {
      "cell_type": "markdown",
      "source": [
        "###***Atualizações***"
      ],
      "metadata": {
        "id": "2SGYs1skuQUR"
      }
    },
    {
      "cell_type": "markdown",
      "source": [
        "####**```UPDATE```**\n",
        "A instrução ```UPDATE``` sempre começa pela palavra chave ```UPDATE``` seguida pelo nome da tabela. Em seguida o nome da tabela é seguido pela palavra chave ```SET``` e uma expressão que define uma coluna para um valor especificado."
      ],
      "metadata": {
        "id": "prdoJNIlykjJ"
      }
    },
    {
      "cell_type": "markdown",
      "source": [
        "É usada para modificar os dados existentes em uma tabela. Ela permite que você atualize valores em uma ou mais colunas com novos dados, baseados em condições específicas definidas pela cláusula WHERE. Isso permite realizar alterações controladas nos registros de uma tabela."
      ],
      "metadata": {
        "id": "Mpq4hD2auYN7"
      }
    },
    {
      "cell_type": "markdown",
      "source": [
        "\n",
        "**Tabela Funcionários**\n",
        "\n",
        "| nome      | salario | cargo     |\n",
        "|-----------|---------|-----------|\n",
        "| João      | 5000    | Analista  |\n",
        "| Maria     | 6000    | Gerente   |\n",
        "| Pedro     | 4500    | Analista  |\n",
        "| Ana       | 7000    | Diretor   |\n",
        "| Carlos    | 5500    | Analista  |\n",
        "\n",
        "Vamos considerar uma tabela chamada \"funcionarios\" com colunas \"nome\", \"salario\" e \"cargo\". Se quisermos aumentar o salário em 5% para todos os funcionários que têm o cargo de \"Analista\", podemos usar a seguinte instrução UPDATE:\n",
        "\n",
        "```sql\n",
        "UPDATE funcionarios\n",
        "SET salario = salario * 1.05\n",
        "WHERE cargo = 'Analista';\n",
        "```\n",
        "\n",
        "Neste exemplo, a coluna \"salario\" é multiplicada por 1.05 apenas para os registros onde o cargo é \"Analista\". Isso demonstra como o UPDATE pode ser aplicado seletivamente com base em condições específicas na tabela."
      ],
      "metadata": {
        "id": "_Dfom2MSwgTf"
      }
    },
    {
      "cell_type": "markdown",
      "source": [
        "❗```UPDATE``` Não pode ser usado para inserir novas entradas em uma tabela."
      ],
      "metadata": {
        "id": "P38ZYmRIy3pH"
      }
    },
    {
      "cell_type": "markdown",
      "source": [
        "***Exemplo 1***\n",
        "\n",
        "\n",
        "```sql\n",
        "UPDATE flights --Atualize a tabela Flights\n",
        "SET mealservice True -- na coluna Mealservice para TRUE\n",
        "WHERE durariam >= 6; -- onde na coluna Duration seja igual ou maior que 6\n",
        "```\n",
        "\n",
        "| flight_id | origem | destino | duracao | partida           | chegada           | mealservice |\n",
        "|-----------|--------|---------|---------|-------------------|-------------------|-------------|\n",
        "| 1         | JFK    | LAX     | 5       | 2023-01-01 08:00  | 2023-01-01 13:00  | False       |\n",
        "| 2         | LAX    | ORD     | 7       | 2023-01-02 12:00  | 2023-01-02 19:00  | True        |\n",
        "| 3         | ORD    | SFO     | 4       | 2023-01-03 15:00  | 2023-01-03 19:00  | False       |\n",
        "| 4         | ATL    | MIA     | 8       | 2023-01-04 10:00  | 2023-01-04 18:00  | True        |\n",
        "| 5         | SFO    | JFK     | 6       | 2023-01-05 14:00  | 2023-01-05 20:00  | False       |"
      ],
      "metadata": {
        "id": "YGQ_58wU2mOo"
      }
    },
    {
      "cell_type": "markdown",
      "source": [
        "###***Criação de Tabelas***"
      ],
      "metadata": {
        "id": "HGOevCNq56V6"
      }
    },
    {
      "cell_type": "markdown",
      "source": [
        "É realizada usando a instrução ```CREATE TABLE```. Aqui está um resumo da sintaxe básica:\n",
        "\n",
        "```sql\n",
        "CREATE TABLE nome_da_tabela (\n",
        "    nome_coluna1 tipo_dado1,\n",
        "    nome_coluna2 tipo_dado2,\n",
        "    ...,\n",
        "    CONSTRAINT nome_da_restricao PRIMARY KEY (nome_coluna_primaria)\n",
        ");\n",
        "```\n",
        "\n",
        "Explicação:\n",
        "- `CREATE TABLE`: Inicia a declaração de criação de tabela.\n",
        "- `nome_da_tabela`: Especifica o nome da tabela que está sendo criada.\n",
        "- `(nome_coluna1 tipo_dado1, nome_coluna2 tipo_dado2, ...)`: Define as colunas da tabela, cada uma com um nome e um tipo de dado associado.\n",
        "- `CONSTRAINT nome_da_restricao PRIMARY KEY (nome_coluna_primaria)`: Opcionalmente, você pode adicionar restrições, como uma chave primária (PRIMARY KEY) para identificar exclusivamente cada linha na tabela.\n",
        "\n",
        "Exemplo:\n",
        "\n",
        "```sql\n",
        "CREATE TABLE funcionarios (\n",
        "    id INT PRIMARY KEY,\n",
        "    nome VARCHAR(50),\n",
        "    salario DECIMAL(10, 2),\n",
        "    cargo VARCHAR(30)\n",
        ");\n",
        "```\n",
        "\n",
        "Neste exemplo, uma tabela chamada \"funcionarios\" é criada com colunas para ID, nome, salário e cargo. A coluna \"id\" é definida como chave primária."
      ],
      "metadata": {
        "id": "PkLRE-XO6FNM"
      }
    },
    {
      "cell_type": "markdown",
      "source": [
        "###***Alteração de Tabelas***\n",
        "❗**COMO ALTERAR UMA TABELA PARA AUTO INCREMENTE**❗\n",
        "\n",
        "```sql\n",
        "ALTER TABLE sua_tabela AUTO_INCREMENT = 1;\n",
        "```"
      ],
      "metadata": {
        "id": "0YAvupvOWBb3"
      }
    },
    {
      "cell_type": "markdown",
      "source": [
        "####***SINTAXE MYSQL WORKBENCH***"
      ],
      "metadata": {
        "id": "6GjZmGleFXI5"
      }
    },
    {
      "cell_type": "markdown",
      "source": [
        "Se você já está conectado ao MySQL Workbench, você pode executar a alteração de nome da coluna usando uma consulta SQL. Parece que você já está no caminho certo com o comando `ALTER TABLE`. No entanto, a sintaxe correta seria a seguinte:\n",
        "\n",
        "```sql\n",
        "ALTER TABLE tb_cliente\n",
        "CHANGE COLUMN enderececo endereco TIPO_DE_DADOS;\n",
        "```\n",
        "\n",
        "Substitua `TIPO_DE_DADOS` pelo tipo de dados atual da coluna que você está renomeando. Se você não souber o tipo de dados, você pode consultar a estrutura da tabela usando o comando `DESCRIBE` ou `SHOW COLUMNS` para obter informações sobre as colunas.\n",
        "\n",
        "Então, o comando completo seria algo assim:\n",
        "\n",
        "```sql\n",
        "ALTER TABLE tb_cliente\n",
        "CHANGE COLUMN enderececo endereco VARCHAR(255);\n",
        "```\n",
        "\n",
        "Este exemplo assume que a coluna `enderececo` é do tipo `VARCHAR(255)`. Certifique-se de ajustar o tipo de dados de acordo com a sua tabela.\n",
        "\n",
        "Após executar essa consulta, o nome da coluna será alterado de `enderececo` para `endereco`."
      ],
      "metadata": {
        "id": "67e3HfAQFVbD"
      }
    },
    {
      "cell_type": "markdown",
      "source": [
        "####***SINTAXE SQLITE***"
      ],
      "metadata": {
        "id": "YA_f0MYGFuO7"
      }
    },
    {
      "cell_type": "markdown",
      "source": [
        "`ALTER TABLE` permite adicionar, modificar ou excluir colunas, índices e restrições.\n",
        "\n",
        "Exemplo 1: Adicionar uma coluna à tabela \"clientes\":\n",
        "\n",
        "```sql\n",
        "ALTER TABLE clientes\n",
        "ADD COLUMN data_nascimento DATE;\n",
        "```\n",
        "\n",
        "Exemplo 2: Modificar o tipo de dados de uma coluna na tabela \"produtos\":\n",
        "\n",
        "```sql\n",
        "ALTER TABLE produtos\n",
        "ALTER COLUMN preco DECIMAL(10,2);\n",
        "```\n",
        "\n",
        "Exemplo 3: Excluir uma coluna da tabela \"funcionarios\":\n",
        "\n",
        "```sql\n",
        "ALTER TABLE funcionarios\n",
        "DROP COLUMN telefone;\n",
        "```\n",
        "\n",
        "Exemplo 4 : Renomeando uma coluna com o comando `RENAME TO`.\n",
        "\n",
        "```sql\n",
        "ALTER TABLE compra\n",
        "RENAME real TO dollar\n",
        "```\n",
        "\n",
        "Esses são apenas exemplos básicos, e a sintaxe exata pode variar dependendo do sistema de gerenciamento de banco de dados que você está utilizando."
      ],
      "metadata": {
        "id": "qRtio_yHWuae"
      }
    },
    {
      "cell_type": "markdown",
      "source": [
        "###***Comando SHOW***"
      ],
      "metadata": {
        "id": "lBrQ_xVScG8B"
      }
    },
    {
      "cell_type": "markdown",
      "source": [
        "O comando `SHOW` é utilizado para exibir informações sobre bancos de dados, tabelas, colunas, entre outros. Aqui estão alguns exemplos:\n",
        "\n",
        "1. **Listar Bancos de Dados:**\n",
        "   ```sql\n",
        "   SHOW DATABASES;\n",
        "   ```\n",
        "   Isso exibirá uma lista de todos os bancos de dados disponíveis.\n",
        "\n",
        "2. **Listar Tabelas em um Banco de Dados:**\n",
        "   ```sql\n",
        "   SHOW TABLES FROM nome_do_banco;\n",
        "   ```\n",
        "   Isso mostra as tabelas dentro do banco de dados especificado.\n",
        "\n",
        "3. **Descrição de uma Tabela:**\n",
        "   ```sql\n",
        "   SHOW COLUMNS FROM nome_da_tabela;\n",
        "   ```\n",
        "   Isso fornece informações sobre as colunas de uma tabela específica.\n",
        "\n",
        "4. **Visualizar Status do Servidor:**\n",
        "   ```sql\n",
        "   SHOW STATUS;\n",
        "   ```\n",
        "   Apresenta informações detalhadas sobre o estado do servidor MySQL."
      ],
      "metadata": {
        "id": "DEsGUiE7baJX"
      }
    },
    {
      "cell_type": "markdown",
      "source": [
        "\n",
        "###***Comando `DROP`***"
      ],
      "metadata": {
        "id": "9y9ob6sdj5oR"
      }
    },
    {
      "cell_type": "markdown",
      "source": [
        "**Comando DROP:**\n",
        "\n",
        "O comando `DROP` é utilizado para excluir objetos como bancos de dados, tabelas, índices e outros no MySQL.\n",
        "\n",
        "**Sintaxe Básica:**\n",
        "\n",
        "1. **Drop de uma Tabela:**\n",
        "   ```sql\n",
        "   DROP TABLE nome_da_tabela;\n",
        "   ```\n",
        "   Exclui permanentemente a tabela especificada.\n",
        "\n",
        "2. **Drop de um Banco de Dados:**\n",
        "   ```sql\n",
        "   DROP DATABASE nome_do_banco;\n",
        "   ```\n",
        "   Exclui permanentemente o banco de dados especificado, incluindo todas as suas tabelas.\n",
        "\n",
        "3. **Drop de um Índice:**\n",
        "   ```sql\n",
        "   DROP INDEX nome_do_indice ON nome_da_tabela;\n",
        "   ```\n",
        "   Exclui um índice específico de uma tabela.\n",
        "\n",
        "4. **Drop de uma Visão:**\n",
        "   ```sql\n",
        "   DROP VIEW nome_da_visao;\n",
        "   ```\n",
        "   Exclui permanentemente uma visão especificada.\n",
        "\n",
        "5. **Drop de uma Procedure:**\n",
        "   ```sql\n",
        "   DROP PROCEDURE nome_da_procedure;\n",
        "   ```\n",
        "   Exclui uma stored procedure específica.\n",
        "\n",
        "**Exemplo Prático:**\n",
        "\n",
        "```sql\n",
        "-- Exemplo: Drop de uma tabela\n",
        "DROP TABLE IF EXISTS produtos;\n",
        "\n",
        "-- Exemplo: Drop de um banco de dados\n",
        "DROP DATABASE IF EXISTS loja;\n",
        "\n",
        "-- Exemplo: Drop de um índice\n",
        "DROP INDEX IF EXISTS idx_nome_na_tabela;\n",
        "\n",
        "-- Exemplo: Drop de uma visão\n",
        "DROP VIEW IF EXISTS vw_relatorio_vendas;\n",
        "\n",
        "-- Exemplo: Drop de uma procedure\n",
        "DROP PROCEDURE IF EXISTS calcular_total_vendas;\n",
        "```\n",
        "\n",
        "Certifique-se de usar `IF EXISTS` para evitar erros caso o objeto que você está tentando excluir não exista. O comando `DROP` é irreversível e deve ser usado com cuidado."
      ],
      "metadata": {
        "id": "bjsVN2GSj_3D"
      }
    },
    {
      "cell_type": "markdown",
      "source": [
        "Não é necessário utilizar o comando `ALTER TABLE` ao usar o comando `DROP` diretamente. O comando `ALTER TABLE` é geralmente utilizado para fazer modificações na estrutura de uma tabela, como adicionar, renomear ou excluir colunas. Por outro lado, o comando `DROP` é utilizado para excluir objetos, como tabelas, bancos de dados, índices, etc.\n",
        "\n",
        "Ao utilizar `DROP`, você especifica diretamente o objeto que deseja excluir. Por exemplo:\n",
        "\n",
        "- Para excluir uma tabela: `DROP TABLE nome_da_tabela;`\n",
        "- Para excluir um banco de dados: `DROP DATABASE nome_do_banco;`\n",
        "- Para excluir um índice: `DROP INDEX nome_do_indice ON nome_da_tabela;`\n",
        "\n",
        "Portanto, não há necessidade de usar `ALTER TABLE` em conjunto com o comando `DROP` para excluir objetos. Eles servem para propósitos diferentes na administração do banco de dados."
      ],
      "metadata": {
        "id": "7AuLEKJkk3nA"
      }
    },
    {
      "cell_type": "markdown",
      "source": [
        "##***FILTROS***"
      ],
      "metadata": {
        "id": "o0FmQ2lgmCZ8"
      }
    },
    {
      "cell_type": "markdown",
      "source": [
        "###***BETWEEN***"
      ],
      "metadata": {
        "id": "mSYCNMlymF58"
      }
    },
    {
      "cell_type": "markdown",
      "source": [
        "`BETWEEN` é utilizada para filtrar resultados dentro de um intervalo específico. Vamos considerar um exemplo com uma tabela chamada `produtos` que possui uma coluna de preços chamada `preco`.\n",
        "\n",
        "1. Para selecionar todos os produtos com preço entre 50 e 100:\n",
        "\n",
        "```sql\n",
        "SELECT * FROM produtos\n",
        "WHERE preco BETWEEN 50 AND 100;\n",
        "```\n",
        "\n",
        "Isso retornará os registros onde o preço está entre 50 e 100, incluindo ambos os limites.\n",
        "\n",
        "2. Se você quiser excluir os limites e selecionar produtos com preço superior a 50 e inferior a 100:\n",
        "\n",
        "```sql\n",
        "SELECT * FROM produtos\n",
        "WHERE preco > 50 AND preco < 100;\n",
        "```\n",
        "\n",
        "Essas consultas são equivalentes, mas a cláusula `BETWEEN` é uma maneira mais concisa de expressar intervalos.\n",
        "\n",
        "Lembre-se de que a cláusula `BETWEEN` inclui os valores de limite, enquanto as comparações diretas (`>`, `<`, etc.) podem ser ajustadas conforme a necessidade.\n",
        "\n",
        "**EX:**\n",
        "```sql\n",
        "SELECT *\n",
        "FROM inventario\n",
        "WHERE year BETWEEN 1950 AND 1960\n",
        "AND manufacturer LIKE 'f%';\n",
        "```"
      ],
      "metadata": {
        "id": "kEhIUN0Wmdp7"
      }
    },
    {
      "cell_type": "markdown",
      "source": [
        "###***Filtrando por padrões***"
      ],
      "metadata": {
        "id": "q7mDMELR20AL"
      }
    },
    {
      "cell_type": "markdown",
      "source": [
        "####***OPERADORES DE FILTRAGEM POR PADRÃO***"
      ],
      "metadata": {
        "id": "fuTsjotg8MQH"
      }
    },
    {
      "cell_type": "markdown",
      "source": [
        "#####***OPERADORES***"
      ],
      "metadata": {
        "id": "nyGcC102CREG"
      }
    },
    {
      "cell_type": "markdown",
      "source": [
        "Ao filtrar dados em SQL, você geralmente utiliza a cláusula `WHERE` para especificar as condições de filtragem. Os operadores mais comuns utilizados em expressões condicionais incluem:\n",
        "\n",
        "1. **Igual (=):** Usado para comparar se dois valores são iguais.\n",
        "   ```sql\n",
        "   SELECT * FROM tabela WHERE coluna = valor;\n",
        "   ```\n",
        "\n",
        "2. **Diferente (!= ou <>):** Verifica se dois valores não são iguais.\n",
        "   ```sql\n",
        "   SELECT * FROM tabela WHERE coluna != valor;\n",
        "   ```\n",
        "\n",
        "3. **Maior que (>), Menor que (<):** Compara se um valor é maior ou menor que outro.\n",
        "   ```sql\n",
        "   SELECT * FROM tabela WHERE coluna > valor;\n",
        "   ```\n",
        "\n",
        "4. **Maior ou igual (>=), Menor ou igual (<=):** Compara se um valor é maior ou igual, ou menor ou igual, a outro.\n",
        "   ```sql\n",
        "   SELECT * FROM tabela WHERE coluna >= valor;\n",
        "   ```\n",
        "\n",
        "5. **LIKE:** Utilizado para buscar padrões em uma coluna usando caracteres curinga (% para representar zero ou mais caracteres, _ para representar um caractere).\n",
        "   ```sql\n",
        "   SELECT * FROM tabela WHERE coluna LIKE 'padrão%';\n",
        "   ```\n",
        "\n",
        "6. **IN:** Verifica se um valor está contido em uma lista de valores.\n",
        "   ```sql\n",
        "   SELECT * FROM tabela WHERE coluna IN (valor1, valor2, valor3);\n",
        "   ```\n",
        "\n",
        "7. **NOT:** Negativa uma condição.\n",
        "   ```sql\n",
        "   SELECT * FROM tabela WHERE NOT coluna = valor;\n",
        "   ```\n",
        "\n",
        "Estes são alguns dos operadores básicos em SQL. Eles são combinados para formar condições mais complexas, permitindo filtrar dados de acordo com critérios específicos."
      ],
      "metadata": {
        "id": "oEWhpxLQ8UBL"
      }
    },
    {
      "cell_type": "markdown",
      "source": [
        "Vamos criar uma situação fictícia com uma tabela de funcionários e salários.\n",
        "\n",
        "```markdown\n",
        "Análise de Salários dos Funcionários\n",
        "```\n",
        "\n",
        "Nesta análise, vamos examinar os salários dos funcionários de uma empresa.\n",
        "\n",
        "**Tabela de Funcionários**\n",
        "\n",
        "A tabela de funcionários possui as seguintes colunas:\n",
        "\n",
        "| FuncionárioID | Nome           | Cargo          | Salário  |\n",
        "| ------------- | -------------- | -------------- | -------- |\n",
        "| 1             | João Silva     | Analista       | 5000     |\n",
        "| 2             | Maria Oliveira | Gerente        | 8000     |\n",
        "| 3             | Carlos Santos  | Desenvolvedor  | 6000     |\n",
        "| 4             | Ana Souza      | Analista       | 5500     |\n",
        "\n",
        "***Consultas SQL***\n",
        "\n",
        "Funcionários com Salário Superior a 6000\n",
        "\n",
        "```sql\n",
        "SELECT * FROM funcionarios\n",
        "WHERE salario > 6000;\n",
        "```\n",
        "\n",
        "***Funcionários por Cargo***\n",
        "\n",
        "```sql\n",
        "SELECT cargo, COUNT(*) as quantidade\n",
        "FROM funcionarios\n",
        "GROUP BY cargo;\n",
        "```\n",
        "\n",
        "\n",
        "Sim, além dos operadores mencionados anteriormente, existem outros que oferecem maior flexibilidade ao criar condições de filtragem em consultas SQL. Aqui estão alguns operadores adicionais:\n",
        "\n",
        "1. **AND:** Combina duas ou mais condições e retorna registros apenas se todas as condições forem verdadeiras.\n",
        "   ```sql\n",
        "   SELECT * FROM tabela WHERE coluna1 = valor1 AND coluna2 = valor2;\n",
        "   ```\n",
        "\n",
        "2. **OR:** Retorna registros se pelo menos uma das condições especificadas for verdadeira.\n",
        "   ```sql\n",
        "   SELECT * FROM tabela WHERE coluna1 = valor1 OR coluna2 = valor2;\n",
        "   ```\n",
        "\n",
        "3. **BETWEEN:** Seleciona valores dentro de um intervalo específico.\n",
        "   ```sql\n",
        "   SELECT * FROM tabela WHERE coluna BETWEEN valor1 AND valor2;\n",
        "   ```\n",
        "\n",
        "4. **IS NULL, IS NOT NULL:** Verifica se um valor é nulo ou não nulo.\n",
        "   ```sql\n",
        "   SELECT * FROM tabela WHERE coluna IS NULL;\n",
        "   ```\n",
        "\n",
        "5. **EXISTS:** Verifica a existência de registros em uma subconsulta.\n",
        "   ```sql\n",
        "   SELECT * FROM tabela1 WHERE EXISTS (SELECT * FROM tabela2 WHERE condição);\n",
        "   ```\n",
        "\n",
        "6. **ANY, ALL:** Usados em conjunto com subconsultas para comparar valores com qualquer valor ou todos os valores retornados pela subconsulta.\n",
        "   ```sql\n",
        "   SELECT * FROM tabela WHERE coluna > ANY (SELECT coluna FROM outra_tabela);\n",
        "   ```\n",
        "\n",
        "Estes operadores adicionais fornecem mais opções e permitem construir condições de filtro mais complexas em consultas SQL, adaptando-se a uma variedade de cenários.\n",
        "\n",
        "***EXEMPLOS PRÁTICOS***\n",
        "\n",
        "Agora vamos criar exemplos de consultas utilizando os operadores `IS NULL`, `IS NOT NULL`, `BETWEEN`, `OR`, `AND`, `EXISTS`, `ANY` e `ALL` com a tabela fictícia de funcionários e salários:\n",
        "\n",
        "```sql\n",
        "-- Funcionários com salário superior a 6000 ou cujo cargo é 'Gerente'\n",
        "SELECT *\n",
        "FROM funcionarios\n",
        "WHERE salario > 6000 OR cargo = 'Gerente';\n",
        "```\n",
        "\n",
        "```sql\n",
        "-- Funcionários com salário entre 5500 e 8000\n",
        "SELECT *\n",
        "FROM funcionarios\n",
        "WHERE salario BETWEEN 5500 AND 8000;\n",
        "```\n",
        "\n",
        "```sql\n",
        "-- Funcionários com salário nulo\n",
        "SELECT *\n",
        "FROM funcionarios\n",
        "WHERE salario IS NULL;\n",
        "```\n",
        "\n",
        "```sql\n",
        "-- Funcionários com salário não nulo\n",
        "SELECT *\n",
        "FROM funcionarios\n",
        "WHERE salario IS NOT NULL;\n",
        "```\n",
        "\n",
        "```sql\n",
        "-- Funcionários que são Analistas e têm salário superior a 5000\n",
        "SELECT *\n",
        "FROM funcionarios\n",
        "WHERE cargo = 'Analista' AND salario > 5000;\n",
        "```\n",
        "\n",
        "```sql\n",
        "-- Funcionários que possuem pelo menos um registro na tabela de avaliações\n",
        "SELECT *\n",
        "FROM funcionarios f\n",
        "WHERE EXISTS (\n",
        "    SELECT 1\n",
        "    FROM avaliacoes a\n",
        "    WHERE a.funcionario_id = f.funcionario_id\n",
        ");\n",
        "```\n",
        "\n",
        "```sql\n",
        "-- Funcionários com salário maior que qualquer salário da tabela de referência\n",
        "SELECT *\n",
        "FROM funcionarios\n",
        "WHERE salario > ANY (SELECT salario FROM tabela_referencia);\n",
        "```\n",
        "\n",
        "```sql\n",
        "-- Funcionários com salário maior que todos os salários da tabela de referência\n",
        "SELECT *\n",
        "FROM funcionarios\n",
        "WHERE salario > ALL (SELECT salario FROM tabela_referencia);\n",
        "```"
      ],
      "metadata": {
        "id": "SNP4Jxa38pYt"
      }
    },
    {
      "cell_type": "markdown",
      "source": [
        "#####***LIKE***"
      ],
      "metadata": {
        "id": "uPiVFSfa3AGx"
      }
    },
    {
      "cell_type": "markdown",
      "source": [
        "O comando `LIKE` é usado para realizar correspondências de padrões em dados de texto. Os curingas principais são:\n",
        "\n",
        "1. `%` (porcentagem): Representa zero ou mais caracteres em uma string.\n",
        "2. `_` (sublinhado): Representa um único caractere em uma string.\n",
        "\n",
        "\n",
        "Exemplo 1: Usando `%`\n",
        "\n",
        "- **Consulta:** Encontrar todos os registros onde a coluna \"nome\" começa com \"Jo\":\n",
        "\n",
        "  ```sql\n",
        "  SELECT *\n",
        "FROM clientes\n",
        "WHERE nome LIKE 'Jo%';\n",
        "  ```\n",
        "\n",
        "  Isso retornará registros com nomes como \"John\", \"Jordan\", etc.\n",
        "\n",
        "- **Consulta:** Encontrar registros onde a coluna \"email\" termina com \"@gmail.com\":\n",
        "\n",
        "  ```sql\n",
        "  SELECT *\n",
        "FROM usuarios\n",
        "WHERE email LIKE '%@gmail.com';\n",
        "  ```\n",
        "\n",
        "  Isso retornará registros com endereços de e-mail que terminam com \"@gmail.com\".\n",
        "\n",
        "Exemplo 2: Usando `_`\n",
        "\n",
        "- **Consulta:** Encontrar todos os registros onde a segunda letra do nome é \"a\":\n",
        "\n",
        "  ```sql\n",
        "  SELECT *\n",
        "FROM pessoas\n",
        "WHERE nome LIKE '_a%';\n",
        "  ```\n",
        "\n",
        "  Isso retornará registros com nomes como \"Ana\", \"Sara\", etc.\n",
        "\n",
        "- **Consulta:** Encontrar registros onde a terceira letra do código postal é um número específico:\n",
        "\n",
        "  ```sql\n",
        "  SELECT *\n",
        "FROM enderecos\n",
        "WHERE cep LIKE '__3%';\n",
        "  ```\n",
        "\n",
        "  Isso retornará registros com códigos postais onde o terceiro dígito é \"3\".\n",
        "\n",
        "Esses são exemplos básicos, mas o comando `LIKE` pode ser combinado com outros operadores e funções para realizar consultas mais complexas e específicas em dados de texto."
      ],
      "metadata": {
        "id": "2Qra8P7Ww3Zf"
      }
    },
    {
      "cell_type": "markdown",
      "source": [
        "######***Exemplos dos curingas `_`, `%`***"
      ],
      "metadata": {
        "id": "247E4NeMxmEf"
      }
    },
    {
      "cell_type": "markdown",
      "source": [
        "**Curinga (`_`)**\n",
        "\n",
        "Certamente, aqui estão mais alguns exemplos de utilização do curinga `_` em combinação com o comando `LIKE` em SQL:\n",
        "\n",
        "1. **Consulta:** Encontrar registros onde o segundo caractere é uma vogal:\n",
        "\n",
        "    ```sql\n",
        "    SELECT * FROM palavras WHERE palavra LIKE '_[aeiou]%';\n",
        "    ```\n",
        "\n",
        "    Isso retorna registros onde a primeira letra é seguida por uma vogal.\n",
        "\n",
        "2. **Consulta:** Encontrar registros onde o quarto caractere é um número:\n",
        "\n",
        "    ```sql\n",
        "    SELECT * FROM codigo WHERE codigo LIKE '___[0-9]%';\n",
        "    ```\n",
        "\n",
        "    Isso retorna registros onde os primeiros três caracteres são seguidos por um número.\n",
        "\n",
        "3. **Consulta:** Encontrar registros onde o quinto caractere é uma letra minúscula:\n",
        "\n",
        "    ```sql\n",
        "    SELECT * FROM texto WHERE frase LIKE '_____[a-z]%';\n",
        "    ```\n",
        "\n",
        "    Isso retorna registros onde os primeiros quatro caracteres são seguidos por uma letra minúscula.\n",
        "\n",
        "O uso do curinga `_` permite criar padrões específicos onde um caractere em uma posição específica na string atende a condições definidas na consulta. Esses são exemplos para ilustrar a ideia, e você pode adaptá-los conforme necessário para atender aos requisitos específicos do seu banco de dados."
      ],
      "metadata": {
        "id": "brleXySSyHPY"
      }
    },
    {
      "cell_type": "markdown",
      "source": [
        "\n",
        "**Curinga( `%`)**\n",
        "\n",
        "Certamente, aqui estão mais alguns exemplos de utilização do curinga `%` em combinação com o comando `LIKE` em SQL:\n",
        "\n",
        "1. **Consulta:** Encontrar registros onde a palavra contém \"ar\":\n",
        "\n",
        "    ```sql\n",
        "    SELECT * FROM dicionario WHERE palavra LIKE '%ar%';\n",
        "    ```\n",
        "\n",
        "    Isso retorna registros onde a sequência \"ar\" aparece em qualquer lugar na palavra.\n",
        "\n",
        "2. **Consulta:** Encontrar registros onde o endereço de e-mail contém \"domain.com\":\n",
        "\n",
        "    ```sql\n",
        "    SELECT * FROM usuarios WHERE email LIKE '%domain.com%';\n",
        "    ```\n",
        "\n",
        "    Isso retorna registros onde a sequência \"@domain.com\" aparece em qualquer parte do endereço de e-mail.\n",
        "\n",
        "3. **Consulta:** Encontrar registros onde o número de telefone termina com \"5678\":\n",
        "\n",
        "    ```sql\n",
        "    SELECT * FROM contatos WHERE telefone LIKE '%5678';\n",
        "    ```\n",
        "\n",
        "    Isso retorna registros onde a sequência \"5678\" aparece no final do número de telefone.\n",
        "\n",
        "O uso do curinga `%` é flexível e pode ser adaptado para atender a uma variedade de padrões em diferentes partes da string. Lembre-se de que o `LIKE` é sensível a maiúsculas e minúsculas, a menos que seja especificado o contrário, dependendo das configurações do banco de dados."
      ],
      "metadata": {
        "id": "0Rvxj87ayyrm"
      }
    },
    {
      "cell_type": "markdown",
      "source": [
        "#####***OPERADOR IN***"
      ],
      "metadata": {
        "id": "aYXtRsI8CzuV"
      }
    },
    {
      "cell_type": "markdown",
      "source": [
        "***`IN` Avançado***\n",
        "\n",
        "### Exemplo 1: Filtragem Dinâmica com Subconsulta\n",
        "\n",
        "Suponha que você tenha uma tabela de produtos e deseje encontrar todos os pedidos que contenham produtos de uma determinada categoria.\n",
        "\n",
        "```sql\n",
        "SELECT * FROM pedidos\n",
        "WHERE id_produto IN (SELECT id_produto FROM produtos WHERE categoria = 'Eletrônicos');\n",
        "```\n",
        "\n",
        "Neste exemplo, a subconsulta dinâmica fornece os IDs dos produtos na categoria 'Eletrônicos', e o operador `IN` é usado para encontrar pedidos que contenham produtos dessa categoria.\n",
        "\n",
        "### Exemplo 2: Combinação de Múltiplas Condições\n",
        "\n",
        "Imagine que você queira encontrar clientes que fizeram pedidos de produtos específicos e que estão em um determinado país.\n",
        "\n",
        "```sql\n",
        "SELECT * FROM clientes\n",
        "WHERE id_cliente IN (\n",
        "    SELECT id_cliente FROM pedidos\n",
        "    WHERE id_produto IN (SELECT id_produto FROM produtos WHERE categoria = 'Roupas')\n",
        ") AND pais = 'Brasil';\n",
        "```\n",
        "\n",
        "Neste exemplo, o `IN` é usado para filtrar clientes com base nos IDs de clientes que fizeram pedidos de produtos na categoria 'Roupas'. A condição adicional `AND pais = 'Brasil'` refina ainda mais a busca.\n",
        "\n",
        "### Exemplo 3: Uso de Valores Constantes\n",
        "\n",
        "Às vezes, você pode usar o `IN` com valores constantes para simplificar consultas. Suponha que você deseje encontrar pedidos de um conjunto específico de clientes.\n",
        "\n",
        "```sql\n",
        "SELECT * FROM pedidos\n",
        "WHERE id_cliente IN (101, 205, 308, 410);\n",
        "```\n",
        "\n",
        "Aqui, o operador `IN` é utilizado com valores fixos para encontrar pedidos associados a clientes específicos.\n",
        "\n",
        "### Exemplo 4: Uso de Tuplas\n",
        "\n",
        "O operador `IN` também pode ser aplicado a tuplas. Suponha que você queira encontrar produtos com base em pares específicos de categoria e preço.\n",
        "\n",
        "```sql\n",
        "SELECT * FROM produtos\n",
        "WHERE (categoria, preco) IN (('Eletrônicos', 500), ('Roupas', 50), ('Livros', 20));\n",
        "```\n",
        "\n",
        "Neste exemplo, ele retorna produtos que correspondem a diferentes categorias e preços.\n",
        "\n",
        "Estes exemplos ilustram a versatilidade do operador `IN` ao lidar com diferentes situações de filtragem e subconsultas no MySQL."
      ],
      "metadata": {
        "id": "nE9ilBpfC5jA"
      }
    },
    {
      "cell_type": "markdown",
      "source": [
        "##***Funções Agregadas***\n",
        "❗Não permite a utilização de `WHERE`, em funções agregadas é utilizado o `HAVING`.❗"
      ],
      "metadata": {
        "id": "cW-VGY-7s0CD"
      }
    },
    {
      "cell_type": "markdown",
      "source": [
        "###***Aliases***"
      ],
      "metadata": {
        "id": "4AF3Lqgrs8Ce"
      }
    },
    {
      "cell_type": "markdown",
      "source": [
        "O comando `ALIAS` é usado para atribuir um nome alternativo a uma tabela ou coluna em consultas SQL. Isso pode tornar consultas mais legíveis e fornecer apelidos mais curtos para referenciar objetos. Já o `AS` é utilizado para renomear temporariamente uma tabela ou coluna em uma consulta.\n",
        "\n",
        "Aqui estão alguns exemplos:\n",
        "\n",
        "1. **ALIAS para coluna:**\n",
        "   ```sql\n",
        "   SELECT nome_cliente AS nome FROM clientes;\n",
        "   ```\n",
        "   Neste exemplo, a coluna \"nome_cliente\" da tabela \"clientes\" é renomeada temporariamente como \"nome\" na consulta.\n",
        "\n",
        "2. **ALIAS para tabela:**\n",
        "   ```sql\n",
        "   SELECT c.nome, p.nome AS nome_produto\n",
        "   FROM clientes AS c\n",
        "   JOIN pedidos AS p ON c.id = p.cliente_id;\n",
        "   ```\n",
        "   Aqui, a tabela \"clientes\" é renomeada como \"c\" e a tabela \"pedidos\" é renomeada como \"p\" para facilitar a referência.\n",
        "\n",
        "3. **ALIAS para resultado de expressão:**\n",
        "   ```sql\n",
        "   SELECT quantidade * preco_unitario AS total\n",
        "   FROM itens_pedido;\n",
        "   ```\n",
        "   A expressão `quantidade * preco_unitario` é temporariamente renomeada como \"total\" na consulta.\n",
        "\n",
        "O uso de ALIAS e AS torna o código SQL mais compreensível e legível, especialmente em consultas complexas envolvendo várias tabelas e expressões."
      ],
      "metadata": {
        "id": "PzSes-gdtHyJ"
      }
    },
    {
      "cell_type": "markdown",
      "source": [
        "###***Encontrando `MIN`, `MAX` e `MÉDIA`***"
      ],
      "metadata": {
        "id": "XEwDbw5hv20H"
      }
    },
    {
      "cell_type": "markdown",
      "source": [
        "- **Mínimo (MIN):** Em SQL, a função `MIN` é usada para encontrar o valor mínimo em uma coluna específica de uma tabela. Por exemplo, se você tiver uma tabela de preços, pode usar `MIN` para encontrar o preço mínimo.\n",
        "\n",
        "    Exemplo em SQL:\n",
        "    ```sql\n",
        "    SELECT MIN(preco) AS menor_preco\n",
        "    FROM tabela_precos;\n",
        "    ```\n",
        "\n",
        "- **Máximo (MAX):** A função `MAX` é usada para encontrar o valor máximo em uma coluna. Por exemplo, se você estiver acompanhando a pontuação de alunos, pode usar `MAX` para encontrar a pontuação mais alta.\n",
        "\n",
        "    Exemplo em SQL:\n",
        "    ```sql\n",
        "    SELECT MAX(pontuacao) AS pontuacao_maxima\n",
        "    FROM tabela_alunos;\n",
        "    ```\n",
        "\n",
        "- **Média (AVG):** A função `AVG` calcula a média aritmética dos valores em uma coluna. Por exemplo, se você tiver uma tabela de vendas, `AVG` pode ser usado para encontrar a média das quantidades vendidas.\n",
        "\n",
        "    Exemplo em SQL:\n",
        "    ```sql\n",
        "    SELECT AVG(quantidade) AS media_vendas\n",
        "    FROM tabela_vendas;\n",
        "    ```\n",
        "\n",
        "Essas funções são úteis para resumir e analisar dados em bancos de dados SQL, proporcionando insights sobre os conjuntos de dados armazenados."
      ],
      "metadata": {
        "id": "HahmPDlzwDfI"
      }
    },
    {
      "cell_type": "markdown",
      "source": [
        "####***`MIN, MAX e MÉDIA`, exemplo mais avançado.***"
      ],
      "metadata": {
        "id": "xtxrnZ860Faz"
      }
    },
    {
      "cell_type": "markdown",
      "source": [
        "- **Mínimo (MIN):** A função `MIN` em SQL é essencial em consultas que buscam identificar valores extremamente baixos em conjuntos de dados. Em um cenário de análise financeira, por exemplo, poderíamos usar `MIN` para encontrar o valor mínimo de transações em uma série temporal, identificando possíveis anomalias ou transações atípicas.\n",
        "\n",
        "    Exemplo Contextualizado:\n",
        "    ```sql\n",
        "    SELECT MIN(valor_transacao) AS menor_transacao\n",
        "    FROM tabela_transacoes\n",
        "    WHERE data_transacao BETWEEN '2023-01-01' AND '2023-12-31';\n",
        "    ```\n",
        "\n",
        "- **Máximo (MAX):** A função `MAX` é crucial para identificar pontos altos em séries temporais ou conjuntos de dados. Em um contexto de monitoramento de desempenho de servidores, poderíamos utilizar `MAX` para encontrar o pico máximo de utilização de CPU ao longo do tempo.\n",
        "\n",
        "    Exemplo Contextualizado:\n",
        "    ```sql\n",
        "    SELECT MAX(utilizacao_CPU) AS pico_CPU\n",
        "    FROM tabela_desempenho_servidores\n",
        "    WHERE data_registro BETWEEN '2023-01-01' AND '2023-12-31';\n",
        "    ```\n",
        "\n",
        "- **Média (AVG):** A função `AVG` desempenha um papel fundamental em análises estatísticas mais avançadas. Em um contexto de ciência de dados, por exemplo, poderíamos usar `AVG` para calcular a pontuação média de usuários em um jogo ao longo de várias iterações.\n",
        "\n",
        "    Exemplo Contextualizado:\n",
        "    ```sql\n",
        "    SELECT AVG(pontuacao) AS pontuacao_media\n",
        "    FROM tabela_jogo\n",
        "    WHERE iteracao <= 10;\n",
        "    ```\n",
        "\n",
        "Essas funções não apenas fornecem estatísticas básicas, mas também são ferramentas poderosas em análises avançadas para identificar padrões, tendências e anomalias em conjuntos de dados complexos."
      ],
      "metadata": {
        "id": "CBttNYbt0APT"
      }
    },
    {
      "cell_type": "markdown",
      "source": [
        "###***COUNT()***"
      ],
      "metadata": {
        "id": "jifBg_972u0V"
      }
    },
    {
      "cell_type": "markdown",
      "source": [
        "O termo `COUNT` é frequentemente utilizado como uma função de agregação para contar o número de linhas que atendem a uma condição específica em uma tabela.\n",
        "\n",
        "**Exemplo 1: Contando todas as linhas em uma tabela:**\n",
        "```sql\n",
        "SELECT COUNT(*) AS total_rows FROM nome_da_tabela;\n",
        "```\n",
        "Este exemplo conta o número total de linhas na tabela especificada.\n",
        "\n",
        "**Exemplo 2: Contando linhas com uma condição:**\n",
        "```sql\n",
        "SELECT COUNT(*) AS total_pessoas_adultas\n",
        "FROM tabela_pessoas\n",
        "WHERE idade >= 18;\n",
        "```\n",
        "Neste caso, a função `COUNT` é usada para contar o número de pessoas na tabela \"tabela_pessoas\" cuja idade é igual ou superior a 18.\n",
        "\n",
        "**Exemplo 3: Contando valores distintos:**\n",
        "```sql\n",
        "SELECT COUNT(DISTINCT categoria) AS categorias_distintas\n",
        "FROM produtos;\n",
        "```\n",
        "Aqui, `COUNT` é usado com `DISTINCT` para contar o número de categorias distintas na tabela \"produtos\".\n",
        "\n",
        "**Exemplo 4: Contando com GROUP BY:**\n",
        "```sql\n",
        "SELECT departamento, COUNT(*) AS total_funcionarios\n",
        "FROM funcionarios\n",
        "GROUP BY departamento;\n",
        "```\n",
        "Neste exemplo, a função `COUNT` é usada em conjunto com `GROUP BY` para contar o número de funcionários em cada departamento.\n",
        "\n",
        "Estes exemplos ilustram como o `COUNT` pode ser aplicado de maneira avançada no SQL Workbench para realizar contagens específicas e análises em conjuntos de dados em um banco de dados relacional."
      ],
      "metadata": {
        "id": "o_SAb3VA25kX"
      }
    },
    {
      "cell_type": "markdown",
      "source": [],
      "metadata": {
        "id": "WKGWy3dyIM5E"
      }
    },
    {
      "cell_type": "markdown",
      "source": [
        "###***SUM()***"
      ],
      "metadata": {
        "id": "5weVJXQdIjqq"
      }
    },
    {
      "cell_type": "markdown",
      "source": [
        "A função `SUM()` é uma função agregada que soma os valores de uma coluna específica em um conjunto de dados. Aqui está um exemplo de utilização:\n",
        "\n",
        "Suponha que você tenha uma tabela chamada `vendas` com as colunas `produto` e `quantidade_vendida`. Para calcular a quantidade total de produtos vendidos, você usaria a função `SUM()` da seguinte forma:\n",
        "\n",
        "```sql\n",
        "SELECT produto, SUM(quantidade_vendida) AS total_vendido\n",
        "FROM vendas\n",
        "GROUP BY produto;\n",
        "```\n",
        "\n",
        "Neste exemplo, a função `SUM(quantidade_vendida)` soma a quantidade vendida para cada produto individualmente. A cláusula `GROUP BY produto` agrupa os resultados por produto. O resultado mostrará cada produto com a quantidade total vendida."
      ],
      "metadata": {
        "id": "D68OmzFOIoDq"
      }
    },
    {
      "cell_type": "markdown",
      "source": [
        "###***Agrupando Funções Agregadas***"
      ],
      "metadata": {
        "id": "Yh5MOe0TKY4i"
      }
    },
    {
      "cell_type": "markdown",
      "source": [
        "Vamos considerar um exemplo prático usando uma tabela fictícia de pedidos. Suponha que tenhamos uma tabela chamada `pedidos` com as colunas `cliente`, `produto` e `quantidade`.\n",
        "\n",
        "***Tabela `pedidos`***\n",
        "\n",
        "| cliente | produto | quantidade |\n",
        "| ------- | ------- | ---------- |\n",
        "| ClienteA | Produto1 | 5 |\n",
        "| ClienteA | Produto2 | 3 |\n",
        "| ClienteB | Produto1 | 2 |\n",
        "| ClienteB | Produto3 | 4 |\n",
        "| ClienteA | Produto1 | 2 |\n",
        "\n",
        "Agora, se quisermos calcular a quantidade total de produtos vendidos por cliente, podemos usar o agrupamento de funções agregadas. Aqui está a consulta:\n",
        "\n",
        "```sql\n",
        "SELECT cliente, SUM(quantidade) AS total_vendido\n",
        "FROM pedidos\n",
        "GROUP BY cliente;\n",
        "```\n",
        "\n",
        "O resultado seria:\n",
        "\n",
        "| cliente | total_vendido |\n",
        "| ------- | ------------- |\n",
        "| ClienteA | 9 |\n",
        "| ClienteB | 6 |\n",
        "\n",
        "Neste exemplo, usamos `GROUP BY cliente` para agrupar os resultados por cliente. A função agregada `SUM(quantidade)` é então aplicada a cada grupo, fornecendo a quantidade total de produtos vendidos para cada cliente.\n",
        "\n",
        "Essa é uma maneira poderosa de resumir e analisar dados em conjuntos de registros específicos."
      ],
      "metadata": {
        "id": "SnMVObelKjXL"
      }
    },
    {
      "cell_type": "markdown",
      "source": [
        "####***Exercicios para Praticar***"
      ],
      "metadata": {
        "id": "ps_VC9PmLoYa"
      }
    },
    {
      "cell_type": "markdown",
      "source": [
        "***Tabela `pedidos`***\n",
        "\n",
        "| cliente | produto | quantidade |\n",
        "| ------- | ------- | ---------- |\n",
        "| ClienteA | Produto1 | 5 |\n",
        "| ClienteA | Produto2 | 3 |\n",
        "| ClienteB | Produto1 | 2 |\n",
        "| ClienteB | Produto3 | 4 |\n",
        "| ClienteA | Produto1 | 2 |\n",
        "\n",
        "\n",
        "1. **Total de Produtos por Cliente:**\n",
        "   - Escreva uma consulta para calcular o total de produtos distintos vendidos por cada cliente.\n",
        "\n",
        "```sql\n",
        "SELECT cliente, COUNT(produto)\n",
        "FROM pedidos\n",
        "GROUP BY cliente;\n",
        "```\n",
        "\n",
        "2. **Média de Quantidade por Produto:**\n",
        "   - Calcule a média da quantidade de cada produto vendido.\n",
        "\n",
        "```sql\n",
        "SELECT AVG(quantidade) AS media_produto\n",
        "FROM pedidos\n",
        "```\n",
        "\n",
        "3. **Clientes que Compraram Produto1:**\n",
        "   - Liste os clientes que compraram o produto chamado \"Produto1\".\n",
        "\n",
        "```sql\n",
        "SELECT cliente\n",
        "FROM pedidos\n",
        "WHERE produto = 'produto1'\n",
        "GROUP BY cliente;\n",
        "```\n",
        "\n",
        "4. **Total Geral de Produtos Vendidos:**\n",
        "   - Determine o total geral de produtos vendidos.\n",
        "\n",
        "```sql\n",
        "SELECT SUM(quantidade) AS total_produtos\n",
        "FROM pedidos;\n",
        "```\n",
        "\n",
        "5. **Produtos com Quantidade Superior a 3:**\n",
        "   - Liste os produtos e suas quantidades apenas para aqueles em que a quantidade vendida é superior a 3.\n",
        "\n",
        "```sql\n",
        "SELECT produto, quantidade\n",
        "FROM pedidos\n",
        "WHERE quantidade > 3;\n",
        "```\n",
        "\n",
        "Lembre-se de usar as funções agregadas apropriadas (como `SUM`, `AVG`, etc.) e a cláusula `GROUP BY` quando necessário. Isso deve ajudar a consolidar os conceitos de agrupamento e funções agregadas em consultas SQL."
      ],
      "metadata": {
        "id": "0XFllY7uL1x6"
      }
    },
    {
      "cell_type": "markdown",
      "source": [
        "####***Exercicio para praticar nível 2***"
      ],
      "metadata": {
        "id": "-Wau0uhsRUV9"
      }
    },
    {
      "cell_type": "markdown",
      "source": [
        "Certamente! Aqui estão mais cinco exercícios com um pouco mais de complexidade:\n",
        "\n",
        "6. **Média de Quantidade por Cliente:**\n",
        "   - Escreva uma consulta para calcular a média da quantidade de produtos vendidos por cada cliente.\n",
        "\n",
        "```sql\n",
        "SELECT cliente, AVG(quantidade) AS media_quantidade_produto\n",
        "FROM pedidos\n",
        "GROUP BY cliente;\n",
        "```\n",
        "7. **Clientes que Compraram Todos os Produtos:**\n",
        "   - Identifique os clientes que compraram todos os produtos disponíveis.\n",
        "```sql\n",
        "Minha resposta.\n",
        "# Seleciona a coluna cliente\n",
        "SELECT cliente,\n",
        "# Da tabela pedidos\n",
        "FROM pedidos\n",
        "WHERE pedido LIKE '%1' AND '%2' AND '%3';\n",
        "GROUP BY cliente\n",
        "HAVING COUNT(DISTINCT produto)\n",
        "\n",
        "Resposta chatg\n",
        "SELECT cliente,\n",
        "FROM pedidos\n",
        "WHERE pedido IN('produto1','produto2','produto3')\n",
        "GROUP BY cliente\n",
        "HAVING COUNT(DISTINCT produto) = 3;\n",
        "```\n",
        "\n",
        "Extra. **Produtos Mais Vendidos:**\n",
        "   - Liste os três produtos mais vendidos, ordenados pelo total vendido.\n",
        "\n",
        "8. **Quantos clientes obtiveram cada item:**\n",
        "\n",
        "```sql\n",
        "SELECT quantidade, COUNT(*)\n",
        "FROM pedido\n",
        "GROUP BY cliente;\n",
        "\n",
        "\n",
        "9. **Total de Produtos por Cliente por Mês:**\n",
        "   - Considere uma nova coluna na tabela de pedidos chamada `data` representando a data da compra. Escreva uma consulta para calcular o total de produtos vendidos por cada cliente para cada mês.\n",
        "\n",
        "10. **Clientes com Maior Variação nas Compras:**\n",
        "    - Identifique os clientes cuja quantidade de compras variou mais em comparação com o mês anterior. Considere novamente a coluna `data`.\n",
        "\n",
        "Lembre-se de considerar a estrutura da sua tabela e ajustar as consultas conforme necessário. Boa prática!"
      ],
      "metadata": {
        "id": "CKrh_S2qRdH7"
      }
    },
    {
      "cell_type": "markdown",
      "source": [
        "###***`HAVING`***\n",
        "Semelhante ao `WHERE` porém é utilizando para filtrar em `GROUP BY`."
      ],
      "metadata": {
        "id": "g8qOg2GHUUll"
      }
    },
    {
      "cell_type": "markdown",
      "source": [
        "A cláusula HAVING é usada em conjunto com a cláusula GROUP BY para filtrar resultados de consultas agregadas com base em condições específicas. Ela permite aplicar condições às funções de agregação, como COUNT, SUM, AVG, etc., após agrupar os dados.\n",
        "\n",
        "Exemplo de uso:\n",
        "\n",
        "```sql\n",
        "SELECT department, AVG(salary) as avg_salary\n",
        "FROM employees\n",
        "GROUP BY department\n",
        "HAVING avg_salary > 50000;\n",
        "```\n",
        "\n",
        "Neste exemplo, a consulta retorna os departamentos onde a média salarial é superior a 50.000.\n",
        "\n",
        "Agora, para exercícios:\n",
        "\n",
        "1. **Exercício simples com HAVING:**\n",
        "   Considere uma tabela \"orders\" com colunas (id, customer_id, total_amount). Escreva uma consulta que retorna os IDs dos clientes cujo total de compras é superior a 1000.\n",
        "\n",
        "```sql\n",
        "SELECT customer_id, SUM(total_amount) AS total_purchase\n",
        "FROM orders\n",
        "GROUP BY customer_id\n",
        "HAVING total_amount > 1000;\n",
        "```\n",
        "\n",
        "\n",
        "2. **Exercício com GROUP BY e HAVING:**\n",
        "   Dada uma tabela \"sales\" com colunas (product_id, quantity_sold, date), escreva uma consulta que retorna os produtos que tiveram uma quantidade total vendida superior a 50 unidades em qualquer dia.\n",
        "\n",
        "```sql\n",
        "SELECT product_id, SUM(quantity_sold) AS total_solds\n",
        "FROM sales\n",
        "GROUP BY product_id\n",
        "HAVING total_solds > 50;\n",
        "```\n",
        "\n",
        "3. **Exercício com múltiplas condições no HAVING:**\n",
        "   Utilize uma tabela \"students\" com colunas (student_id, course_id, grade) e escreva uma consulta que retorna os cursos onde a média das notas é superior a 80 e o número de alunos é maior que 5.\n",
        "\n",
        "```sql\n",
        "SELECT course_id, COUNT(student_id) AS number_students, AVG(grade) AS media_grade\n",
        "FROM students\n",
        "GROUP BY course_id\n",
        "HAVING media_grade > 80 AND number_students > 5;\n",
        "```\n",
        "\n",
        "Lembre-se de adaptar os exercícios com base nas suas tabelas específicas e explorar diferentes situações de uso da cláusula HAVING."
      ],
      "metadata": {
        "id": "YecW17GXVFUa"
      }
    },
    {
      "cell_type": "markdown",
      "source": [
        "####***Exercicios de nível médio***"
      ],
      "metadata": {
        "id": "zjfjY47Ss51W"
      }
    },
    {
      "cell_type": "markdown",
      "source": [
        "Certamente! Aqui estão mais alguns exercícios de nível médio para praticar o uso de cláusulas GROUP BY e HAVING em consultas SQL:\n",
        "\n",
        "4. **Exercício de Agrupamento Temporal:**\n",
        "   Considere uma tabela \"transactions\" com colunas (transaction_id, amount, date). Escreva uma consulta que retorna a média diária de transações para cada mês, incluindo apenas os meses em que a média é superior a $1000.\n",
        "\n",
        "```sql\n",
        "SELECT\n",
        "MONTH(Date) AS month,\n",
        "AVG(amount) AS media_diaria\n",
        "FROM transactions\n",
        "GROUP BY month\n",
        "HAVING media_diaria < 1000;\n",
        "\n",
        "5. **Exercício com JOIN e GROUP BY:**\n",
        "   Suponha duas tabelas: \"employees\" (employee_id, department_id, salary) e \"departments\" (department_id, department_name). Escreva uma consulta que retorna o nome do departamento com a maior média salarial.\n",
        "\n",
        "6. **Exercício com Subconsulta e HAVING:**\n",
        "   Dada uma tabela \"orders\" com colunas (order_id, customer_id, order_date) e uma tabela \"order_items\" com colunas (order_id, product_id, quantity), escreva uma consulta que retorna os IDs de clientes que fizeram pelo menos duas compras em diferentes datas.\n",
        "\n",
        "Lembre-se de adaptar os exercícios com base nas suas próprias tabelas e explorar diferentes situações de uso das cláusulas GROUP BY e HAVING. Se precisar de ajuda com as soluções, estou aqui para ajudar!"
      ],
      "metadata": {
        "id": "uUg7AeEctVMp"
      }
    },
    {
      "cell_type": "markdown",
      "source": [
        "##***JOIN's***"
      ],
      "metadata": {
        "id": "ROTPCnmIAkrZ"
      }
    },
    {
      "cell_type": "markdown",
      "source": [
        "###***JOIN E INNER JOIN***"
      ],
      "metadata": {
        "id": "rmEzcETA3tUX"
      }
    },
    {
      "cell_type": "markdown",
      "source": [
        "Vamos usar um exemplo prático para entender o JOIN e o INNER JOIN.\n",
        "\n",
        "**Cenário:**\n",
        "\n",
        "Imagine duas tabelas em um banco de dados de uma biblioteca:\n",
        "\n",
        "1. **Tabela \"Livros\":**\n",
        "   - Colunas: livro_id, titulo, autor_id, ano_publicacao\n",
        "\n",
        "2. **Tabela \"Autores\":**\n",
        "   - Colunas: autor_id, nome_autor, pais_origem\n",
        "\n",
        "**Exemplo de Dados:**\n",
        "\n",
        "Tabela \"Livros\":\n",
        "\n",
        "| livro_id | titulo           | autor_id | ano_publicacao |\n",
        "| -------- | ---------------  | -------- | -------------- |\n",
        "| 1        | Aventuras Incríveis | 101      | 2005           |\n",
        "| 2        | Descobrindo Códigos | 102      | 2010           |\n",
        "| 3        | Viagem ao Desconhecido | 101  | 2018           |\n",
        "\n",
        "\n",
        "Tabela \"Autores\":\n",
        "\n",
        "| autor_id | nome_autor      | pais_origem |\n",
        "| -------- | --------------- | ----------- |\n",
        "| 101      | João Silva      | Brasil      |\n",
        "| 102      | Maria Santos    | Portugal    |\n",
        "\n",
        "**Exemplo de JOIN:**\n",
        "\n",
        "Suponha que queremos saber quem escreveu cada livro, juntando informações das duas tabelas. Usaremos um JOIN para isso:\n",
        "\n",
        "```sql\n",
        "SELECT Livros.titulo, Autores.nome_autor\n",
        "FROM Livros\n",
        "JOIN Autores ON Livros.autor_id = Autores.autor_id;\n",
        "```\n",
        "\n",
        "**Resultado:**\n",
        "\n",
        "| titulo              | nome_autor  |\n",
        "| ------------------- | ----------- |\n",
        "| Aventuras Incríveis | João Silva   |\n",
        "| Descobrindo Códigos | Maria Santos |\n",
        "| Viagem ao Desconhecido | João Silva |\n",
        "\n",
        "**Explicação:**\n",
        "\n",
        "O JOIN aqui combina informações da tabela \"Livros\" com a tabela \"Autores\" usando o autor_id. Então, conseguimos ver o título do livro e o nome do autor correspondente em uma única tabela.\n",
        "\n",
        "**Exemplo de INNER JOIN:**\n",
        "\n",
        "Um INNER JOIN faz a mesma coisa que o JOIN. A diferença é que o INNER JOIN só retorna linhas onde há uma correspondência nas duas tabelas. Se não houver correspondência, a linha não é incluída no resultado.\n",
        "\n",
        "```sql\n",
        "SELECT Livros.titulo, Autores.nome_autor\n",
        "FROM Livros\n",
        "INNER JOIN Autores ON Livros.autor_id = Autores.autor_id;\n",
        "```\n",
        "\n",
        "**Resultado:**\n",
        "\n",
        "| titulo              | nome_autor  |\n",
        "| ------------------- | ----------- |\n",
        "| Aventuras Incríveis | João Silva   |\n",
        "| Descobrindo Códigos | Maria Santos |\n",
        "| Viagem ao Desconhecido | João Silva |\n",
        "\n",
        "Neste exemplo, o INNER JOIN funciona da mesma forma que o JOIN, pois há correspondências em ambas as tabelas para todas as linhas."
      ],
      "metadata": {
        "id": "X-7sV0UbArFY"
      }
    },
    {
      "cell_type": "markdown",
      "source": [
        "####***JOIN Coders das tarefas***"
      ],
      "metadata": {
        "id": "_NBSZE7Yi_h8"
      }
    },
    {
      "cell_type": "markdown",
      "source": [
        "Para ligar uma tabela a outra, unimos 2 tabelas pela propriedade em comun.\n",
        "Como `ID` veja;\n",
        "\n",
        "Contexto:\n",
        "\n",
        "```sql\n",
        "SELECT *\n",
        "FROM students -- primeira tabela\n",
        "JOIN enrolled -- Segunda tabela\n",
        "ON student.id = enrolled.id; --Ligação das 2 tabelas\n",
        "-- Após o ON passamos o nome da tabela seguido de um `.` entao passamos também a propriedade.\n",
        "-- passamos a primary key e depois a foreign key.\n",
        "```"
      ],
      "metadata": {
        "id": "4GnWFWV9jIZ6"
      }
    },
    {
      "cell_type": "markdown",
      "source": [
        "Selecionando linhas unidades nas tabelas de artista e album adicionando JOIN.\n",
        "\n",
        "```sql\n",
        "SELECT *\n",
        "FROM artista -- primeira tabela\n",
        "JOIN album -- segunda tabelas a ser percorrida\n",
        "ON artista.artista_id = album.album_id;\n",
        "-- ON primeira_tabela.propriedade = segunda_tabela.propriedade;\n",
        "```"
      ],
      "metadata": {
        "id": "bIOh0G_noHh7"
      }
    },
    {
      "cell_type": "markdown",
      "source": [
        "Mudando o nome das tabelas com o `ALIAS`\n",
        "\n",
        "```sql\n",
        "SELECT * -- Selecionando todos os itens das tabelas\n",
        "FROM estudante AS e -- Apelidado a primeira tabela\n",
        "INNER JOIN disciplina AS d -- Apelidado a segunda tabela\n",
        "ON e.estudante_id = d.estudante_id -- Ligando pelas chaves em comum\n",
        "```"
      ],
      "metadata": {
        "id": "SRwcOXe8-H2n"
      }
    },
    {
      "cell_type": "markdown",
      "source": [
        "Mudando o nome das `Colunas` e `Tabelas` com `ALIAS`\n",
        "\n",
        "```sql\n",
        "SELECT e.nome, d.nome\n",
        "FROM estudante e\n",
        "INNER JOIN disciplina d\n",
        "ON e.estudante_id = d.disciplina_id\n",
        "```"
      ],
      "metadata": {
        "id": "FQiulJnL_nEy"
      }
    },
    {
      "cell_type": "markdown",
      "source": [
        "\n",
        "####***INNER JOIN Coders das tabelas***\n",
        "❗podemos unir tabelas com nomes de colunas diferentes\n",
        "\n",
        "❗Só podemos unir tabelas com o mesmo valor"
      ],
      "metadata": {
        "id": "bovAWkV2rTNv"
      }
    },
    {
      "cell_type": "markdown",
      "source": [
        "`INNER JOIN` usa uma propriedade em comum como id para conectar linhas correspondentes de duas tabelas em uma tabela de resultado.\n",
        "Ex:\n",
        "```sql\n",
        "SELECT * -- Seleciona todos os itens das 2 tabelas.\n",
        "FROM estudante -- tabela estudante\n",
        "INNER JOIN classe -- tabela classe\n",
        "ON estudante.id_estudante = classe.id_classe; -- Ligação de chaves em comum\n",
        "```"
      ],
      "metadata": {
        "id": "mf1Te750rZlL"
      }
    },
    {
      "cell_type": "markdown",
      "source": [
        "####***INNER JOIN selecionando colunas***"
      ],
      "metadata": {
        "id": "RQT7Um344sUt"
      }
    },
    {
      "cell_type": "markdown",
      "source": [
        "Quando você menciona \"selecionando colunas\", você está se referindo a escolher quais colunas dessas tabelas combinadas serão incluídas no resultado.\n",
        "\n",
        "Vamos considerar um exemplo com duas tabelas: \"Clientes\" e \"Pedidos\". Suponha que ambas tenham uma coluna chamada \"ClienteID\" em comum.\n",
        "\n",
        "```sql\n",
        "SELECT Clientes.Nome, Pedidos.NumeroPedido\n",
        "FROM Clientes\n",
        "INNER JOIN Pedidos\n",
        "ON Clientes.ClienteID = Pedidos.ClienteID;\n",
        "```\n",
        "\n",
        "Neste exemplo, estamos selecionando os nomes dos clientes e os números dos pedidos, combinando as linhas onde o \"ClienteID\" nas tabelas \"Clientes\" e \"Pedidos\" são iguais. Isso retorna apenas as linhas onde há uma correspondência nas duas tabelas."
      ],
      "metadata": {
        "id": "50oGy17S4uZ7"
      }
    },
    {
      "cell_type": "markdown",
      "source": [
        "####***INNER JOIN com ALIAS (`AS`)***"
      ],
      "metadata": {
        "id": "q7YwYjTj6-fs"
      }
    },
    {
      "cell_type": "markdown",
      "source": [
        "#####***Mais exemplos de utilização***"
      ],
      "metadata": {
        "id": "qlDVpCqE8IBo"
      }
    },
    {
      "cell_type": "markdown",
      "source": [
        "Quando você usa um INNER JOIN com alias, está atribuindo apelidos às tabelas para facilitar a escrita e tornar o código mais legível. Aqui está um exemplo:\n",
        "\n",
        "Considere duas tabelas: \"Clientes\" e \"Pedidos\". Vamos usar alias para essas tabelas, por exemplo, \"c\" para \"Clientes\" e \"p\" para \"Pedidos\".\n",
        "\n",
        "```sql\n",
        "SELECT c.Nome AS NomeCliente, p.NumeroPedido\n",
        "FROM Clientes c\n",
        "INNER JOIN Pedidos p\n",
        "ON c.ClienteID = p.ClienteID;\n",
        "```\n",
        "\n",
        "Neste exemplo, o \"c\" e o \"p\" são aliases que representam as tabelas \"Clientes\" e \"Pedidos\", respectivamente. Estamos selecionando o nome do cliente (usando o alias \"c\") e o número do pedido (usando o alias \"p\"). O INNER JOIN ainda é baseado na igualdade dos \"ClienteID\" nas duas tabelas, mas o uso de alias torna o código mais conciso e legível."
      ],
      "metadata": {
        "id": "k7gjGe-F7UZy"
      }
    },
    {
      "cell_type": "markdown",
      "source": [
        "Certamente! Vamos considerar um cenário de banco de dados simples com as tabelas \"Funcionarios\" e \"Departamentos\", onde cada funcionário está associado a um departamento por meio da coluna \"DepartamentoID\". Vamos usar aliases para simplificar a consulta:\n",
        "\n",
        "```sql\n",
        "-- Selecionando o nome do funcionário e o nome do departamento\n",
        "SELECT f.Nome AS NomeFuncionario, d.Nome AS NomeDepartamento\n",
        "FROM Funcionarios f\n",
        "INNER JOIN Departamentos d ON f.DepartamentoID = d.DepartamentoID;\n",
        "```\n",
        "```sql\n",
        "SELECT f.nome AS funcionario, d.nome AS departamento\n",
        "FROM funcionarios f\n",
        "INNER JOIN departamento d\n",
        "ON f. f.id = d.id\n",
        "```\n",
        "\n",
        "Neste exemplo, usamos \"f\" como alias para a tabela \"Funcionarios\" e \"d\" como alias para a tabela \"Departamentos\". A consulta retorna o nome do funcionário e o nome do departamento ao qual pertence, combinando as linhas com base na igualdade dos \"DepartamentoID\".\n",
        "\n",
        "Outro exemplo:\n",
        "\n",
        "```sql\n",
        "-- Selecionando informações sobre pedidos e clientes\n",
        "SELECT c.Nome AS NomeCliente, p.NumeroPedido, p.DataPedido\n",
        "FROM Clientes c\n",
        "INNER JOIN Pedidos p ON c.ClienteID = p.ClienteID;\n",
        "```\n",
        "\n",
        "Aqui, estamos usando \"c\" como alias para \"Clientes\" e \"p\" como alias para \"Pedidos\". A consulta retorna o nome do cliente, número do pedido e data do pedido, combinando as linhas onde os \"ClienteID\" nas tabelas \"Clientes\" e \"Pedidos\" são iguais.\n",
        "\n",
        "Esses exemplos ilustram como o uso de aliases torna a sintaxe mais compacta e compreensível ao trabalhar com consultas que envolvem várias tabelas."
      ],
      "metadata": {
        "id": "QnzJI9zy8Miu"
      }
    },
    {
      "cell_type": "markdown",
      "source": [
        "###***LEFT JOIN***"
      ],
      "metadata": {
        "id": "SiF1ScUgEM8Y"
      }
    },
    {
      "cell_type": "markdown",
      "source": [
        "####***LEFT JOIN com Exemplos***"
      ],
      "metadata": {
        "id": "vyDoekl6E1ke"
      }
    },
    {
      "cell_type": "markdown",
      "source": [
        "LEFT JOIN é utilizada para combinar linhas de duas ou mais tabelas com base em uma condição, mas ao contrário do INNER JOIN, ela também retorna as linhas da tabela à esquerda, mesmo que não haja correspondência na tabela à direita. Se não houver correspondência, as colunas da tabela à direita terão valores nulos no resultado.\n",
        "\n",
        "Aqui está um exemplo usando duas tabelas, \"Clientes\" e \"Pedidos\":\n",
        "\n",
        "```sql\n",
        "-- Selecionando todos os clientes e seus pedidos (se houver)\n",
        "SELECT Clientes.Nome AS NomeCliente, Pedidos.NumeroPedido\n",
        "FROM Clientes\n",
        "LEFT JOIN Pedidos ON Clientes.ClienteID = Pedidos.ClienteID;\n",
        "```\n",
        "\n",
        "Neste exemplo, estamos selecionando o nome do cliente e o número do pedido, incluindo todos os clientes, mesmo que eles não tenham feito nenhum pedido. Se um cliente não tiver pedido correspondente na tabela \"Pedidos\", o número do pedido será nulo para esse cliente no resultado.\n",
        "\n",
        "A cláusula LEFT JOIN é útil quando você deseja incluir todas as linhas da tabela à esquerda, independentemente de haver correspondências na tabela à direita."
      ],
      "metadata": {
        "id": "S2uaY5_YETlm"
      }
    },
    {
      "cell_type": "markdown",
      "source": [
        "####***Exercicios Join***"
      ],
      "metadata": {
        "id": "JO3x-YD8Ihov"
      }
    },
    {
      "cell_type": "markdown",
      "source": [
        "**Exercício 1: INNER JOIN**\n",
        "\n",
        "Considere duas tabelas: `vendedores` (colunas: `id_vendedor`, `nome_vendedor`) e `pedidos` (colunas: `id_pedido`, `id_vendedor`, `detalhe_pedido`). Escreva uma consulta SQL para obter os nomes dos vendedores e os detalhes dos pedidos correspondentes.\n",
        "\n",
        "```sql\n",
        "\n",
        "```\n",
        "\n",
        "**Exercício 2: LEFT JOIN**\n",
        "\n",
        "Suponha que tenhamos as tabelas `departamentos` (colunas: `id_departamento`, `nome_departamento`) e `funcionarios` (colunas: `id_funcionario`, `nome_funcionario`, `id_departamento`). Alguns departamentos podem não ter funcionários atualmente atribuídos. Escreva uma consulta para listar todos os departamentos e os nomes dos funcionários associados, incluindo aqueles sem funcionários atribuídos.\n",
        "\n",
        "**Exercício 3: INNER JOIN com Condição Adicional**\n",
        "\n",
        "Em um sistema de blog, temos as tabelas `autores` (colunas: `id_autor`, `nome_autor`) e `artigos` (colunas: `id_artigo`, `id_autor`, `titulo_artigo`, `data_publicacao`). Escreva uma consulta para recuperar os nomes dos autores e os títulos dos artigos que foram publicados recentemente (por exemplo, nos últimos 30 dias).\n",
        "\n",
        "**Exercício 4: LEFT JOIN para Dados de Histórico**\n",
        "\n",
        "Considere as tabelas `clientes` (colunas: `id_cliente`, `nome_cliente`) e `compras` (colunas: `id_compra`, `id_cliente`, `detalhe_compra`, `data_compra`). Nem todos os clientes podem ter feito compras. Escreva uma consulta para listar todos os clientes e os detalhes das compras associadas, incluindo clientes que não fizeram compras.\n",
        "\n",
        "Agora você tem os nomes das colunas para cada entidade. Se precisar de mais esclarecimentos ou quiser fornecer as consultas SQL, fique à vontade!\n",
        "\n",
        "**PARA FIXAR**\n",
        "```sql\n",
        "SELECT * --Seleciona todos os itens\n",
        "FROM student --Tabela da Esquerda\n",
        "LEFT JOIN enrolled --Tabela certa\n",
        "ON student.id = enrolled.student_id; --Ligacao das tabelas\n",
        "```\n",
        "\n",
        "**PARA FIXAR 2**\n",
        "```sql\n",
        "SELECT s.name AS nome_estudantes, e.class AS classes --Utilizando `ALIAS` para nomear as colunas selecionadas\n",
        "FROM student s --Renomeando a tabela por `s`\n",
        "LEFT JOIN enrolled e --Renomeando a tabela certa `e`\n",
        "ON s.id = e.student_id --Ligando as tabelas com os seus novos nomes\n",
        "```"
      ],
      "metadata": {
        "id": "uL9S_RENKYL6"
      }
    },
    {
      "cell_type": "markdown",
      "metadata": {
        "id": "mACeeWdWXjLQ"
      },
      "source": [
        "# **SENAC FORMAÇÃO ANALISE DE DADOS 📚**"
      ]
    },
    {
      "cell_type": "markdown",
      "metadata": {
        "id": "LrD6n8TC0_pY"
      },
      "source": [
        "## **MODULO 2 📖 PYTHON**🐍"
      ]
    },
    {
      "cell_type": "markdown",
      "metadata": {
        "id": "x78358tdbFQG"
      },
      "source": [
        "### ***FUNÇÕES*** 🔨"
      ]
    },
    {
      "cell_type": "markdown",
      "metadata": {
        "id": "7ddHI40sbkAg"
      },
      "source": [
        "**Utilização da função \"join()\"**🔧"
      ]
    },
    {
      "cell_type": "markdown",
      "metadata": {
        "id": "J9vlTTOgkq22"
      },
      "source": [
        "O método *join()* é usado para combinar elementos de uma sequência (como uma *lista* ou *tupla*) em uma única *string*, separando esses elementos com um caractere (ou uma sequência de caracteres) de sua escolha. Aqui está a sintaxe básica:\n",
        "\n",
        "```Python\n",
        "\"separador\".join(iterável)\n",
        "```\n",
        "- **Separador:** Este é o caractere (ou sequência de caracteres) que será usado para separar os elementos no resultado final. Por exemplo, você pode usar um espaço em branco, uma vírgula, um hífen ou qualquer caractere de sua escolha.\n",
        "iterável: Isso representa a sequência de elementos que você deseja combinar em uma string. Pode ser uma lista, tupla ou outra sequência.\n",
        "\n",
        "- **Iterável:** Isso representa a sequência de elementos que você deseja combinar em uma *string*. Pode ser uma *lista*, *tupla* ou outra *sequência*."
      ]
    },
    {
      "cell_type": "markdown",
      "metadata": {
        "id": "f77e4g-MfbCv"
      },
      "source": [
        "***Exemplo 1 -*** Combinar uma lista de palavras em uma única string:"
      ]
    },
    {
      "cell_type": "code",
      "execution_count": null,
      "metadata": {
        "colab": {
          "base_uri": "https://localhost:8080/"
        },
        "id": "1bWZtBZQfkvo",
        "outputId": "4b0a5c59-0608-4a65-c479-3e83008cc4b8"
      },
      "outputs": [
        {
          "name": "stdout",
          "output_type": "stream",
          "text": [
            "Isso é um Exemplo\n"
          ]
        }
      ],
      "source": [
        "\n",
        "#Exemplo 1\n",
        "\n",
        "#Lista com strings\n",
        "palavras = [\"Isso\", \"é\",\"um\",\"Exemplo\"]\n",
        "#Uzando a função \"\".join()\n",
        "#Lemos: Salvamos uma nova lista com a string separadora nova \" \".join() e inserimos em qual lista vamos inserir esse novo separador entre parenteses.\n",
        "frase = \" \".join(palavras)\n",
        "print(frase)\n",
        "\n",
        "#Exemplo 2\n",
        "\n",
        "Nome = [\"Alessandro\",\"nome do meio\", \"sobrenome\","
      ]
    },
    {
      "cell_type": "markdown",
      "metadata": {
        "id": "X0tLdxR8jCMb"
      },
      "source": [
        "***Exemplo 2 -*** Combinar uma lista de números em uma string separada por vírgulas:\n",
        "\n",
        ">Aqui, usamos uma vírgula como separador para combinar os *números inteiros* em uma *string*, convertendo os *números* em *strings* com \"*map(str, numeros)*\"."
      ]
    },
    {
      "cell_type": "code",
      "execution_count": null,
      "metadata": {
        "id": "5wuaeqSpjHRo"
      },
      "outputs": [],
      "source": [
        "\n",
        "numeros = [1, 2, 3, 4, 5]\n",
        "texto_numeros = \",\".join(map(str, numeros))\n",
        "print(texto_numeros)\n",
        "print(type(texto_numeros))"
      ]
    },
    {
      "cell_type": "markdown",
      "metadata": {
        "id": "sgfNNqgClZXH"
      },
      "source": [
        "***Exemplo 3 -*** Criar uma URL a partir de partes separadas:\n",
        "\n",
        ">Neste exemplo, usamos um ponto (\".\") como separador para combinar as partes de uma *URL* em uma única string, resultando em \"https://www.exemplo.com\".\n",
        "O método *join()* é uma maneira eficaz de criar *strings* formatadas combinando elementos de uma *sequência* com delimitadores específicos. Ele é amplamente utilizado para criar saídas de texto e construir URLs, caminhos de arquivo, entre outros."
      ]
    },
    {
      "cell_type": "code",
      "execution_count": null,
      "metadata": {
        "colab": {
          "base_uri": "https://localhost:8080/"
        },
        "id": "EiQ6WzJ4le6l",
        "outputId": "5dd090c7-6be3-47f6-a713-7147f3c9dfb2"
      },
      "outputs": [
        {
          "name": "stdout",
          "output_type": "stream",
          "text": [
            "https://www.exemplo.com\n"
          ]
        }
      ],
      "source": [
        "\n",
        "#Lista com um site em partes separadas.\n",
        "partes_url = [\"https://www\", \"exemplo\", \"com\"]\n",
        "#Uninando a lista do site com a função \".join()\"\n",
        "url_completa = \".\".join(partes_url)\n",
        "#Exibindo o site Completo.\n",
        "print(url_completa)"
      ]
    },
    {
      "cell_type": "markdown",
      "metadata": {
        "id": "PD2QZxv0lA5F"
      },
      "source": [
        "**Utilização da função \"map()\"**🔧"
      ]
    },
    {
      "cell_type": "markdown",
      "metadata": {
        "id": "pYa7NC4JlWBs"
      },
      "source": [
        "\n",
        "A função \"*map()*\" em Python é usada para aplicar uma determinada *função* a todos os *itens* de uma *sequência* (como uma *lista* ou *tupla*) e retornar um objeto chamado \"*map*\". Esse objeto \"*map*\" pode ser convertido em uma *lista*, *tupla* ou outra *sequência*, se necessário.\n",
        "Aqui está a sintaxe básica da função *map():*\n",
        "\n",
        "```Python\n",
        "map(função, iterável)\n",
        "```\n",
        "\n",
        "- **Função:** A função que você deseja aplicar a cada elemento do iterável. Pode ser uma função embutida ou uma função definida pelo usuário.\n",
        "- **Iterável:** A sequência de elementos aos quais a função será aplicada.\n",
        "Aqui estão alguns exemplos de como usar a função *map():*"
      ]
    },
    {
      "cell_type": "markdown",
      "metadata": {
        "id": "REHWuIEen9Ik"
      },
      "source": [
        "***Exemplo 1 -*** Aplicar uma função a uma lista de números:\n",
        "\n",
        ">Neste exemplo, definimos uma *função dobrar()* que multiplica um número por 2. Usamos a *função map()* para aplicar essa *função* a cada número na *lista numeros*. O resultado é um objeto \"*map*\" que é convertido em uma *lista*, resultando em [2, 4, 6, 8, 10]."
      ]
    },
    {
      "cell_type": "code",
      "execution_count": null,
      "metadata": {
        "id": "6FfGfPe_oCSf"
      },
      "outputs": [],
      "source": [
        "def dobrar(numero):\n",
        "    return numero * 2\n",
        "\n",
        "numeros = [1, 2, 3, 4, 5]\n",
        "resultado = map(dobrar, numeros)\n",
        "\n",
        "# Convertemos o resultado em uma lista\n",
        "lista_resultado = list(resultado)\n",
        "print(lista_resultado)"
      ]
    },
    {
      "cell_type": "markdown",
      "metadata": {
        "id": "Km-Ce9k9odBl"
      },
      "source": [
        "***Exemplo 2 -*** Converter uma lista de strings para maiúsculas:\n",
        "\n",
        ">Neste exemplo, definimos a *função maiusculas()* para transformar uma *string* em maiúsculas. Usamos a *função map()* para aplicar essa função a cada palavra na *lista palavras*. O resultado é uma *lista* de palavras em *maiúsculas*."
      ]
    },
    {
      "cell_type": "code",
      "execution_count": null,
      "metadata": {
        "id": "mnDA3QaholLv"
      },
      "outputs": [],
      "source": [
        "\n",
        "def maiusculas(texto):\n",
        "    return texto.upper()\n",
        "\n",
        "palavras = [\"python\", \"é\", \"incrível\"]\n",
        "resultado = map(maiusculas, palavras)\n",
        "\n",
        "# Convertemos o resultado em uma lista\n",
        "lista_resultado = list(resultado)\n",
        "print(lista_resultado)"
      ]
    },
    {
      "cell_type": "markdown",
      "metadata": {
        "id": "FwfLUaaeoRNo"
      },
      "source": [
        "### ***DICIONÁRIO*** 📕"
      ]
    },
    {
      "cell_type": "markdown",
      "metadata": {
        "id": "1oEMQeurYCVQ"
      },
      "source": [
        "***Atividade: Enquete\n",
        "➔ O QUE FAZER?***\n",
        "\n",
        "Crie o algoritmo abaixo:\n",
        "1. Crie uma lista de pessoas que devam participar de\n",
        "uma enquete sobre sua linguagem favorita.\n",
        "2. Monte um dicionário com as pessoas que\n",
        "responderam ou não a essa enquete.\n",
        "3. Percorra a lista de pessoas que devem participar\n",
        "da enquete. Se elas já tiverem respondido à\n",
        "enquete, mostre uma mensagem\n",
        "agradecendo-lhes por responder. Se ainda não\n",
        "participaram da enquete, apresente uma\n",
        "mensagem convidando-as a responder.\n",
        "➔ COMO FAZER?\n",
        "Em grupos de 3 a 4\n",
        "pessoas.\n",
        "➔ FECHAMENTO\n",
        "Ouvir impressões gerais\n",
        "da atividade."
      ]
    },
    {
      "cell_type": "code",
      "execution_count": null,
      "metadata": {
        "id": "ksuXjDahYBv3"
      },
      "outputs": [],
      "source": [
        "# Criamos o Dicionario com as pessoas e se elas responderam ou não as perguntas.\n",
        "questionario = {'Renan': 'respondeu', 'Luana': 'respondeu', 'Alessandro': 'respondeu', 'Fernando': 'não respondeu', 'Hanna': 'não respondeu'}\n",
        "# Lista das pessoas que participaram da Enquete\n",
        "lista_pessoas = ['Renan', 'Luana', 'Alessandro', 'Priscila']\n",
        "print(f\"Lista das Pessoas que participaram ou não da lista \\n{lista_pessoas}\")\n",
        "print(\"\")\n",
        "\n",
        "nova_lista = []\n",
        "\n",
        "def verificar_questionario(lista_pessoas, questionario, nova_lista):\n",
        "    for pessoa in lista_pessoas:\n",
        "        if pessoa not in questionario:\n",
        "            questionario[pessoa] = 'Não participou'\n",
        "\n",
        "    for chave, valor in questionario.items():\n",
        "        if valor == 'respondeu':\n",
        "            print(f'O integrante {chave} respondeu')\n",
        "        elif valor == 'Não participou':\n",
        "            if chave in lista_pessoas:\n",
        "                nova_pessoa = input(f'Olá {chave}, gostaria de participar do nosso Questionário? (sim/não) ')\n",
        "                if nova_pessoa.lower() == 'sim':\n",
        "                    nova_lista.append(chave)\n",
        "\n",
        "    for pessoa in nova_lista:\n",
        "        questionario[pessoa] = 'respondeu'\n",
        "\n",
        "    for chave, valor in questionario.items():\n",
        "        print(f'O integrante {chave} {valor}')\n",
        "\n",
        "while True:\n",
        "    adicionar_pessoa = input(\"Informe um nome caso queira adicionar mais alguém no questionário? Se não, digite (Não): \")\n",
        "    if adicionar_pessoa.lower() == \"não\":\n",
        "        break\n",
        "    else:\n",
        "        lista_pessoas.append(adicionar_pessoa)\n",
        "\n",
        "verificar_questionario(lista_pessoas, questionario, nova_lista)"
      ]
    },
    {
      "cell_type": "markdown",
      "metadata": {
        "id": "oNBR2P4soeVQ"
      },
      "source": []
    },
    {
      "cell_type": "code",
      "execution_count": null,
      "metadata": {
        "id": "YGAOvwBLoeww"
      },
      "outputs": [],
      "source": [
        "lista01 = ['Maça','Pera','Banana','Manga','Uva']\n",
        "lista02 = ['a', 'b', 'c', 'd', 'e']\n",
        "lista03 = [1,2,3,4,5]\n",
        "\n",
        "\n",
        "\n",
        "#Iterando sobre zip\n",
        "for item1, item2, item3 in zip(lista01, lista02, lista03):\n",
        "    print(f'Item {item3}: {item1} e item {item3}: {item2}')"
      ]
    },
    {
      "cell_type": "code",
      "execution_count": null,
      "metadata": {
        "id": "q2aw5Kumx6jS"
      },
      "outputs": [],
      "source": [
        "#lista de dicionários\n",
        "carro01 = {'cor': 'preto', 'motor': 2.0, 'ano':2012}\n",
        "carro02 = {'cor': 'branco', 'motor': 1.0, 'ano':2013}\n",
        "carro03 = {'cor': 'prata', 'motor': 2.4, 'ano':2014}\n",
        "carro04 = {'cor': 'vermelho', 'motor': 1.6, 'ano':2015}\n",
        "\n",
        "\n",
        "#declarando dicionário de dicionários\n",
        "dic_carros = {\n",
        "    'Gol': carro01,\n",
        "    'Corsa': carro02,\n",
        "    'Hilux': carro03,\n",
        "    'Fiesta': carro04\n",
        "}\n",
        "#iterando sobre dicionário de dicionários\n",
        "for key in dic_carros:\n",
        "    print(dic_carros[key])"
      ]
    },
    {
      "cell_type": "code",
      "execution_count": null,
      "metadata": {
        "id": "zEnNJNxvzNHD"
      },
      "outputs": [],
      "source": [
        "#usando tuplas como chaves de dicionários\n",
        "#dicionário de telefones: chaves com nome e sobrenome\n",
        "telefones = {\n",
        "    ('Ana', 'Santos'): '555-5550',\n",
        "    ('Maria', 'Nascimento'): '555-5551',\n",
        "    ('Paula', 'Melo'): '555-5552',\n",
        "}\n",
        "informacoes = 0\n",
        "#iteerando sobre o dicionário\n",
        "for nome,sobrenome in telefones:\n",
        "    print(nome, sobrenome)\n",
        "\n",
        "for numero in telefones.keys():\n",
        "    print(numero)\n",
        "\n",
        "for numero in telefones.values():\n",
        "    print(numero)\n",
        "\n",
        "for (nome, sobrenome), valor in telefones.items():\n",
        "    print(nome, sobrenome,valor)\n",
        "    informacoes = nome, sobrenome, valor\n",
        "    print(informacoes)\n"
      ]
    },
    {
      "cell_type": "markdown",
      "metadata": {
        "id": "scLJDzbJ30G-"
      },
      "source": [
        "***Atividade: Criando um aninhamento\n",
        "➔ O QUE FAZER?***\n",
        "\n",
        "Criar um catálogo de cidades:\n",
        "\n",
        "1.Elabore um algoritmo que cria uma lista de\n",
        "dicionários de cidades em que as chaves são o\n",
        "nome da cidade e o estado a que ela pertence.\n",
        "2. Armazene a população, se há praia, região\n",
        "em que está inserida e o gentílico da cidade (ex:\n",
        "paulista, carioca, recifense, etc...).\n",
        "3. Apresente o nome de cada cidade e todas as\n",
        "informações que você armazenou sobre ela.\n",
        "➔ COMO FAZER?\n",
        "Em grupos de 3 a 4 pessoas.\n",
        "➔ FECHAMENTO\n",
        "Compartilhar experiências.\n"
      ]
    },
    {
      "cell_type": "code",
      "execution_count": null,
      "metadata": {
        "id": "dfA9Fbjq4A2l"
      },
      "outputs": [],
      "source": [
        "dic_cidade = [\n",
        "    {\n",
        "        'nome': 'São Paulo',\n",
        "        'estado': 'São Paulo',\n",
        "        'populacao': 12300000,\n",
        "        'praia': False,\n",
        "        'regiao': 'Sudeste',\n",
        "        'gentilico': 'paulista'\n",
        "    },\n",
        "    {\n",
        "        'nome': 'Rio de Janeiro',\n",
        "        'estado': 'Rio de Janeiro',\n",
        "        'populacao': 6747815,\n",
        "        'praia': True,\n",
        "        'regiao': 'Sudeste',\n",
        "        'gentilico': 'carioca'\n",
        "    },\n",
        "    {\n",
        "        'nome': 'Recife',\n",
        "        'estado': 'Pernambuco',\n",
        "        'populacao': 1653461,\n",
        "        'praia': True,\n",
        "        'regiao': 'Nordeste',\n",
        "        'gentilico': 'recifense'\n",
        "    }\n",
        "]\n",
        "\n",
        "for cidade in dic_cidade:\n",
        "    print(f'Cidade: {cidade[\"nome\"]}')\n",
        "    print(f'Estado: {cidade[\"estado\"]}')\n",
        "    print(f'População: {cidade[\"populacao\"]}')\n",
        "    print(f'Possui praia: {\"Sim\" if cidade[\"praia\"] else \"Não\"}')\n",
        "    print(f'Região: {cidade[\"regiao\"]}')\n",
        "    print(f'Gentílico: {cidade[\"gentilico\"]}')\n",
        "    print('-' * 20)"
      ]
    },
    {
      "cell_type": "markdown",
      "metadata": {
        "id": "URq2oxOXnCxQ"
      },
      "source": [
        "### **ORIENTAÇÃO A OBJETOS** 🗽"
      ]
    },
    {
      "cell_type": "markdown",
      "metadata": {
        "id": "zLSOG3v0sF_7"
      },
      "source": [
        "**✍ PESQUISAR SOBRE: \"Os diagramas da uml\"**\n",
        "\n",
        "Diagramas Estrutural:\n",
        "Diagrama de classe,\n",
        "Diagrama de pacote,\n",
        "Diagrama de objeto,\n",
        "Diagrama de componente,\n",
        "Diagrama de estrutura,\n",
        "Diagrama de implantação.\n",
        "\n",
        "Comportamental:   \n",
        "Diagrama de atividade,\n",
        "Diagrama de sequência,\n",
        "Diagrama de comunicação,\n",
        "Diagrama de visão geral da interação,\n",
        "Diagrama de tempo,\n",
        "Diagrama de caso de uso,\n",
        "Diagrama de transição de estados,\n",
        "Diagrama de perfil."
      ]
    },
    {
      "cell_type": "markdown",
      "metadata": {
        "id": "ysGlOuLWqaqR"
      },
      "source": [
        "Abaixo temos dois paradigmas distintos de programação sendo utilizados.\n",
        "Você consegue dizer qual é procedural e qual é orientado a objetos?\n"
      ]
    },
    {
      "cell_type": "code",
      "execution_count": null,
      "metadata": {
        "id": "V88XtW-3qbug"
      },
      "outputs": [],
      "source": [
        "#Exemplo 1 - Procedural\n",
        "lista = []\n",
        "for i in range(5):\n",
        "    msg = input(\"Insira um item na lista: \")\n",
        "    lista.append(msg)\n",
        "print(lista)\n",
        "\n",
        "#Exemplo 2 - POO\n",
        "lista = Lista()\n",
        "\n",
        "lista.inserirItens(5)\n",
        "lista.exibirItens()"
      ]
    },
    {
      "cell_type": "markdown",
      "metadata": {
        "id": "bEEFejUmsp_-"
      },
      "source": [
        "❕ ***Exemplo de utilização de Class*** ❕"
      ]
    },
    {
      "cell_type": "code",
      "execution_count": null,
      "metadata": {
        "id": "urqkwVQ_rTNz"
      },
      "outputs": [],
      "source": [
        "class Cliente:\n",
        "    def __init__(self, nome, telefone, numero, saldo, limite):\n",
        "        self.nome = str(nome)\n",
        "        self.telefone = str(telefone)\n",
        "        self.numero = str(numero)\n",
        "        self.saldo = saldo\n",
        "        self.limite = limite\n",
        "        # inicia extrato\n",
        "        self.extrato = []\n",
        "\n",
        "    def mostraCliente(self):\n",
        "        print(\n",
        "            f'Nome: {self.nome}, telefone: {self.telefone}, Numero: {self.numero}, Saldo: {self.saldo}, limite: {self.limite}')\n",
        "\n",
        "\n",
        "teste = Cliente('Ana', '90999-0000', 10029, 100.45, 3000.00)\n",
        "\n",
        "teste.mostraCliente()"
      ]
    },
    {
      "cell_type": "markdown",
      "metadata": {
        "id": "jEznUOFft2X2"
      },
      "source": [
        "***A forma de declarar objetos em Python utiliza class. Tudo após o nome da\n",
        "classe, dentro da indentação, faz parte do escopo do objeto.***"
      ]
    },
    {
      "cell_type": "code",
      "execution_count": null,
      "metadata": {
        "id": "bxBmy40Lt4qW"
      },
      "outputs": [],
      "source": [
        "class Lista():\n",
        "    lista = []\n",
        "    tamanho = 0\n",
        "\n",
        "    def inserirItens(self, quantidade):\n",
        "        msg = \"Insira um item na lista\"\n",
        "        for i in range(quantidade):\n",
        "            self.lista.append(msg)\n",
        "            self.tamanho += 1"
      ]
    },
    {
      "cell_type": "code",
      "execution_count": null,
      "metadata": {
        "id": "90GnM5iWvJMe"
      },
      "outputs": [],
      "source": [
        "class Lista():\n",
        "    def __init__(self):\n",
        "        self.lista = []\n",
        "        self.tamanho = 0\n",
        "\n",
        "    def inserirItens(self, quantidade):\n",
        "        msg = \"Insira um item na lista\"\n",
        "        for i in range(quantidade):\n",
        "            self.lista.append(msg)\n",
        "            self.tamanho += 1\n",
        "\n",
        "    def exibirItens(self):\n",
        "        for item in self.lista:\n",
        "            print(item)\n",
        "\n",
        "lista = Lista()\n",
        "lista.inserirItens(5)\n",
        "lista.exibirItens()"
      ]
    },
    {
      "cell_type": "markdown",
      "metadata": {
        "id": "AeJbqjKWwH8e"
      },
      "source": [
        "***Atividade:  ***\n",
        "***O cachorro modelo**\n",
        "***➔ O QUE FAZER?***\n",
        "\n",
        "Em um arquivo .py, desenvolva uma página que “modela” um cachorro. Para isso, seu\n",
        "algoritmo deve:\n",
        "\n",
        "● Perguntar o nome e data de nascimento do cachorro ao ser acessada;\n",
        "\n",
        "● Disponibilizar um botão com o texto “latir” que, ao ser clicado, exibe um alerta\n",
        "com o texto “O cachorro latiu”;\n",
        "\n",
        "● Disponibilizar um botão com o texto “comer” que, ao ser clicado, exibe um alerta\n",
        "com o texto “O cachorro comeu”;\n",
        "\n",
        "● Disponibilizar um botão com o texto “objeto cachorro” que, ao ser clicado, exibe\n",
        "no console o objeto do cachorro."
      ]
    },
    {
      "cell_type": "code",
      "execution_count": null,
      "metadata": {
        "id": "gpHmG4HrwVZG"
      },
      "outputs": [],
      "source": [
        "class Cachorro:\n",
        "    def __init__(self):\n",
        "        self.nome = \"\"\n",
        "        self.data_nascimento = \"\"\n",
        "        self.acao = \"\"\n",
        "\n",
        "    def iniciar(self):\n",
        "        self.nome = input(\"Nome do Cachorro: \")\n",
        "        self.data_nascimento = input(\"Data de Nascimento: \")\n",
        "\n",
        "    def metodo(self):\n",
        "        self.acao = [\n",
        "            \"1. O cachorro latiu\",\n",
        "            \"2. O cachorro mordeu\",\n",
        "            \"3. O cachorro se morreu\"\n",
        "        ]\n",
        "        for acao in self.acao:\n",
        "            print(acao)\n",
        "\n",
        "    def executar(self, escolha):\n",
        "        if escolha == \"1\":\n",
        "            self.acao = \"O cachorro latiu\"\n",
        "        elif escolha == \"2\":\n",
        "            self.acao = \"O cachorro mordeu\"\n",
        "        elif escolha == \"3\":\n",
        "            self.acao = \"O cachorro se morreu\"\n",
        "        else:\n",
        "            self.acao = \"Ação inválida\"\n",
        "\n",
        "    def objeto_cachorro(self):\n",
        "        return f\"Objeto Cachorro:\\nNome: {self.nome}\\nData de Nascimento: {self.data_nascimento}\"\n",
        "\n",
        "cachorro = Cachorro()\n",
        "cachorro.iniciar()\n",
        "cachorro.metodo()\n",
        "\n",
        "escolha = input(\"Escolha uma ação (1/2/3): \")\n",
        "cachorro.executar(escolha)\n",
        "\n",
        "print(cachorro.acao)\n",
        "print(\"Obrigado\")\n",
        "\n"
      ]
    },
    {
      "cell_type": "markdown",
      "metadata": {
        "id": "6tboW0j7Ka_k"
      },
      "source": [
        "📌 **IMPORTANTE**\n",
        "\n",
        "**Class NomeDaClasse**: essa linha define o nome da classe que você está criando.\n",
        "\n",
        "\n",
        "**atributo1 = valor1:** aqui você pode definir os atributos da classe e seus valores\n",
        "iniciais. Os atributos da classe podem ser acessados dentro dos métodos usando\n",
        "self.atributo1, self.atributo2, etc.\n",
        "\n",
        "**def metodo1(self, parametro1, parametro2):** aqui você pode definir os métodos da\n",
        "classe.\n",
        "O parâmetro self é obrigatório em todos os métodos, pois é usado para\n",
        "acessar os atributos da classe. Você também pode definir outros parâmetros, como\n",
        "parametro1, parametro2, etc.\n",
        "\n",
        "**return resultado:** no corpo dos métodos, você pode incluir o código que executa a\n",
        "lógica da classe. O return é usado para retornar um valor do método."
      ]
    },
    {
      "cell_type": "markdown",
      "metadata": {
        "id": "pVF8cFOVLWMc"
      },
      "source": [
        "***Atividade: Organizando as entrevistas\n",
        "➔ O QUE FAZER?***\n",
        "\n",
        "Em um arquivo .py, desenvolva uma classe com os seguintes requisitos:\n",
        "1. Tenha os atributos: idade, cidade, estado, salário atual e escolaridade\n",
        "2. Tenha um método imprimirDados que devolva as informações do entrevistado\n",
        "em uma string com os atributos separados por vírgula (Ex: 20,Rio de\n",
        "Janeiro,RJ,1000,Ensino Médio Completo)"
      ]
    },
    {
      "cell_type": "code",
      "execution_count": null,
      "metadata": {
        "id": "5uiIYMLkLWV7"
      },
      "outputs": [],
      "source": [
        "class Pessoa:\n",
        "    def __init__(self,idade,cidade,estado,salario,escolaridade):\n",
        "        self.idade = idade\n",
        "        self.cidade = cidade\n",
        "        self.estado = estado\n",
        "        self.salario = salario\n",
        "        self.escolaridade = escolaridade\n",
        "\n",
        "\n",
        "def dados():\n",
        "    while True:\n",
        "        idade = input(\"Qual a sua idade? \")\n",
        "        cidade = input(\"Qual a sua cidade? \")\n",
        "        estado = input(\"Qual o seu estado? \")\n",
        "        salario = input(\"Qual o seu Salário atual? \")\n",
        "        escolaridade = input(\"Qual a sua Escolaridade? \")\n",
        "        acao = input(\"Deseja continuar? (Sim/Não) \").lower()\n",
        "\n",
        "        if acao == \"não\":\n",
        "            break\n",
        "        elif acao == \"Sim\":\n",
        "            continue\n",
        "        else:\n",
        "            print(\"Valor inválido.\")\n",
        "\n",
        "def imprimir_dados():\n",
        "    print(\"Idade:\", pessoa.idade)\n",
        "    print(\"Cidade:\", pessoa.cidade)\n",
        "    print(\"Estado:\", pessoa.estado)\n",
        "    print(\"Salário:\", pessoa.salario)\n",
        "    print(\"Escolaridade:\", pessoa.escolaridade)\n",
        "\n",
        "# Cria uma instância da classe Pessoa1\n",
        "pessoa = Pessoa(idade=\"\",cidade=\"\",estado=\"\",salario=\"\",escolaridade=\"\")\n",
        "\n",
        "# Coleta os dados\n",
        "dados()\n",
        "\n",
        "# Imprime os dados\n",
        "imprimir_dados(dados())"
      ]
    },
    {
      "cell_type": "markdown",
      "metadata": {
        "id": "2OBw3BUAJfih"
      },
      "source": [
        "***Exercícios de orientação a objetos com a ajuda do BARD💫***"
      ]
    },
    {
      "cell_type": "markdown",
      "metadata": {
        "id": "IElnisHncYz3"
      },
      "source": [
        "**Exercício 1:**\n",
        "Criando uma classe livro e armazenamos dentro da classe o método com os detalhes do livro e depois mostre."
      ]
    },
    {
      "cell_type": "code",
      "execution_count": null,
      "metadata": {
        "colab": {
          "base_uri": "https://localhost:8080/"
        },
        "id": "lJEkefWPKkIx",
        "outputId": "e7f28734-4cf6-41aa-ffcb-45afd912fd4e"
      },
      "outputs": [
        {
          "name": "stdout",
          "output_type": "stream",
          "text": [
            "Nome: O Senhor dos Anéis\n",
            "Autor: J. R.R. Tolkien\n",
            "Genero: Fantasia\n"
          ]
        }
      ],
      "source": [
        "#Criamos a Classe com os seus atributos\n",
        "class Livro:\n",
        "  def __init__(self,nome,autor,genero):\n",
        "    self.nome = nome\n",
        "    self.autor = autor\n",
        "    self.genero = genero\n",
        "\n",
        "#Criamos um método chamado 'detalhes' que imprima os detalhes do livro\n",
        "  def detalhes(self):\n",
        "    print(f\"Nome: {self.nome}\")\n",
        "    print(f\"Autor: {self.autor}\")\n",
        "    print(f\"Genero: {self.genero}\")\n",
        "\n",
        "#Criando uma instância da classe\n",
        "livro = Livro(\"O Senhor dos Anéis\",\"J. R.R. Tolkien\",\"Fantasia\")\n",
        "\n",
        "#E então chamamos o método 'detalhes'\n",
        "livro.detalhes()"
      ]
    },
    {
      "cell_type": "markdown",
      "metadata": {
        "id": "u_82ZnCSgh-5"
      },
      "source": [
        "**Exercício 2:**\n",
        "Crie uma Classe pessoa com os atributos nome, idade e endereço."
      ]
    },
    {
      "cell_type": "code",
      "execution_count": null,
      "metadata": {
        "id": "KYU_bn51hD3k"
      },
      "outputs": [],
      "source": [
        "\n",
        "#Criando a Classe 'Pessoa' com os atributos\n",
        "# na 'def __init__():' sempre com parametro obrigatório 'self'\n",
        "# seguido dos atributos como 'nome,idade, endereco.\n",
        "class Pessoa:\n",
        "\n",
        "#Criamos os atributos pela 'def __init_'\n",
        "  def __init__(self, nome, idade, endereco):\n",
        "    self.nome = nome\n",
        "    self.idade = idade\n",
        "    self.endereco = endereco\n",
        "\n",
        "#Criando o método apresentar com a 'def apresentar(self)'\n",
        "#Incluimos o self como parâmetro nessa função para a função ter acesso aos atributos da própria instância da classe 'Pessoa'\n",
        "  def apresentar(self):\n",
        "    print(f\"Nome: {self.nome}\")\n",
        "    print(f\"Idade: {self.idade}\")\n",
        "    print(f\"Endereço: {self.endereco}\")\n",
        "\n",
        "#A variável 'pessoa' é usada para salvar a instância da classe 'Pessoa'\n",
        "#Pessoa() é o nome do construtor da 'Classe Pessoa'\n",
        "#Dentro dos parênteses temos os valores dos atributos que serão armazenados na classe\n",
        "pessoa = Pessoa(input(\"Nome: \"), 35, \"Rua porto 25\")\n",
        "print(pessoa.nome)"
      ]
    },
    {
      "cell_type": "markdown",
      "metadata": {
        "id": "nSzsQqB8Xezr"
      },
      "source": [
        "Exemplo de Classe:"
      ]
    },
    {
      "cell_type": "code",
      "execution_count": null,
      "metadata": {
        "id": "pXJWfD-mXe96"
      },
      "outputs": [],
      "source": [
        "class Gato:\n",
        "   def __init__(self, nome, idade, raca):\n",
        "        self.nome = str(nome)\n",
        "        self.idade = int(idade)\n",
        "        self.raca = str(raca)\n",
        "\n",
        "   def miar(self):\n",
        "        print(f\"O {self.nome} está miando.\")\n",
        "\n",
        "\n",
        "meu_gato = Gato(\"Frajola\", 9, \"Persa\")\n",
        "\n",
        "print(meu_gato.nome)\n",
        "print(meu_gato.idade)\n",
        "meu_gato.miar()\n",
        "\n",
        "\n",
        "print(meu_gato.raca)  # Imprime:\n",
        "\n",
        "meu_gato.miar()  # Imprime: O Bolinha está latindo."
      ]
    },
    {
      "cell_type": "markdown",
      "metadata": {
        "id": "pfP8q7misBpL"
      },
      "source": [
        "**Atividade: Organizando as entrevistas\n",
        "➔ O QUE FAZER?**\n",
        "\n",
        "Em um arquivo .py, desenvolva uma classe com os seguintes requisitos:\n",
        "1. Tenha os atributos: idade, cidade, estado, salário atual e escolaridade\n",
        "2. Tenha um método imprimirDados que devolva as informações do entrevistado\n",
        "em uma string com os atributos separados por vírgula (Ex: 20,Rio de\n",
        "Janeiro,RJ,1000,Ensino Médio Completo)\n",
        "➔ COMO FAZER?\n",
        "Em grupos de 3 a 4 pessoas.\n",
        "➔ FECHAMENTO\n",
        "Compartilhar impressões gerais da atividade\n",
        "\n",
        "**Atividade: Quem foi entrevistado?\n",
        "➔ O QUE FAZER?**\n",
        "\n",
        "No mesmo arquivo .py, desenvolva uma classe Pesquisa com os seguintes requisitos:\n",
        "1. Tenha os atributos: nome e listaEntrevistados\n",
        "2. Tenha um método imprimirEntrevistados que vai chamar a função imprimirDados\n",
        "de cada um dos entrevistados que forem adicionados a uma pesquisa criada.\n",
        "➔ COMO FAZER?\n",
        "Em grupos de 3 a 4 pessoas.\n",
        "➔ FECHAMENTO\n",
        "Compartilhar impressões gerais da atividade."
      ]
    },
    {
      "cell_type": "markdown",
      "metadata": {
        "id": "6mvQ0qGUY8WS"
      },
      "source": [
        "Exemplo 1"
      ]
    },
    {
      "cell_type": "code",
      "execution_count": null,
      "metadata": {
        "id": "Wpfy7_Q2Y8oq"
      },
      "outputs": [],
      "source": [
        "class Entrevista():\n",
        "    def __init__(self,idade:int,cidade: str,estado: str ,salario: float ,escolaridade: str ):\n",
        "        self.idade = idade\n",
        "        self.cidade = cidade\n",
        "        self.estado = estado\n",
        "        self.salario = salario\n",
        "        self.escolaridade = escolaridade\n",
        "\n",
        "    def imprimir_dados_entrevista(self) -> str :\n",
        "        return f\"Ex:{self.idade},{self.cidade},{self.estado},{self.salario},{self.escolaridade}\";\n",
        "\n",
        "\n",
        "entrevista1 = Entrevista(20,\"Rio de Janeiro\",\"RJ\",1000.0,\",Ensino Médio Completo\")\n",
        "entrevista2 = Entrevista(21,\"São Paulo\",\"SP\",2000.0,\",Ensino Médio Completo\")\n",
        "\n",
        "print(entrevista1.imprimir_dados_entrevista())\n",
        "print(entrevista2.imprimir_dados_entrevista())\n",
        "\n",
        "class Pesquisa():\n",
        "    def __init__(self,nome,entrevistado: Entrevista ):\n",
        "        self.nome = nome\n",
        "        self.lista_de_entrevistados = [entrevistado]\n",
        "\n",
        "    def imprimir_dados(self):\n",
        "        for cd in self.lista_de_entrevistados:\n",
        "            return f\"Candidato: {self.nome}, Dados: {cd.idade},{cd.cidade},{cd.estado},{cd.salario},{cd.escolaridade}\"\n",
        "pesquisa1 = Pesquisa(\"Junior\",entrevista1)\n",
        "pesquisa2 = Pesquisa(\"Junior2\",entrevista2)\n",
        "\n",
        "print(pesquisa1.imprimir_dados())\n",
        "print(pesquisa2.imprimir_dados())"
      ]
    },
    {
      "cell_type": "markdown",
      "metadata": {
        "id": "LDwPKPTbpChf"
      },
      "source": [
        "Exemplo 2"
      ]
    },
    {
      "cell_type": "code",
      "execution_count": null,
      "metadata": {
        "id": "ZdoGCzfIpCyj"
      },
      "outputs": [],
      "source": [
        "class Entrevista():\n",
        "    def __init__(self,idade:int,cidade: str,estado: str ,salario: float ,escolaridade: str ):\n",
        "        self.idade = idade\n",
        "        self.cidade = cidade\n",
        "        self.estado = estado\n",
        "        self.salario = salario\n",
        "        self.escolaridade = escolaridade\n",
        "\n",
        "    def imprimir_dados_entrevista(self) -> str :\n",
        "        return f\"Ex:{self.idade},{self.cidade},{self.estado},{self.salario},{self.escolaridade}\";\n",
        "\n",
        "\n",
        "entrevista1 = Entrevista(20,\"Rio de Janeiro\",\"RJ\",1000.0,\",Ensino Médio Completo\")\n",
        "entrevista2 = Entrevista(21,\"São Paulo\",\"SP\",2000.0,\",Ensino Médio Completo\")\n",
        "\n",
        "print(entrevista1.imprimir_dados_entrevista())\n",
        "print(entrevista2.imprimir_dados_entrevista())\n",
        "\n",
        "class Pesquisa():\n",
        "    def __init__(self,nome,entrevistado: Entrevista ):\n",
        "        self.nome = nome\n",
        "        self.lista_de_entrevistados = [entrevistado]\n",
        "\n",
        "    def imprimir_dados(self):\n",
        "        for cd in self.lista_de_entrevistados:\n",
        "            return f\"Candidato: {self.nome}, Dados: {cd.idade},{cd.cidade},{cd.estado},{cd.salario},{cd.escolaridade}\"\n",
        "pesquisa1 = Pesquisa(\"Junior\",entrevista1)\n",
        "pesquisa2 = Pesquisa(\"Junior2\",entrevista2)\n",
        "\n",
        "print(pesquisa1.imprimir_dados())\n",
        "print(pesquisa2.imprimir_dados())"
      ]
    },
    {
      "cell_type": "markdown",
      "metadata": {
        "id": "Ei990IpjpJ_9"
      },
      "source": [
        "Exemplo 3"
      ]
    },
    {
      "cell_type": "code",
      "execution_count": null,
      "metadata": {
        "id": "_644bSnlpKGC"
      },
      "outputs": [],
      "source": [
        "class Entrevistado:\n",
        "    # def __init__(self, nome = False, idade = False, cidade = False, estado = False, salario_atual = False, escolaridade = False):\n",
        "    def __init__(self, nome, idade, cidade, estado, salario_atual, escolaridade):\n",
        "        self.nome = str(nome)\n",
        "        self.idade = idade\n",
        "        self.cidade = cidade\n",
        "        self.estado = estado\n",
        "        self.salario_atual = salario_atual\n",
        "        self.escolaridade = escolaridade\n",
        "\n",
        "    def retornadados(self):\n",
        "        dados = f\"Nome: {self.nome}, Idade: {self.idade}, Cidade: {self.cidade}, Estado: {self.estado}, Salário atual: {self.salario_atual}, Escolaridade: {self.escolaridade}\"\n",
        "        return dados\n",
        "\n",
        "\n",
        "class Pesquisa:\n",
        "    def __init__(self):\n",
        "        self.listaEntrevistados = []\n",
        "\n",
        "    def adicionarEntrevistado(self):\n",
        "        while True:\n",
        "            nome = str(input(\"\\nNome do entrevistado: \"))\n",
        "            idade = str(input(\"idade do entrevistado: \"))\n",
        "            cidade = str(input(\"cidade do entrevistado: \"))\n",
        "            estado = str(input(\"Estado do entrevistado: \"))\n",
        "            salario_atual = str(input(\"Salario do entrevistado: \"))\n",
        "            escolaridade = str(input(\"Escolaridade do entrevistado: \"))\n",
        "            print(\"\")\n",
        "\n",
        "            Decisao = input(\"Aciona mais um candidato? [S/N]\").upper()\n",
        "            if Decisao == \"N\":\n",
        "                entrevistado = Entrevistado(nome, idade, cidade, estado, salario_atual, escolaridade)\n",
        "                self.listaEntrevistados.append(entrevistado.retornadados())\n",
        "                break\n",
        "            elif Decisao == \"S\":\n",
        "                entrevistado = Entrevistado(nome, idade, cidade, estado, salario_atual, escolaridade)\n",
        "                self.listaEntrevistados.append(entrevistado.retornadados())\n",
        "                print(\"Proximo entrevistado:\")\n",
        "            else:\n",
        "                print(\"Sim ou Não?\")\n",
        "\n",
        "    def imprimir(self):\n",
        "        print(\"\\nNomes presentes na lista:\")\n",
        "        lista = self.listaEntrevistados\n",
        "        for i in lista:\n",
        "            print(i)"
      ]
    },
    {
      "cell_type": "markdown",
      "metadata": {
        "id": "RdgAL0NUpns8"
      },
      "source": [
        "**POO: acesso externo**\n",
        "\n",
        "Para acessar atributos e métodos de um objeto, externamente, utilizamos o nome\n",
        "do objeto/instância junto com o operador “.”!"
      ]
    },
    {
      "cell_type": "code",
      "execution_count": null,
      "metadata": {
        "id": "XMi0tbdTqIjY"
      },
      "outputs": [],
      "source": [
        "# Ex:\n",
        "lampada.cor = 'Amarela'\n",
        "lampada.acender()\n",
        "lampada.apagar()\n"
      ]
    },
    {
      "cell_type": "markdown",
      "metadata": {
        "id": "iygNZ0wgqJpQ"
      },
      "source": [
        "**Acesso Interno 'self'**\n",
        "\n",
        "Para acessar internamente os valores do nosso objeto podemos usar a palavra\n",
        "reservada self, algo como “próprio/própria''. Essa palavra vai apontar para o próprio\n",
        "objeto e vamos conseguir acessar seus métodos e atributos.\n",
        "\n",
        "POO: acesso interno\n",
        "Para acessar atributos e métodos de um objeto, internamente, utilizamos a palavra\n",
        "reservada self com o operador “.”!\n",
        "\n"
      ]
    },
    {
      "cell_type": "code",
      "execution_count": null,
      "metadata": {
        "id": "P6CMrEhxqagF"
      },
      "outputs": [],
      "source": [
        "# Ex:\n",
        "class lampada():\n",
        " cor = \"Amarela\"\n",
        " acesa = False\n",
        " def acender(self):\n",
        " if ~(self.acesa):\n",
        " self.acesa=True"
      ]
    },
    {
      "cell_type": "markdown",
      "metadata": {
        "id": "hwvMb5bTqlEM"
      },
      "source": [
        "**Construtor**\n",
        "\n",
        "Em Python, o construtor padrão é o método init(). Quando um objeto é criado a partir\n",
        "de uma classe, o Python automaticamente chama o método init() e passa o objeto\n",
        "criado como o primeiro argumento (self). O programador pode definir outros\n",
        "argumentos necessários para inicializar os atributos da classe\n",
        "\n",
        "Construtores são métodos especiais de uma classe. Eles são utilizados para transformar\n",
        "o molde no objeto de fato. O método __init__() é utilizado para declará-los. Geralmente\n",
        "eles recebem como argumentos os atributos da classe e os inicializam.\n"
      ]
    },
    {
      "cell_type": "code",
      "execution_count": null,
      "metadata": {
        "id": "qrrb5zAgq3-7"
      },
      "outputs": [],
      "source": [
        "# Exemplo: class Carro:\n",
        " __init__(self, rodas, capacidadeTanque):\n",
        " self.rodas = rodas\n",
        " self.qtdLitrosTanque = capacidadeTanque"
      ]
    },
    {
      "cell_type": "markdown",
      "metadata": {
        "id": "55CfyNEbrTGj"
      },
      "source": [
        "**Getter**\n",
        "\n",
        "Em Python, os getters são geralmente implementados como métodos públicos que\n",
        "retornam o valor de um atributo privado. Por exemplo, se tivermos uma classe\n",
        "chamada \"Pessoa\" com um atributo privado chamado \"_idade\", podemos criar um\n",
        "getter para esse atributo da seguinte maneira.\n",
        "\n",
        "Getters são métodos especiais de um objeto. Eles são utilizados para retornar o valor\n",
        "de um atributo específico. Seu nome é, geralmente, uma junção entre get e o nome\n",
        "do atributo.\n"
      ]
    },
    {
      "cell_type": "code",
      "execution_count": null,
      "metadata": {
        "id": "RLA30D2arfG8"
      },
      "outputs": [],
      "source": [
        "# Exemplo:\n",
        "class Carro:\n",
        " cor = \"Amarela\"\n",
        "__init__(self, rodas, capacidadeTanque):\n",
        " self.rodas = rodas\n",
        " self.qtdLitrosTanque = capacidadeTanque\n",
        "\n",
        " def get_cor():\n",
        " return self.cor"
      ]
    },
    {
      "cell_type": "markdown",
      "metadata": {
        "id": "SirOI0ryrldT"
      },
      "source": [
        "**Setter**\n",
        "\n",
        "Os setters são métodos de uma classe que permitem a atribuição de um valor a um\n",
        "atributo privado (ou protegido) da classe. Eles são usados para implementar a\n",
        "encapsulação, que é um dos princípios fundamentais da programação orientada a\n",
        "objetos (POO).\n",
        "\n",
        "Um Setter é geralmente definido com o prefixo \"set_\" seguido pelo nome do atributo\n",
        "correspondente, sem o sublinhado inicial. Por exemplo, se tivermos um atributo\n",
        "privado chamado \"_idade\", o método Setter correspondente seria definido como\n",
        "\"set_idade\". O objetivo do método Setter é permitir que os usuários da classe atribuam\n",
        "valores ao atributo privado \"_idade\", sem a necessidade de acessá-lo diretamente.\n",
        "\n",
        "Setters são métodos especiais de um objeto e são utilizados para alterar o valor de\n",
        "um atributo específico. Para isso, precisam receber como argumento o novo valor.\n",
        "Seu nome é, geralmente, uma junção entre set e o nome do atributo."
      ]
    },
    {
      "cell_type": "code",
      "execution_count": null,
      "metadata": {
        "id": "ptZ4jucNrtmc"
      },
      "outputs": [],
      "source": [
        "# Exemplo:\n",
        "class Carro:\n",
        " cor = \"Amarela\"\n",
        "__init__(self, rodas, capacidadeTanque):\n",
        " self.rodas = rodas\n",
        " self.qtdLitrosTanque = capacidadeTanque\n",
        "\n",
        " def set_cor(novaCor):\n",
        " self.cor = novaCor"
      ]
    },
    {
      "cell_type": "markdown",
      "metadata": {
        "id": "y_DN9RWJr5hl"
      },
      "source": [
        "***Atividade: Computador de bordo***\n",
        "\n",
        "➔ O QUE FAZER?\n",
        "\n",
        "Desenvolva uma página que “emula” um computador de bordo de automóvel. Para isso::\n",
        "1. Seu algoritmo deve possuir um objeto que represente um carro com as características:\n",
        "cor, capacidade do tanque, quantidade de combustível no tanque, consumo médio\n",
        "(Km/Litro);\n",
        "2. O carro deve possuir métodos que:\n",
        "a. Forneçam a previsão de quantos KM espera-se rodar com a quantidade de combustível e o\n",
        "consumo médio;\n",
        "b. Ande uma determinada quantidade de Km (argumento) e diminua a quantidade de gasolina\n",
        "do tanque a partir da quantidade Km rodados e a média de consumo;\n",
        "c. Getters e Setters para: cor, capacidade do tanque e consumo médio;\n",
        "d. Construtor com modelo e cor."
      ]
    },
    {
      "cell_type": "code",
      "execution_count": null,
      "metadata": {
        "id": "Z42a3mRWCsVk"
      },
      "outputs": [],
      "source": [
        "class Carro:\n",
        "    def __init__(self, cor, cap_tanque, qtd_combustivel, c_medio):\n",
        "        self.cor = str(cor)\n",
        "        self.cap_tanque = float(cap_tanque)\n",
        "        self.qtd_combustivel = float(qtd_combustivel)\n",
        "        self.c_medio = c_medio\n",
        "\n",
        "    # A\n",
        "\n",
        "    def prev(self):\n",
        "        m = self.qtd_combustivel * self.c_medio\n",
        "        print(\n",
        "            f\"Com {self.qtd_combustivel} no tanque, espera-se rodar aproximadamente {m:.0f}Km\"\n",
        "        )\n",
        "\n",
        "    # B\n",
        "\n",
        "    def andar(self):\n",
        "        m = float(input(\"Digite a quantidade de Km a serem andados:\"))\n",
        "        km = 1 / self.c_medio\n",
        "\n",
        "        total = m * km\n",
        "\n",
        "        if total <= self.qtd_combustivel:\n",
        "            self.qtd_combustivel -= total\n",
        "            print(\n",
        "                f\"Você percorreu {m:.0f} km. Restam {self.qtd_combustivel:.2f} litros de combustível no tanque.\"\n",
        "            )\n",
        "        else:\n",
        "            print(\"Você não tem combustível suficiente para isso.\")\n",
        "\n",
        "    # C\n",
        "\n",
        "    def set_cor(self, Ncor):\n",
        "        self.cor = Ncor\n",
        "\n",
        "    def set_cap_tanque(self, Ncap_tanque):\n",
        "        self.cap_tanque = Ncap_tanque\n",
        "\n",
        "    def set_qtd_combustivel(self, Nqtd_combustivel):\n",
        "        self.qtd_combustivel = Nqtd_combustivel\n",
        "\n",
        "    def set_c_medio(self, Nc_medio):\n",
        "        self.c_medio = Nc_medio\n",
        "\n",
        "    # C.2\n",
        "\n",
        "    def get_cor(self):\n",
        "        return self.cor\n",
        "\n",
        "    def set_cap_tanque(self):\n",
        "        return self.cap_tanque\n",
        "\n",
        "    def set_qtd_combustivel(self):\n",
        "        return self.qtd_combustivel\n",
        "\n",
        "    def set_c_medio(self):\n",
        "        return self.c_medio\n",
        "\n",
        "    # D\n",
        "\n",
        "    # Construtor com modelo e cor?\n",
        "\n",
        "\n",
        "c = Carro(\"Amarelo\", 100, 100, 2)\n",
        "c.prev()\n",
        "c.andar()\n",
        "\n",
        "\n",
        "# Menu\n",
        "def iniciar():\n",
        "    while True:\n",
        "        print(\"Crie um carro.\")\n",
        "        cor = input(\"Digite a cor do carro\")\n",
        "        cap_tanque = float(input(\"Digite a cor do carro\"))\n",
        "        qtd_combustivel = float(input(\"Digite a cor do carro\"))\n",
        "        c_medio = float(input(\"Digite a cor do carro\"))\n",
        "        carro = Carro(cor, cap_tanque, qtd_combustivel, c_medio)\n",
        "        break\n",
        "\n",
        "\n",
        "def menu():\n",
        "    op = [\n",
        "        \"Andar\",\n",
        "        \"Set\",\n",
        "        \"Get\",\n",
        "    ]\n",
        "\n",
        "    for i in range(len(op)):"
      ]
    },
    {
      "cell_type": "markdown",
      "metadata": {
        "id": "Ft637XQLC61c"
      },
      "source": [
        "**Exemplo de Classe com agregação**"
      ]
    },
    {
      "cell_type": "code",
      "execution_count": null,
      "metadata": {
        "id": "blPRJGonDo6M"
      },
      "outputs": [],
      "source": [
        "class Clienteconta:\n",
        "    def __init__(self,  nome, telefone, numero, saldo, limite):\n",
        "        self.nome = str(nome)\n",
        "        self.telefone = str(telefone)\n",
        "        self.numero = str(numero)\n",
        "        self.saldo = saldo\n",
        "        self.limite = limite\n",
        "        # inicia extrato\n",
        "        self.extrato = []\n",
        "\n",
        "    def saque(self, valor):\n",
        "        if valor < (self.saldo + self.limite):\n",
        "            self.saldo -= valor\n",
        "            # adiciona ao extrato\n",
        "            self.extrato.append(\"- Saque: \" + str(valor))\n",
        "            return valor\n",
        "        else:\n",
        "            print ('Saldo insuficiente')\n",
        "\n",
        "    def deposito(self, valor):\n",
        "        self.saldo += valor\n",
        "        # adiciona ao extrato\n",
        "        self.extrato.append(\"+ Deposito: \" + str(valor))\n",
        "\n",
        "    def extrato(self):\n",
        "        print ('------Extrato------')\n",
        "        print('Conta: ', self.numero+'\\n')\n",
        "        for i in self.extrato:\n",
        "            print( i + '\\n')\n",
        "        print('Saldo: ', self.saldo)\n",
        "        print ('Limite: ', self.limite)\n",
        "        print ('Disponivel: ', self.saldo+self.limite)\n",
        "\n",
        "\n",
        "    def mostraCliente(self):\n",
        "        print(f'Nome: {self.nome}, telefone: {self.telefone}, Numero: {self.numero}, Saldo: {self.saldo}, limite: {self.limite}')\n",
        "\n",
        "teste = Clienteconta('Ana','90999-0000',10029, 100.00, 3000.00)\n",
        "\n",
        "\n",
        "teste.mostraCliente()\n",
        "teste.saque(50)\n",
        "teste.deposito(200)\n",
        "\n",
        "teste.mostraCliente()\n"
      ]
    },
    {
      "cell_type": "code",
      "execution_count": null,
      "metadata": {
        "id": "I0hQ7OygEMol"
      },
      "outputs": [],
      "source": [
        "______________________________________________\n",
        "\n",
        "# Lista para os resultados dos candidatos\n",
        "candidatos = [ ]\n",
        "\n",
        "def calcularmedia(entrevista, teorico, pratico, soft_skills):\n",
        "    return (entrevista + teorico + pratico + soft_skills) / 4\n",
        "\n",
        "def avaliaraprovacao(media):\n",
        "    return \"Aprovado\" if media >= 7 else \"Reprovado\"\n",
        "\n",
        "def adicionarcandidato():\n",
        "    nome = str(input(\"Nome do candidato: \"))\n",
        "    entrevista = float(input(\"Nota da entrevista: \"))\n",
        "    teorico = float(input(\"Nota do teste teórico: \"))\n",
        "    pratico = float(input(\"Nota do teste prático: \"))\n",
        "    soft_skills = float(input(\"Nota de soft skills: \"))\n",
        "\n",
        "    media = calcularmedia(entrevista, teorico, pratico, soft_skills)\n",
        "    resultado = avaliaraprovacao(media)\n",
        "\n",
        "    candidato = {\n",
        "        \"Nome\": nome,\n",
        "        \"Entrevista\": entrevista,\n",
        "        \"Teórico\": teorico,\n",
        "        \"Prático\": pratico,\n",
        "        \"Soft Skills\": soft_skills,\n",
        "        \"Média\": media,\n",
        "        \"Resultado\": resultado\n",
        "    }\n",
        "\n",
        "    candidatos.append(candidato)\n",
        "\n",
        "def buscar_candidato(nome):\n",
        "    for candidato in candidatos:\n",
        "        if candidato[\"Nome\"] == nome:\n",
        "            print(f\"Nome: {candidato['Nome']}\")\n",
        "            print(f\"Entrevista NOTA {candidato['Entrevista']}, Teoria NOTA {candidato['Teórico']}, Prática NOTA {candidato['Prático']}, Soft NOTA {candidato['Soft Skills']}\")\n",
        "            print(f\"Resultado: {candidato['Resultado']}\")\n",
        "            return\n",
        "\n",
        "continuar = True\n",
        "\n",
        "while continuar:\n",
        "    adicionarcandidato()\n",
        "    continuarresposta = input(\"Deseja continuar inserindo candidatos (sim/não)? \").lower()\n",
        "    continuar = continuarresposta == \"sim\"\n",
        "\n",
        "nomebuscar = input(\"Digite o nome do candidato que deseja buscar: \")\n",
        "buscar_candidato(nomebuscar)\n",
        "\n"
      ]
    },
    {
      "cell_type": "markdown",
      "metadata": {
        "id": "HAEO9MqtF_C2"
      },
      "source": [
        "***Atividade: É de casa ➔ O QUE FAZER?***\n",
        "\n",
        "Criar três classes que representem as entidades Casa, Fatura e Pessoa; Com base nelas, aplique os conceitos de agregação e composição; Dica: lembrem que as pessoas que moram na casa pagam faturas. A partir destas relações será possível aplicar os conceitos de agregação e combinação.\n",
        "\n",
        "➔ COMO FAZER? Em grupos de 3 a 4 pessoas.\n",
        "\n",
        "➔ FECHAMENTO Compartilhar impressões gerais da atividade"
      ]
    },
    {
      "cell_type": "markdown",
      "metadata": {
        "id": "ZlJwLADxyR08"
      },
      "source": [
        "Atividade: Criando nosso resilog\n",
        "➔ O QUE FAZER?\n",
        "\n",
        "Temos como requisito para nossa aplicação os seguintes pontos:\n",
        "1. Vamos criar as classes para Categorias e Eventos;\n",
        "2. As categorias tem apenas título por enquanto;\n",
        "3. Eventos devem ter título, data e categoria;\n",
        "4. Ao criar um evento uma lista com as possíveis categorias deve aparecer para\n",
        "ajudar o usuário a saber quais opções ele tem;\n",
        "5. Cada evento vai ser inserido em um arquivo de texto que vai ficar com nosso log.\n",
        "\n",
        "\n"
      ]
    },
    {
      "cell_type": "code",
      "execution_count": null,
      "metadata": {
        "id": "nOEz-P1qySnD"
      },
      "outputs": [],
      "source": [
        "class Categoria:\n",
        "    def __init__(self, titulo):\n",
        "        self.titulo = titulo\n",
        "\n",
        "class Evento:\n",
        "    def __init__(self, titulo, data, categoria):\n",
        "        self.titulo = titulo\n",
        "        self.data = data\n",
        "        self.categoria = categoria\n",
        "\n",
        "# Lista de categorias disponíveis\n",
        "categorias_disponiveis = [\n",
        "    Categoria(\"Categoria 1\"),\n",
        "    Categoria(\"Categoria 2\"),\n",
        "    Categoria(\"Categoria 3\"),\n",
        "    Categoria(\"Categoria 4\"),\n",
        "    Categoria(\"Categoria 5\"),\n",
        "]\n",
        "\n",
        "# Função para exibir as categorias disponíveis\n",
        "def exibir_categorias():\n",
        "    print(\"Categorias disponíveis:\")\n",
        "    for i, categoria in enumerate(categorias_disponiveis, 1):\n",
        "        print(f\"{i}. {categoria.titulo}\")\n",
        "\n",
        "# Função para criar um evento\n",
        "def criar_evento():\n",
        "    titulo = input(\"Digite o título do evento: \")\n",
        "    data = input(\"Digite a data do evento (ex: 01/01/2023): \")\n",
        "\n",
        "    exibir_categorias()\n",
        "    escolha_categoria = int(input(\"Escolha a categoria do evento (digite o número correspondente): \"))\n",
        "\n",
        "    if 1 <= escolha_categoria <= len(categorias_disponiveis):\n",
        "        categoria = categorias_disponiveis[escolha_categoria - 1]\n",
        "        evento = Evento(titulo, data, categoria)\n",
        "        salvar_evento(evento)\n",
        "        print(\"Evento criado com sucesso!\")\n",
        "    else:\n",
        "        print(\"Evento não criado.\")\n",
        "\n",
        "def salvar_evento(evento):\n",
        "    with open('eventos.txt', 'a', encoding='utf-8') as arquivo_eventos:\n",
        "        arquivo_eventos.write(f\"Título: {evento.titulo}\\n\")\n",
        "        arquivo_eventos.write(f\"Data: {evento.data}\\n\")\n",
        "        arquivo_eventos.write(f\"Categoria: {evento.categoria.titulo}\\n\")\n",
        "        arquivo_eventos.write(\"\\n\")\n",
        "\n",
        "\n",
        "criar_evento()\n"
      ]
    },
    {
      "cell_type": "markdown",
      "metadata": {
        "id": "4YqCBgr99V3L"
      },
      "source": [
        "### **EXERCÍCIOS DO MODULO 2 - RESILIA** 📠\n",
        "***ESTRUTURA DE DADOS***"
      ]
    },
    {
      "cell_type": "markdown",
      "metadata": {
        "id": "Dt_HVu_Z_OSf"
      },
      "source": [
        "✅ **1. Fila de espera.**\n",
        "\n",
        "**Temas: Estruturas de repetição, Listas, Saída de dados, Python**\n",
        "\n",
        "Classificação: Intermediário\n",
        "\n",
        "**O que é para fazer:**\n",
        "\n",
        "Crie uma fila de espera com os nomes de cinco pessoas e execute as seguintes operações: 1-Imprima na tela a fila atual. 2-Remova o primeiro elemento da fila e imprima na tela a fila atualizada. 3-Adicione mais dois nomes à fila e imprima na tela a fila atualizada.\n",
        "\n",
        "**Como Fazer:**\n",
        "\n",
        "Crie uma lista com cinco nomes de pessoas, que representará a fila de espera;\n",
        "Utilize a função print() para imprimir na tela a fila atual;\n",
        "Utilize o método pop(0) para remover o primeiro elemento da lista;\n",
        "Utilize novamente a função print() para imprimir a fila atualizada;\n",
        "Utilize o método append() para adicionar dois novos nomes à lista;\n",
        "Novamente, utilize a função print() para imprimir a fila atualizada."
      ]
    },
    {
      "cell_type": "code",
      "execution_count": null,
      "metadata": {
        "colab": {
          "base_uri": "https://localhost:8080/"
        },
        "id": "NMe8Teq5_OfX",
        "outputId": "3f71a1f0-736b-43b9-9115-3988f565e465"
      },
      "outputs": [
        {
          "name": "stdout",
          "output_type": "stream",
          "text": [
            "['Ana', 'Julia', 'Ester', 'Clara', 'Joelma']\n",
            "['Julia', 'Ester', 'Clara', 'Joelma']\n",
            "['Julia', 'Ester', 'Clara', 'Joelma', 'Juju', 'Janja']\n"
          ]
        }
      ],
      "source": [
        "fila = [\"Ana\", \"Julia\",\"Ester\",\"Clara\",\"Joelma\"]\n",
        "print(fila)\n",
        "\n",
        "fila.pop(0)\n",
        "print(fila)\n",
        "\n",
        "fila.append(\"Juju\")\n",
        "fila.append(\"Janja\")\n",
        "print(fila)"
      ]
    },
    {
      "cell_type": "markdown",
      "metadata": {
        "id": "nxa8kLlZ_BXW"
      },
      "source": [
        "✅ **2. Fusão de Listas**\n",
        "\n",
        "**Temas: Listas, Saída de dados, Python**\n",
        "\n",
        "Classificação: Intermediário\n",
        "\n",
        "**O que é para fazer:**\n",
        "\n",
        "Crie duas listas de tamanho igual com valores numéricos de sua escolha. Crie uma nova lista que seja a fusão das duas primeiras, de forma que os elementos sejam intercalados. Por fim, imprima a nova lista na tela.\n",
        "\n",
        "**Como Fazer:**\n",
        "\n",
        "Crie duas listas de tamanho igual com valores numéricos de sua escolha;\n",
        "Crie uma nova lista vazia para armazenar a fusão das duas primeiras;\n",
        "Utilize um laço de repetição para percorrer todos os índices das listas originais;\n",
        "Para cada índice, adicione o elemento da primeira lista na nova lista e, em seguida, adicione o elemento correspondente da segunda lista na nova lista;\n",
        "Se as listas originais possuem tamanhos diferentes, adicione os elementos restantes da lista maior no final da nova lista;\n",
        "Imprima a nova lista na tela."
      ]
    },
    {
      "cell_type": "code",
      "execution_count": null,
      "metadata": {
        "colab": {
          "base_uri": "https://localhost:8080/"
        },
        "id": "i1XOuxLq_Bg9",
        "outputId": "148061f8-2065-4204-9685-fd25c82a6615"
      },
      "outputs": [
        {
          "name": "stdout",
          "output_type": "stream",
          "text": [
            "(1, 6, 2, 7, 3, 8, 4, 9, 5, 10)\n"
          ]
        }
      ],
      "source": [
        "# Crie duas listas de tamanho igual\n",
        "lista1 = [1, 2, 3, 4, 5]\n",
        "lista2 = [6, 7, 8, 9, 10]\n",
        "\n",
        "# Combine as duas listas e aplane-as\n",
        "nova_lista = sum(zip(lista1, lista2), ())\n",
        "\n",
        "# Imprima a nova lista na tela\n",
        "print(nova_lista)"
      ]
    },
    {
      "cell_type": "markdown",
      "metadata": {
        "id": "Eg5VfJi3-MLN"
      },
      "source": [
        "✅ **3. Soma de valores em uma lista.**\n",
        "\n",
        "**Temas: Listas, Saída de dados, Python**\n",
        "\n",
        "Classificação: Iniciante\n",
        "O que é para fazer:\n",
        "\n",
        "Crie uma lista com 5 números inteiros de sua escolha e calcule a soma desses valores. Imprima o resultado da soma na tela.\n",
        "\n",
        "**Como Fazer:**\n",
        "\n",
        "Crie uma lista com 5 números inteiros de sua escolha;\n",
        "Declare uma variável para armazenar a soma dos valores da lista;\n",
        "Utilize um laço de repetição para percorrer todos os elementos da lista e ir somando seus valores na variável criada no passo anterior;\n",
        "Imprima o resultado da soma na tela."
      ]
    },
    {
      "cell_type": "code",
      "execution_count": null,
      "metadata": {
        "id": "AfUO10sG-NQy"
      },
      "outputs": [],
      "source": [
        "lista = [5,10,15,41,100]\n",
        "soma_lista = 0\n",
        "\n",
        "for numero in lista:\n",
        "  soma_lista += numero\n",
        "\n",
        "\n",
        "print(soma_lista)"
      ]
    },
    {
      "cell_type": "markdown",
      "metadata": {
        "id": "2OHxpEnOrzs2"
      },
      "source": [
        "✅ **4. Manipulação de tuplas.\n",
        "   .**\n",
        "\n",
        "**Temas: Saída de dados, Filas, Python**\n",
        "\n",
        "Crie uma tupla com 5 elementos e realize as seguintes operações:\n",
        "\n",
        "1- Imprima na tela o tamanho da tupla;\n",
        "\n",
        "2- Crie uma nova tupla que contenha os elementos da tupla original em ordem reversa;\n",
        "\n",
        "3- Imprima na tela os elementos da nova tupla separados por \"\"-\"\".\n",
        "\n",
        "**Como Fazer:**\n",
        "\n",
        "\n",
        "1. Crie uma tupla com 5 elementos de sua escolha.\n",
        "\n",
        "2. Utilize a função len() para imprimir na tela o tamanho da tupla.\n",
        "\n",
        "3. Crie uma nova tupla que contenha os elementos da tupla original em ordem reversa, utilizando o fatiamento com parâmetro -1.\n",
        "\n",
        "4. Utilize o método join() para imprimir na tela os elementos da nova tupla, separados por \"\"-\"\"."
      ]
    },
    {
      "cell_type": "code",
      "execution_count": null,
      "metadata": {
        "colab": {
          "base_uri": "https://localhost:8080/"
        },
        "id": "pxfrAPR5sobX",
        "outputId": "80abe5a8-087f-44a0-81cc-58d927abcf02"
      },
      "outputs": [
        {
          "name": "stdout",
          "output_type": "stream",
          "text": [
            "Tamanho da tupla original: 5\n",
            "Tupla reversa separada por '-': 50-40-30-20-10\n",
            "Tamanho da tupla -  5\n",
            "Gisa-Cristine-Raquel-Brito-Ale\n"
          ]
        }
      ],
      "source": [
        "# Exemplo 1\n",
        "# Crie uma tupla com 5 elementos\n",
        "tupla_original = (10, 20, 30, 40, 50)\n",
        "\n",
        "# Use a função len() para imprimir o tamanho da tupla\n",
        "tamanho = len(tupla_original)\n",
        "print(\"Tamanho da tupla original:\", tamanho)\n",
        "\n",
        "# Crie uma nova tupla com elementos da tupla original em ordem reversa\n",
        "tupla_reversa = tupla_original[::-1]\n",
        "\n",
        "# Use o método join() para imprimir os elementos da nova tupla separados por \"-\"\n",
        "elementos_separados = \"-\".join(map(str, tupla_reversa))\n",
        "print(\"Tupla reversa separada por '-':\", elementos_separados)\n",
        "\n",
        "# Exemplo 2\n",
        "# Criar uma tupla com 5 elementos\n",
        "nomes = (\"Ale\",\"Brito\",\"Raquel\",\"Cristine\",\"Gisa\")\n",
        "\n",
        "# Use a função len() para imprimir o tamanho da Tupla\n",
        "tamanho = len(nomes)\n",
        "print(\"Tamanho da tupla - \", tamanho)\n",
        "\n",
        "# Crie uma nova tupla com elementos da tupla original em ordem Reversa\n",
        "nomes_inverso = nomes[::-1]\n",
        "\n",
        "# Use o método join() para imprimir os elementos da nova tupla separados por \"-\"\n",
        "nomes_inversos_separados = \"-\".join(nomes_inverso)\n",
        "print(nomes_inversos_separados)"
      ]
    },
    {
      "cell_type": "markdown",
      "metadata": {
        "id": "H1r44podvx7d"
      },
      "source": [
        "✅5. **Temas:** Saída de dados, Tuplas, Python\n",
        "\n",
        "**Classificação:** Iniciante\n",
        "\n",
        "**O que é para fazer:**\n",
        "\n",
        "Crie uma lista com 6 elementos e utilize o fatiamento para imprimir na tela as seguintes sub-listas: os três primeiros elementos, os três últimos elementos e uma sub-lista com o segundo e o terceiro elemento.\n",
        "\n",
        "**Como Fazer:**\n",
        "\n",
        "Crie uma lista com 6 elementos de sua escolha.\n",
        "Utilize o fatiamento para imprimir na tela os três primeiros elementos da lista.\n",
        "Utilize o fatiamento para imprimir na tela os três últimos elementos da lista.\n",
        "Utilize o fatiamento para imprimir na tela uma sub-lista com o segundo e o terceiro elementos da lista."
      ]
    },
    {
      "cell_type": "markdown",
      "metadata": {
        "id": "Cw-5hKoeQiQR"
      },
      "source": [
        "###***Trabalho Individual - Modulo 2*** ✅"
      ]
    },
    {
      "cell_type": "code",
      "execution_count": null,
      "metadata": {
        "id": "BQjNU43zQdkU"
      },
      "outputs": [],
      "source": [
        "# Criar uma lista para armazenar os resultados\n",
        "resultado=[]\n",
        "# Dicionário de Candidatos\n",
        "candidatos = {\n",
        "\"Candidato 1\": {\"Entrevista\":(\"e\",5),\n",
        "\"Técnica\":(\"t\",10),\n",
        "\"Prática\":(\"p\",8),\n",
        "\"Soft Skill\":(\"s\",8)},\n",
        "\"Candidato 2\": {\"Entrevista\":(\"e\",10),\n",
        "\"Técnica\":(\"t\",7),\n",
        "\"Prática\":(\"p\",7),\n",
        "\"Soft Skill\":(\"s\",8)},\n",
        "\"Candidato 3\": {\"Entrevista\":(\"e\",8),\n",
        "\"Técnica\":(\"t\",5),\n",
        "\"Prática\":(\"p\",4),\n",
        "\"Soft Skill\":(\"s\",9)},\n",
        "\"Candidato 4\": {\"Entrevista\":(\"e\",2),\n",
        "\"Técnica\":(\"t\",2),\n",
        "\"Prática\":(\"p\",2),\n",
        "\"Soft Skill\":(\"s\",1)},\n",
        "\"Candidato 5\": {\"Entrevista\":(\"e\",10),\n",
        "\"Técnica\":(\"t\",10),\n",
        "\"Prática\":(\"p\",8),\n",
        "\"Soft Skill\":(\"s\",9)}\n",
        "}\n",
        "\n",
        "# Função que busca o candidato de acordo com os critérios digitados pelo usuário\n",
        "def requisito_vaga():\n",
        "    print(\"verificador de compatibilidade de um candidato com uma vaga\")\n",
        "    print(\"Temos uma vaga para Analista e os requisitos mínimos são:\")\n",
        "    requisitos = [int(input(\"Entrevista: \")),int(input(\"Técnica: \")), int(input(\"Prática: \")), int(input(\"Soft Skill: \"))]\n",
        "    resultado.append(requisitos)\n",
        "    return requisitos\n",
        "\n",
        "def buscar_candidatos(requisitos):\n",
        "    candidatos_compativeis = []\n",
        "\n",
        "    for candidato, habilidades in candidatos.items():\n",
        "        atende_requisitos = all(habilidades[chave][1] >= requisito for chave, requisito in zip(habilidades.keys(), requisitos))\n",
        "\n",
        "        if atende_requisitos:\n",
        "            requisitos_formatados = \"_\".join(f\"{chave[0].lower()}{requisito[1]}\" for chave, requisito in habilidades.items())\n",
        "            candidatos_compativeis.append((candidato, requisitos_formatados))\n",
        "\n",
        "    return candidatos_compativeis\n",
        "\n",
        "requisitos = requisito_vaga()\n",
        "candidatos_compativeis = buscar_candidatos(requisitos)\n",
        "\n",
        "print(\"Candidatos compatíveis com os requisitos mínimos:\")\n",
        "for candidato, requisitos_formatados in candidatos_compativeis:\n",
        "    requisitos_str = \"_\".join(requisitos_formatados.split(\"_\")[:])\n",
        "    print(f\"Candidato: {candidato}, Requisitos: {requisitos_str}\")\n"
      ]
    },
    {
      "cell_type": "markdown",
      "metadata": {
        "id": "BkliT4oQtK4D"
      },
      "source": [
        "## **MODULO 3 📖  - SQL** 🥃\n",
        "***Banco de Dados*** 📚"
      ]
    },
    {
      "cell_type": "markdown",
      "metadata": {
        "id": "iLj87iRH666a"
      },
      "source": [
        "***FireBase*** 🔥\n",
        ">O Firebase é uma plataforma de desenvolvimento de aplicativos móveis e web oferecida pelo Google. Ele fornece uma variedade de serviços e ferramentas que ajudam os desenvolvedores a criar aplicativos de alta qualidade de maneira mais rápida e eficiente."
      ]
    },
    {
      "cell_type": "markdown",
      "metadata": {
        "id": "uOQvb3Z8H2Z_"
      },
      "source": [
        "###**MySQL WorkBench 🐟**"
      ]
    },
    {
      "cell_type": "markdown",
      "source": [
        "###***CONSULTAS DO BANCO PIZZARIA***"
      ],
      "metadata": {
        "id": "y2vfeE8l_nUB"
      }
    },
    {
      "cell_type": "markdown",
      "source": [
        "#####***ATIVIDADE - Segunda rodada***"
      ],
      "metadata": {
        "id": "L4RAoGDOOJwq"
      }
    },
    {
      "cell_type": "markdown",
      "source": [
        "O QUE FAZER?\n",
        "Criar consultas SQL para cada um dos cenários:\n",
        "1. Selecionar os nomes dos clientes que realizaram mais de 2 pedidos.\n",
        "2. Retornar a quantidade de pedidos de cada pizza.\n",
        "3. Retornar a quantidade de pedidos de cada categoria de pizza.\n",
        "4. Retornar a soma dos preços dos pedidos agrupados pelo nome da pizza.\n",
        "5. Retornar a soma dos preços dos pedidos agrupados pelo nome da pizza, filtrando pelas pizzas de\n",
        "categoria “Zero Lactose”.\n"
      ],
      "metadata": {
        "id": "T8aPHU59OaBJ"
      }
    },
    {
      "cell_type": "markdown",
      "source": [
        "***Resposta n1***\n",
        "```sql\n",
        "SELECT tb_cliente.nome,\n",
        "COUNT(tb_pedido.id_pedido) AS numero_pedidos\n",
        "FROM tb_cliente\n",
        "JOIN tb_pedido ON tb_cliente.id_cliente = tb_pedido.id_cliente\n",
        "GROUP BY tb_cliente.nome HAVING numero_pedidos > 2\n",
        "ORDER BY numero_pedidos;\n",
        "```"
      ],
      "metadata": {
        "id": "7qlBsk8iP6M-"
      }
    },
    {
      "cell_type": "markdown",
      "source": [
        "***Resposta n2***\n",
        "```sql\n",
        "SELECT tb_pizza.nome, COUNT(tb_pedido_pizza.id_pedido) AS numero_pedidos\n",
        "FROM tb_pizza JOIN tb_pedido_pizza\n",
        "ON tb_pizza.id_pizza = tb_pedido_pizza.id_pizza\n",
        "GROUP BY tb_pizza.nome\n",
        "ORDER BY numero_pedidos desc;\n",
        "```"
      ],
      "metadata": {
        "id": "aTmjGId4PeAF"
      }
    },
    {
      "cell_type": "markdown",
      "source": [
        "***Resposta n3***\n",
        "\n",
        "```sql\n",
        "SELECT tb_pizza.categoria, COUNT(tb_pedido_pizza.id_pedido) AS numero_pedidos\n",
        "FROM tb_pizza JOIN tb_pedido_pizza\n",
        "ON tb_pizza.id_pizza = tb_pedido_pizza.id_pizza\n",
        "GROUP BY tb_pizza.categoria\n",
        "ORDER BY numero_pedidos desc;\n",
        "```\n",
        "\n",
        "\n",
        "\n"
      ],
      "metadata": {
        "id": "MeQJ24fwPPUW"
      }
    },
    {
      "cell_type": "markdown",
      "source": [
        "***Resposta n4***\n",
        "```sql\n",
        "select tb_pizza.nome, sum(tb_pizza.preco) from tb_pedido inner join tb_pedido_pizza inner join tb_pizza\n",
        "where (tb_pedido.id_pedido = tb_pedido_pizza.id_pedido) and\n",
        "(tb_pizza.id_pizza = tb_pedido_pizza.id_pizza)\n",
        "group by tb_pizza.nome;\n",
        "```"
      ],
      "metadata": {
        "id": "NvGjG9MDO_D0"
      }
    },
    {
      "cell_type": "markdown",
      "source": [
        "***Resposta n5***\n",
        "```sql\n",
        "select tb_pizza.nome, sum(tb_pizza.preco), categoria\n",
        "from tb_pedido inner join tb_pedido_pizza inner join tb_pizza\n",
        "where(tb_pedido.id_pedido = tb_pedido_pizza.id_pedido)\n",
        "group by tb_pizza.nome having categoria = \"Zero Lactose\";\n",
        "```"
      ],
      "metadata": {
        "id": "6AoUONQKOlXk"
      }
    },
    {
      "cell_type": "markdown",
      "source": [
        "####***JOINN's***"
      ],
      "metadata": {
        "id": "pe3LmtkHRRo0"
      }
    },
    {
      "cell_type": "markdown",
      "source": [
        "```sql\n",
        "use  pizzaria;\n",
        "select  * from tb_cliente\n",
        "inner join tb_pedido on tb_cliente.id_cliente = tb_pedido.id_pedido;\n",
        "```\n",
        "\n",
        "```sql\n",
        "use  pizzaria;\n",
        "select  nome,tipo_entrega,preco from tb_cliente\n",
        " inner join tb_pedido on tb_cliente.id_cliente = tb_pedido.id_pedido;\n",
        " ```\n",
        "\n",
        "```sql\n",
        "use  pizzaria;\n",
        "select  nome,tipo_entrega,preco from tb_cliente\n",
        " inner join tb_pedido on tb_cliente.id_cliente = tb_pedido.id_cliente;\n",
        " ```\n",
        "\n",
        "```sql\n",
        " select  nome,tipo_entrega,preco from tb_cliente\n",
        " inner join tb_pedido on tb_cliente.id_cliente = tb_pedido.id_cliente group by nome;\n",
        " ```"
      ],
      "metadata": {
        "id": "YX2vXth9RWrE"
      }
    },
    {
      "cell_type": "markdown",
      "source": [
        "```sql\n",
        "select  *  from tb_pizza WHERE nome LIKE '%piry' ;\n",
        "\n",
        "select  *  from tb_pizza WHERE nome LIKE '%piry' ;\n",
        "\n",
        "select  *  from tb_pizza WHERE nome LIKE '%com%' ;\n",
        "\n",
        "select  *  from tb_pizza WHERE nome LIKE '%com%' ;\n",
        "\n",
        "select * from tb_cliente where endereco LIKE 'rua das flores%';\n",
        "\n",
        "select *  from tb_pizza where descricao like '%bacon%' (Busca que contém pizza)\n",
        "\n",
        "select * from tb_pizza where nome like '_a%'; (Busca que contém o A como segunda letra)\n",
        "\n",
        "select nome,preco from tb_cliente inner join tb_pedido on tb_cliente.id_cliente=tb_pedido.id_cliente where preco in (45,95,120); (Retorna o cliente e o preço que ele já gastou)\n",
        "\n",
        "select max(preco) from tb_pedido;\n",
        "\n",
        "select min(preco) from tb_pedido;\n",
        "\n",
        "select avg(preco) from tb_pedido; (AVG tira a média)\n",
        "\n",
        "select count(preco) from tb_pedido where preco > 60;\n",
        "\n",
        "select count(preco) from tb_pedido where preco >100;\n",
        "```"
      ],
      "metadata": {
        "id": "tXXLwDwqXoQT"
      }
    },
    {
      "cell_type": "markdown",
      "source": [
        "####***AQUECIMENTO***"
      ],
      "metadata": {
        "id": "dkziSNNNUF3m"
      }
    },
    {
      "cell_type": "markdown",
      "source": [
        "1. Selecionar o nome dos clientes e o preço dos pedidos com o tipo de entrega Delivery.\n",
        "```sql\n",
        "SELECT nome,preco\n",
        "FROM tb_cliente\n",
        "INNER JOIN tb_pedido ON tb_cliente.id_cliente = tb_pedido.id_cliente\n",
        "WHERE tb_pedido.tipo_entrega = 'Delivery';\n",
        "```\n",
        "2. Selecionar o nome dos clientes e o nome das pizzas pedidas por eles.\n",
        "```sql\n",
        "SELECT tb_cliente.nome, tb_pedido.preco\n",
        "FROM tb_cliente\n",
        "INNER JOIN tb_pedido ON tb_cliente.id_cliente= tb_pedido.id_ciente\n",
        "WHERE tb_pedido.preco > 160;\n",
        "\n",
        "\n",
        "3. Selecionar o nome dos clientes e o nome das pizzas pedidas por eles filtrando pelas\n",
        "pizzas que são Zero Lactose.\n",
        "```sql\n",
        "SELECT tb_cliente.nome,\n",
        "\n",
        "```\n",
        "\n",
        "4. Selecionar o total de preço dos pedidos, agrupado pelos nomes dos clientes e\n",
        "ordenados pelos que mais gastaram.\n"
      ],
      "metadata": {
        "id": "OoyxLf4qUKdm"
      }
    },
    {
      "cell_type": "markdown",
      "source": [
        "###**CRIANDO BANCO DE DADOS MAGAZU**\n",
        "\n"
      ],
      "metadata": {
        "id": "2oHSLd2bYzSD"
      }
    },
    {
      "cell_type": "markdown",
      "source": [
        "CRIANDO BANCO DE DADOS MAGAZU\n",
        "'''\n",
        "create database magazu;\n",
        "'''\n",
        "\n",
        "SELECIONA O BANCO DE DADOS A SER UTILIZADO E TODAS AS PESQUISAS SUBSEQUENTES SERÃO FEITAAS PARA ESSE BANCO DE DADOS.\n",
        "use magazu;\n",
        "\n",
        "ISSO RECUPERARÁ(mostrará) TODOS OS REGISTROS E TODAS AS COLUNAS DA TABELA ESPECIFICADA.\n",
        "select * from pedido;\n",
        "select * from cliente;\n",
        "select * from fornecedor;\n",
        "select * from produto;\n",
        "\n",
        "CRIANDO UMA NOVA TABELA CLIENTE COM (CREATE TABLE 'nome_tabela'('colunas'))\n",
        "\n",
        "'''\n",
        "NOT NULL\n",
        "Quando uma coluna é definida como NOT NULL, você está garantindo que os registros na tabela devem conter um valor válido para essa coluna.\n",
        "Isso significa que a coluna não pode ser deixada em branco (ou nula) em nenhum registro.\n",
        "Sintaxe: A restrição NOT NULL é aplicada durante a criação da tabela, ao definir a estrutura da coluna.\n",
        "'''\n",
        "\n",
        "'''\n",
        "PRIMARY KEY\n",
        "Unicidade: Garante que valores na coluna (ou colunas) sejam únicos em cada registro.\n",
        "Não Nulidade: Exige que a coluna (ou colunas) não contenha valores nulos.\n",
        "Identificação Única: Serve para identificar registros exclusivamente na tabela.\n",
        "Sintaxe: Usada durante a criação da tabela com PRIMARY KEY ou com ALTER TABLE para definir a chave primária.\n",
        "'''\n",
        "'''\n",
        "FOREIGN KEY\n",
        "A restrição FOREIGN KEY (chave estrangeira) em SQL é usada para estabelecer uma relação entre duas tabelas em um banco de dados relacional. Aqui está um resumo conciso dos principais pontos sobre a restrição FOREIGN KEY:\n",
        "Relacionamento entre Tabelas: Uma chave estrangeira é usada para criar um relacionamento entre duas tabelas, geralmente uma tabela pai (referenciada) e uma tabela filha (referenciadora).\n",
        "Garante Referencial Integridade: A restrição FOREIGN KEY garante a integridade referencial, o que significa que os valores na coluna da chave estrangeira na tabela filha devem corresponder aos valores na coluna da chave primária na tabela pai.\n",
        "Restrição de Valores: Os valores na coluna da chave estrangeira devem corresponder aos valores na coluna da chave primária da tabela pai. Isso evita inconsistências nos dados.\n",
        "Sintaxe: A restrição FOREIGN KEY é definida durante a criação da tabela ou com a instrução ALTER TABLE. Ela especifica a coluna da chave estrangeira na tabela filha e a tabela e coluna da chave primária na tabela pai.\n",
        "Ações de Atualização e Exclusão: Pode-se definir ações a serem executadas quando registros relacionados são atualizados ou excluídos, como CASCADE (atualiza ou exclui registros relacionados), SET NULL (define valores nulos na coluna da chave estrangeira), entre outras.\n",
        "Melhora a Integridade e a Consistência dos Dados: A chave estrangeira ajuda a manter a consistência dos dados, garantindo que as referências entre tabelas sejam válidas.\n",
        "Em resumo, a restrição FOREIGN KEY é usada para estabelecer relações entre tabelas, garantir a integridade referencial e manter a consistência dos dados em um banco de dados relacional.\n",
        "'''\n",
        "\n",
        "CREATE TABLE `cliente` (\n",
        "  `codcliente` int(11) NOT NULL PRIMARY KEY auto_increment,\n",
        "  `nome` varchar(20) NOT NULL,\n",
        "  `endereco` varchar(30) NOT NULL,\n",
        "  `celular` varchar(14) NOT NULL\n",
        ") ENGINE=InnoDB DEFAULT CHARSET=utf8mb4;\n",
        "\n",
        "ENTIDADES\n",
        "BANCO MAGAZU\n",
        "\n",
        "TABELA CLIENTE\n",
        "CHAVE PRIMARIA\n",
        "\n",
        "\n",
        "TABELA FORNECEDOR\n",
        "CHAVE PRIMARIA\n",
        "\n",
        "TABELA PRODUTO\n",
        "CHAVE PRIMARIA\n",
        "\n",
        "TABELA PEDIDO\n",
        "CHAVE PRIMARIA"
      ],
      "metadata": {
        "id": "CaWYlGpJX7-4"
      }
    },
    {
      "cell_type": "markdown",
      "source": [
        "USE magazu;\n",
        "\n",
        "CREATE TABLE departamento(\n",
        "coddepartamento INT(11) NOT NULL PRIMARY KEY AUTO_INCREMENT,\n",
        "nome VARCHAR(20) NOT NULL,\n",
        "sigla VARCHAR(30) NOT NULL,\n",
        "valorOrcamento FLOAT NOT NULL);\n",
        "\n",
        "CREATE TABLE funcionario(\n",
        "codfuncionario INT(11) NOT NULL PRIMARY KEY AUTO_INCREMENT,\n",
        "nome VARCHAR(20) NOT NULL,\n",
        "cargo VARCHAR(30) NOT NULL,\n",
        "salario FLOAT NOT NULL,\n",
        "coddepartamento INT NOT NULL);\n",
        "\n",
        "TABLE -\n",
        "CONSTRAINT -\n",
        "REFERENCES -\n",
        "RELACIONANDO A TABELA FUNCIONARIO COM O DEPARTAMENTO\n",
        "FUNCIONARIO(FOREIGN KEY) E DEPARTAMENTO(PRIMARY KEY)\n",
        "ALTER TABLE funcionario ADD CONSTRAINT fk_funcionario\n",
        "FOREIGN KEY(coddepartamento)\n",
        "REFERENCES departamento(coddepartamento);\n",
        "\n",
        "ALTER TABLE pedido\n",
        "DROP quantidade,\n",
        "DROP valor;\n",
        "\n",
        "CREATE TABLE itempedido(\n",
        "numero_item INT(11) NOT NULL PRIMARY KEY AUTO_INCREMENT,\n",
        "qtde INT NOT NULL,\n",
        "valor FLOAT NOT NULL,\n",
        "codpedido INT NOT NULL);\n",
        "\n",
        "ALTER TABLE itempedido ADD CONSTRAINT fk_itempedido\n",
        "FOREIGN KEY(codpedido)\n",
        "REFERENCES pedido(codpedido);"
      ],
      "metadata": {
        "id": "7j7DIGApgHDD"
      }
    },
    {
      "cell_type": "markdown",
      "source": [
        "SPOTIFY EXERCICIO PARA FAZER\n",
        "EXERCICIO DA FLORICULTURA\n",
        "PACK 3 - A PARTIR DA PAGINA 23"
      ],
      "metadata": {
        "id": "bRwcxcD8gVrT"
      }
    },
    {
      "cell_type": "markdown",
      "source": [
        "####**CRIANDO UM BANCO DE FLORICULTURA**"
      ],
      "metadata": {
        "id": "It25P2e4csel"
      }
    },
    {
      "cell_type": "markdown",
      "source": [
        "### **CRIANDO SPOTIFY**"
      ],
      "metadata": {
        "id": "tjTccEbTpb4v"
      }
    },
    {
      "cell_type": "markdown",
      "source": [
        "create database spotify\n",
        "USE spotify;\n",
        "\n",
        "CREATE TABLE usuario (\n",
        "idusuario int(11) NOT NULL PRIMARY KEY AUTO_INCREMENT,\n",
        "nome varchar(30) NOT NULL,\n",
        "email varchar(50) NOT NULL,\n",
        "senha int(14) NOT NULL) ;\n",
        "\n",
        "CREATE TABLE musica (\n",
        "idmusica int(11) NOT NULL PRIMARY KEY AUTO_INCREMENT,\n",
        "nome varchar(30) NOT NULL,\n",
        "duracao varchar(50) NOT NULL,\n",
        "categoria varchar(14) NOT NULL,\n",
        "idartista int(20) NOT NULL) ;\n",
        "\n",
        "CREATE TABLE artista (\n",
        "idartista int(11) NOT NULL PRIMARY KEY AUTO_INCREMENT,\n",
        "nome varchar(30) NOT NULL) ;\n",
        "\n",
        "CREATE TABLE playlist (\n",
        "idplaylist int(11) NOT NULL PRIMARY KEY AUTO_INCREMENT,\n",
        "idmusica INT(30) NOT NULL,\n",
        "Data date) ;\n",
        "\n",
        "ALTER TABLE musica ADD CONSTRAINT fk_musica\n",
        "FOREIGN KEY(idartista)\n",
        "REFERENCES artista(idartista);\n",
        "\n",
        "ALTER TABLE playlist ADD CONSTRAINT fk_playlist\n",
        "FOREIGN KEY(idmusica)\n",
        "REFERENCES musica(idmusica);\n",
        "\n",
        "INSERT INTO usuario (idusuario, nome, email, senha) VALUES (NULL, 'ailton', 'Rua jacaiol, 1102', 546723);\n",
        "\n",
        "INSERT INTO artista (idartista, nome) VALUES (NULL, 'Grace');\n",
        "INSERT INTO artista (idartista, nome)VALUES (NULL, 'Pericles');\n",
        "\n",
        "INSERT INTO musica (idmusica, nome, duracao, categoria, idartista) VALUES (NULL, 'from', '2:50', 'Pop Rock', 1);\n"
      ],
      "metadata": {
        "id": "SfNiiukrpflH"
      }
    },
    {
      "cell_type": "markdown",
      "source": [
        "####**Criando Bancos**\n",
        "EXECUTAR UM POR UM\n",
        "\n",
        "Banco de dados: `floricultura`\n",
        "create database floricultura;\n",
        "use floricultura;\n",
        "\n",
        "criação da tabela `cliente`\n",
        "\n",
        "CREATE TABLE cliente (\n",
        "  codcliente int(11) NOT NULL PRIMARY KEY  AUTO_INCREMENT,\n",
        "  nome varchar(30) NOT NULL,\n",
        "  endereco varchar(50) NOT NULL,\n",
        "  email varchar(50) NOT NULL,\n",
        "  telefone varchar(14) NOT NULL\n",
        ") ;\n",
        "\n",
        "\n",
        " Estrutura da tabela `compra`\n",
        "\n",
        "CREATE TABLE compra (\n",
        "  codcompra int(11) NOT NULL PRIMARY KEY AUTO_INCREMENT ,\n",
        "  data date NOT NULL,\n",
        "  valor float NOT NULL,\n",
        "  total float NOT NULL,\n",
        "  codcliente int(11) NOT NULL,\n",
        "  codproduto int(11) NOT NULL\n",
        ") ;\n",
        "\n",
        " Estrutura da tabela `produto`\n",
        "\n",
        "\n",
        "CREATE TABLE produto (\n",
        "  codproduto int(11) NOT NULL AUTO_INCREMENT PRIMARY KEY ,\n",
        "  descricao varchar(30) NOT NULL,\n",
        "  valor float NOT NULL,\n",
        "  qtd int(11) NOT NULL\n",
        ") ;\n",
        " chaves estrangeiras\n",
        "ALTER TABLE compra\n",
        "  ADD CONSTRAINT teste1 FOREIGN KEY (codcliente) REFERENCES cliente (codcliente),\n",
        "  ADD CONSTRAINT teste2 FOREIGN KEY (codproduto) REFERENCES produto (codproduto);\n",
        "  \n",
        "INSERT INTO cliente (codcliente, nome, endereco, email, telefone) VALUES (NULL, 'Ana', 'Rua Abc, 10', 'ana@gmail.com', '65656');\n",
        "\n",
        "INSERT INTO produto(codproduto, descricao, valor, qtd) VALUES (NULL, 'Notebook', '3000', '10');\n"
      ],
      "metadata": {
        "id": "85DFwws-OWSu"
      }
    },
    {
      "cell_type": "markdown",
      "source": [
        "create database magazu;\n",
        "use magazu;\n",
        " Banco de dados: `magazu`\n",
        "\n",
        "\n",
        "-- --------------------------------------------------------\n",
        "\n",
        "\n",
        "Estrutura da tabela `cliente`\n",
        "\n",
        "CREATE TABLE `cliente` (\n",
        "  `codcliente` int(11) NOT NULL,\n",
        "  `nome` varchar(20) NOT NULL,\n",
        "  `endereco` varchar(30) NOT NULL,\n",
        "  `celular` varchar(14) NOT NULL\n",
        ") ENGINE=InnoDB DEFAULT CHARSET=utf8mb4;\n",
        "\n",
        "\n",
        " Extraindo dados da tabela `cliente`\n",
        "\n",
        "\n",
        "INSERT INTO `cliente` (`codcliente`, `nome`, `endereco`, `celular`) VALUES\n",
        "(1, 'Ana', 'Rua asas', '445545'),\n",
        "(2, 'Pedro', 'Rua BCV', '7988998');\n",
        "\n",
        "-- --------------------------------------------------------\n",
        "\n",
        "\n",
        " Estrutura da tabela `departamento`\n",
        "\n",
        "\n",
        "CREATE TABLE `departamento` (\n",
        "  `coddepartamento` int(11) NOT NULL,\n",
        "  `nome` varchar(20) NOT NULL,\n",
        "  `sigla` varchar(30) NOT NULL,\n",
        "  `valorOrcamento` float NOT NULL\n",
        ") ENGINE=InnoDB DEFAULT CHARSET=utf8mb4;\n",
        "\n",
        "-- --------------------------------------------------------\n",
        "\n",
        "\n",
        " Estrutura da tabela `fornecedor`\n",
        "\n",
        "\n",
        "CREATE TABLE `fornecedor` (\n",
        "  `codfornecedor` int(11) NOT NULL,\n",
        "  `razaosocial` varchar(40) NOT NULL,\n",
        "  `cnpj` varchar(18) NOT NULL,\n",
        "  `endereco` varchar(40) NOT NULL,\n",
        "  `email` varchar(40) NOT NULL,\n",
        "  `telefone` varchar(14) NOT NULL\n",
        ") ENGINE=InnoDB DEFAULT CHARSET=utf8mb4;\n",
        "\n",
        "\n",
        " Extraindo dados da tabela `fornecedor`\n",
        "\n",
        "\n",
        "INSERT INTO `fornecedor` (`codfornecedor`, `razaosocial`, `cnpj`, `endereco`, `email`, `telefone`) VALUES\n",
        "(1, 'Empresa CWE', 'CWE Equipamentos', '676767767676', 'b@gmail.com', '44332'),\n",
        "(2, 'Empresa jtr', 'qwe Equipamentos', '88767767676', 'b@gmail.com', '44332');\n",
        "\n",
        "-- --------------------------------------------------------\n",
        "\n",
        "\n",
        " Estrutura da tabela `funcionario`\n",
        "\n",
        "\n",
        "CREATE TABLE `funcionario` (\n",
        "  `codfuncionario` int(11) NOT NULL,\n",
        "  `nome` varchar(20) NOT NULL,\n",
        "  `cargo` varchar(30) NOT NULL,\n",
        "  `salario` float NOT NULL,\n",
        "  `coddepartamento` int(11) NOT NULL\n",
        ") ENGINE=InnoDB DEFAULT CHARSET=utf8mb4;\n",
        "\n",
        "-- --------------------------------------------------------\n",
        "\n",
        "\n",
        " Estrutura da tabela `itempedido`\n",
        "\n",
        "\n",
        "CREATE TABLE `itempedido` (\n",
        "  `numeroitem` int(11) NOT NULL,\n",
        "  `qtd` int(11) NOT NULL,\n",
        "  `valor` float NOT NULL,\n",
        "  `codpedido` int(11) NOT NULL\n",
        ") ENGINE=InnoDB DEFAULT CHARSET=utf8mb4;\n",
        "\n",
        "-- --------------------------------------------------------\n",
        "\n",
        "\n",
        " Estrutura da tabela `pedido`\n",
        "\n",
        "\n",
        "CREATE TABLE `pedido` (\n",
        "  `codpedido` int(11) NOT NULL,\n",
        "  `datapedido` date NOT NULL,\n",
        "  `total` float NOT NULL,\n",
        "  `codcliente` int(11) NOT NULL,\n",
        "  `codproduto` int(11) NOT NULL\n",
        ") ENGINE=InnoDB DEFAULT CHARSET=utf8mb4;\n",
        "\n",
        "\n",
        " Extraindo dados da tabela `pedido`\n",
        "\n",
        "\n",
        "INSERT INTO `pedido` (`codpedido`, `datapedido`, `total`, `codcliente`, `codproduto`) VALUES\n",
        "(1, '2023-10-11', 2500, 1, 3),\n",
        "(2, '2023-11-06', 2500, 2, 3),\n",
        "(3, '2023-11-06', 2500, 1, 3);\n",
        "\n",
        "-- --------------------------------------------------------\n",
        "\n",
        "\n",
        " Estrutura da tabela `produto`\n",
        "\n",
        "\n",
        "CREATE TABLE `produto` (\n",
        "  `codproduto` int(11) NOT NULL,\n",
        "  `descricao` varchar(40) NOT NULL,\n",
        "  `categoria` varchar(25) NOT NULL,\n",
        "  `preco` float NOT NULL,\n",
        "  `data` date NOT NULL,\n",
        "  `codfornecedor` int(11) NOT NULL\n",
        ") ENGINE=InnoDB DEFAULT CHARSET=utf8mb4;\n",
        "\n",
        "\n",
        " Extraindo dados da tabela `produto`\n",
        "\n",
        "\n",
        "INSERT INTO `produto` (`codproduto`, `descricao`, `categoria`, `preco`, `data`, `codfornecedor`) VALUES\n",
        "(1, 'Notebook', 'Info', 3000, '2023-11-08', 1),\n",
        "(2, 'Mouse', 'Info', 3000, '0000-00-00', 1),\n",
        "(3, 'Monitor', 'Info', 3000, '0000-00-00', 2);\n",
        "\n",
        "\n",
        " Índices para tabelas despejadas\n",
        "\n",
        "\n",
        "\n",
        " Índices para tabela `cliente`\n",
        "\n",
        "ALTER TABLE `cliente`\n",
        "  ADD PRIMARY KEY (`codcliente`);\n",
        "\n",
        "\n",
        " Índices para tabela `departamento`\n",
        "\n",
        "ALTER TABLE `departamento`\n",
        "  ADD PRIMARY KEY (`coddepartamento`);\n",
        "\n",
        "\n",
        " Índices para tabela `fornecedor`\n",
        "\n",
        "ALTER TABLE `fornecedor`\n",
        "  ADD PRIMARY KEY (`codfornecedor`);\n",
        "\n",
        "\n",
        " Índices para tabela `funcionario`\n",
        "\n",
        "ALTER TABLE `funcionario`\n",
        "  ADD PRIMARY KEY (`codfuncionario`),\n",
        "  ADD KEY `fk_funcionario` (`coddepartamento`);\n",
        "\n",
        "\n",
        " Índices para tabela `itempedido`\n",
        "\n",
        "ALTER TABLE `itempedido`\n",
        "  ADD PRIMARY KEY (`numeroitem`),\n",
        "  ADD KEY `item` (`codpedido`);\n",
        "\n",
        "\n",
        " Índices para tabela `pedido`\n",
        "\n",
        "\n",
        " alter table pedido add(codproduto int not null)\n",
        "\n",
        "\n",
        "ALTER TABLE `pedido`\n",
        "  ADD PRIMARY KEY (`codpedido`),\n",
        "  ADD KEY `fk_produtos` (`codproduto`),\n",
        "  ADD KEY `fk_produtos3` (`codcliente`);\n",
        "\n",
        "\n",
        " Índices para tabela `produto`\n",
        "\n",
        "ALTER TABLE `produto`\n",
        "  ADD PRIMARY KEY (`codproduto`),\n",
        "  ADD KEY `fk_fornecedor` (`codfornecedor`);\n",
        "\n",
        "\n",
        " AUTO_INCREMENT de tabelas despejadas\n",
        "\n",
        "\n",
        "\n",
        " AUTO_INCREMENT de tabela `cliente`\n",
        "\n",
        "ALTER TABLE `cliente`\n",
        "  MODIFY `codcliente` int(11) NOT NULL AUTO_INCREMENT, AUTO_INCREMENT=3;\n",
        "\n",
        "\n",
        " AUTO_INCREMENT de tabela `departamento`\n",
        "\n",
        "ALTER TABLE `departamento`\n",
        "  MODIFY `coddepartamento` int(11) NOT NULL AUTO_INCREMENT;\n",
        "\n",
        "\n",
        "AUTO_INCREMENT de tabela `funcionario`\n",
        "\n",
        "ALTER TABLE `funcionario`\n",
        "  MODIFY `codfuncionario` int(11) NOT NULL AUTO_INCREMENT;\n",
        "\n",
        "\n",
        " AUTO_INCREMENT de tabela `itempedido`\n",
        "\n",
        "ALTER TABLE `itempedido`\n",
        "  MODIFY `numeroitem` int(11) NOT NULL AUTO_INCREMENT;\n",
        "\n",
        "\n",
        " AUTO_INCREMENT de tabela `pedido`\n",
        "\n",
        "ALTER TABLE `pedido`\n",
        "  MODIFY `codpedido` int(11) NOT NULL AUTO_INCREMENT, AUTO_INCREMENT=5;\n",
        "\n",
        "\n",
        " AUTO_INCREMENT de tabela `produto`\n",
        "\n",
        "ALTER TABLE `produto`\n",
        "  MODIFY `codproduto` int(11) NOT NULL AUTO_INCREMENT, AUTO_INCREMENT=4;\n",
        "\n",
        "\n",
        " Restrições para despejos de tabelas\n",
        "\n",
        "\n",
        "\n",
        " Limitadores para a tabela `funcionario`\n",
        "\n",
        "ALTER TABLE `funcionario`\n",
        "  ADD CONSTRAINT `fk_funcionario` FOREIGN KEY (`coddepartamento`) REFERENCES `departamento` (`coddepartamento`);\n",
        "\n",
        "\n",
        "Limitadores para a tabela `itempedido`\n",
        "\n",
        "ALTER TABLE `itempedido`\n",
        "  ADD CONSTRAINT `item` FOREIGN KEY (`codpedido`) REFERENCES `pedido` (`codpedido`);\n",
        "\n",
        "\n",
        " Limitadores para a tabela `pedido`\n",
        "\n",
        "ALTER TABLE `pedido`\n",
        "  ADD CONSTRAINT `fk_produtos` FOREIGN KEY (`codproduto`) REFERENCES `produto` (`codproduto`),\n",
        "  ADD CONSTRAINT `fk_produtos2` FOREIGN KEY (`codcliente`) REFERENCES `cliente` (`codcliente`),\n",
        "  ADD CONSTRAINT `fk_produtos3` FOREIGN KEY (`codcliente`) REFERENCES `cliente` (`codcliente`);\n",
        "\n",
        "\n",
        " Limitadores para a tabela `produto`\n",
        "\n",
        "ALTER TABLE `produto`\n",
        "  ADD CONSTRAINT `fk_fornecedor` FOREIGN KEY (`codfornecedor`) REFERENCES `fornecedor` (`codfornecedor`);\n"
      ],
      "metadata": {
        "id": "Foi4-ySdQEK0"
      }
    },
    {
      "cell_type": "markdown",
      "source": [
        "### ***CRIANDO PIZZARIA***"
      ],
      "metadata": {
        "id": "E9chm326na_C"
      }
    },
    {
      "cell_type": "markdown",
      "source": [
        "create database pizzaria;\n",
        "use pizzaria;\n",
        "\n",
        "\n",
        "CREATE TABLE tb_cliente(\n",
        "\t`id_cliente` INT NOT NULL PRIMARY KEY AUTO_INCREMENT,\n",
        "    `nome` VARCHAR(30) NOT NULL,\n",
        "    `email` VARCHAR(30) NOT NULL,\n",
        "    `enderececo` VARCHAR(90) NOT NULL\n",
        ");\n",
        "\n",
        "\n",
        "CREATE TABLE tb_pedido(\n",
        "\t`id_pedido` INT NOT NULL PRIMARY KEY AUTO_INCREMENT,\n",
        "    `id_cliente` INT NOT NULL,\n",
        "    `observacao` VARCHAR(30) NOT NULL,\n",
        "    `tipo_entrega` VARCHAR(30) NOT NULL,\n",
        "    `preco` FLOAT NOT NULL,\n",
        "    `data_pedido` DATE NOT NULL\n",
        ");\n",
        "\n",
        "\n",
        "CREATE TABLE tb_pizza(\n",
        "\t`id_pizza` INT NOT NULL PRIMARY KEY AUTO_INCREMENT,\n",
        "    `nome` VARCHAR(30) NOT NULL,\n",
        "    `descricao` VARCHAR(100) NOT NULL,\n",
        "    `categoria` VARCHAR(30) NOT NULL,\n",
        "    `preco` FLOAT NOT NULL\n",
        ");\n",
        "\n",
        "CREATE TABLE tb_pedido_pizza(\n",
        "\t`id_pedido` INT NOT NULL,\n",
        "    `id_pizza` INT NOT NULL,\n",
        "    `quantidade` VARCHAR(30) NOT NULL\n",
        ");\n",
        "\n",
        "\n",
        "-- INSERINDO AS CHAVES ESTRANGEIRAS\n",
        "ALTER TABLE tb_pedido ADD FOREIGN KEY(id_cliente) REFERENCES tb_cliente (id_cliente);\n",
        "ALTER TABLE tb_pedido_pizza ADD FOREIGN KEY(id_pedido) REFERENCES tb_pedido (id_pedido);\n",
        "ALTER TABLE tb_pedido_pizza ADD FOREIGN KEY(id_pizza) REFERENCES tb_pizza (id_pizza);\n",
        "\n",
        "\n",
        "-- INSERINDO AS PIZZAS DISPONIVEIS\n",
        "INSERT INTO tb_pizza(nome, descricao, categoria, preco)\n",
        "VALUES('pepperoni', 'de linguica', 'Contém Lactose', 35.00),\n",
        "('Frango com Catupiry', 'Frango, catupiry, queijo, molho', 'Contém Lactose', 38.00),\n",
        "('4 Queijos', 'Mussarela, Minas, gorgonzola, buffala, molho', 'Contém Lactose', 38.00);\n",
        "\n",
        "\n",
        "-- NOVAS PIZZAS ZERO LACTOSE\n",
        "INSERT INTO tb_pizza(nome, descricao, categoria, preco)\n",
        "VALUES('Vegetariana', 'Tomate, cogumelos, cebola, pimentão e azeitonas.','Zero Lactose',50),\n",
        "('Margarita sem Queijo', 'Molho de tomate, tomate fatiado, manjericão e azeite de oliva.', 'Zero Lactose', 48),\n",
        "('Mediterrânea','Molho de tomate, espinafre, tomate seco, azeitonas e alho.','Zero Lactese',43),\n",
        "('Primavera', 'Molho de tomate, abobrinha, tomate cereja, brócolis e manjericão.', 'Zero Lactose', 45);\n",
        "\n",
        "\n",
        "\n",
        "-- INSERINDO CLIENTES\n",
        "INSERT INTO tb_cliente (nome, email, endereco)\n",
        "VALUES ('Antonio', 'antonio@gmail.com', 'Rua prof Olinto n393'),\n",
        "('Nunes', 'nunes@gmail.com', 'Rua prof de oliveira n111'),\n",
        "('alules', 'alules@gmail.com', 'Estrada porto nac n373'),\n",
        "\n",
        "INSERT INTO tb_cliente (nome, email, endereco)\n",
        "VALUES\n",
        "('Carlos', 'carlos@gmail.com', 'Avenida Central n789'),\n",
        "('Fernanda', 'fernanda@gmail.com', 'Rua das Flores n456'),\n",
        "('Lucia', 'lucia@gmail.com', 'Travessa da Paz n222'),\n",
        "('Roberto', 'roberto@gmail.com', 'Alameda dos Sonhos n333'),\n",
        "('Juliana', 'juliana@gmail.com', 'Praça da Liberdade n777'),\n",
        "('Mateus', 'mateus@gmail.com', 'Rua da Amizade n888'),\n",
        "('Isabel', 'isabel@gmail.com', 'Avenida do Sol n555');\n",
        "\n",
        "\n",
        "-- INSERINDO PEDIDO_PIZZA\n",
        "INSERT INTO tb_pedido_pizza (id_pedido, id_pizza, quantidade)\n",
        "VALUES\n",
        "(28, 1, 'MEIA'),\n",
        "(29, 2, 'INTEIRA'),\n",
        "(30, 3, 'MEIA'),\n",
        "(31, 1, 'MEIA'),\n",
        "(32, 3, 'INTEIRA'),\n",
        "(33, 2, 'MEIA'),\n",
        "(34, 3, 'INTEIRA'),\n",
        "(35, 1, 'INTEIRA'),\n",
        "(36, 2, 'INTEIRA');\n",
        "\n",
        "\n",
        "\n",
        "-- INSERINDO NOVOS PEDIDO_PIZZA\n",
        "INSERT INTO tb_pedido_pizza (id_pedido, id_pizza, quantidade)\n",
        "VALUES\n",
        "(37, 1, 'MEIA'),\n",
        "(37, 2, 'INTEIRA'),\n",
        "(37, 3, 'MEIA'),\n",
        "(38, 1, 'MEIA'),\n",
        "(38, 3, 'INTEIRA'),\n",
        "(38, 1, 'MEIA'),\n",
        "(39, 4, 'INTEIRA'),\n",
        "(39, 7, 'INTEIRA'),\n",
        "(39, 6, 'INTEIRA');\n",
        "\n",
        "\n",
        "\n",
        "-- INSERINDO PEDIDOS\n",
        "INSERT INTO tb_pedido (id_cliente, observacao, tipo_entrega, preco, data_pedido)\n",
        "VALUES\n",
        "(1, 'Pedido 1', 'Entrega expressa', 35, '2023-11-22'),\n",
        "(2, 'Pedido 2', 'Entrega padrão', 38, '2023-11-23'),\n",
        "(3, 'Pedido 3', 'Retirada na loja', 38, '2023-11-24'),\n",
        "(4, 'Pedido 4', 'Entrega expressa', 35, '2023-11-25'),\n",
        "(5, 'Pedido 5', 'Entrega expressa', 38, '2023-12-02'),\n",
        "(6, 'Pedido 6', 'Retirada na loja', 38, '2023-12-03'),\n",
        "(7, 'Pedido 7', 'Entrega padrão', 38, '2023-12-04'),\n",
        "(8, 'Pedido 8', 'Entrega expressa', 35, '2023-12-05'),\n",
        "(9, 'Pedido 9', 'Retirada na loja', 38, '2023-12-06');\n",
        "\n",
        "\n",
        "\n",
        "-- INSERINDO NOVOS PEDIDOS\n",
        "INSERT INTO tb_pedido (id_cliente, observacao, tipo_entrega, preco, data_pedido)\n",
        "VALUES\n",
        "(1, 'Pedido 10', 'Entrega expressa', 111, '21-04-2021'),\n",
        "(5, 'Pedido 11', 'Entrega expressa', 108, '25-04-2021'),\n",
        "(4, 'Pedido 12', 'Entrega expressa', 138, '23-04-2021'),\n",
        "\n",
        "\n",
        "-- MUDANDO O NOME DE UMA COLUNA\n",
        "ALTER TABLE tb_cliente\n",
        "CHANGE COLUMN enderececo endereco VARCHAR(255);\n",
        "\n",
        "\n",
        "ALTER TABLE tb_pizza\n",
        "CHANGE ROW\n",
        "\n",
        "\n",
        "-- SELECIONANDO UMA TABELA\n",
        "SELECT * FROM tb_pedido\n",
        "WHERE id_pedido = 0;\n",
        "\n",
        "\n",
        "-- SELECIONANDO A COLUNA pedido_pizza\n",
        "SELECT * FROM tb_pedido_pizza;\n",
        "SELECT * FROM tb_pizza;\n",
        "\n",
        "\n",
        "\n",
        "-- DELETANDO ITENS DE UMA TABELA\n",
        "DELETE FROM tb_pedido\n",
        "WHERE id_pedido BETWEEN 0 AND 27;\n",
        "\n",
        "-- DELETANDO TODOS OS ITENS DE UMA TABELA\n",
        "DROP FROM tb_pedido;\n",
        "\n",
        "\n",
        "-- SELECIONANDO NOME E ENDEREÇO, ORDENANDO POR ORDEM ALFABÉTICA\n",
        "SELECT nome, endereco FROM tb_cliente ORDER BY nome;\n",
        "\n",
        "-- CONSULTANDO O PRECO E O TIPO DA ENTREGA COM O OPERADOR >=\n",
        "SELECT preco,tipo_entrega\n",
        "FROM tb_pedido\n",
        "WHERE preco >=10;\n",
        "\n",
        "SELECT preco, tipo_entrega\n",
        "FROM tb_pedido\n",
        "WHERE preco <> 35 AND tipo_entrega='Retirada na loja';\n",
        "\n",
        "SELECT *\n",
        "FROM tb_cliente\n",
        "WHERE nome LIKE 'a%';\n",
        "\n",
        "SELECT *\n",
        "FROM tb_cliente\n",
        "WHERE email LIKE '%hotmail.com';\n",
        "\n",
        "SELECT *\n",
        "FROM tb_pizza\n",
        "WHERE categoria = 'Zero Lactose';\n",
        "\n",
        "SELECT *\n",
        "FROM tb_pizza\n",
        "WHERE categoria <> 'Zero Lactose';\n",
        "\n",
        "UPDATE tb_pizza\n",
        "SET categoria = 'Zero Lactese'\n",
        "WHERE categoria = 'Zero Lactose';\n",
        "\n",
        "UPDATE tb_pizza\n",
        "SET categoria = 'Zero Lactose'\n",
        "WHERE categoria = 'Zero Lactese'\n",
        "LIMIT 4;\n",
        "\n",
        "SELECT *\n",
        "FROM tb_pizza;"
      ],
      "metadata": {
        "id": "cpGhvXzhnefJ"
      }
    },
    {
      "cell_type": "markdown",
      "source": [
        "###***PIZZARIA***"
      ],
      "metadata": {
        "id": "ZIlu1ut_U0Uv"
      }
    },
    {
      "cell_type": "markdown",
      "source": [
        "create database pizzaria;\n",
        "use pizzaria;\n",
        "\n",
        "CREATE TABLE tb_cliente (\n",
        "  id_cliente int(11) primary key AUTO_INCREMENT NOT NULL,\n",
        "  nome varchar(20) NOT NULL,\n",
        "  email varchar(20) NOT NUll,\n",
        "  endereco varchar(50) NOT NULL\n",
        ") ;\n",
        "\n",
        "CREATE TABLE tb_pedido (\n",
        "\tid_cliente int(11),\n",
        "    observacao VARCHAR(100),\n",
        "    tipo_entrega varchar(100),\n",
        "    preco float,\n",
        "    data_pedido datetime,\n",
        "    id_pedido INT(11) PRIMARY KEY AUTO_INCREMENT,\n",
        "    FOREIGN KEY (id_cliente) REFERENCES tb_cliente(id_cliente)\n",
        ");\n",
        "\n",
        "CREATE TABLE tb_pizza (\n",
        "    id_pizza INT(11) PRIMARY KEY AUTO_INCREMENT,\n",
        "    nome VARCHAR(100),\n",
        "    descricao varchar(100),\n",
        "    categoria varchar(100),\n",
        "    preco float\n",
        ");\n",
        "\n",
        "CREATE TABLE tb_pedido_pizza (\n",
        "    id_pedido INT(11),\n",
        "    id_pizza int(11),\n",
        "    quantidade varchar(11),\n",
        "    FOREIGN KEY (id_pedido) REFERENCES tb_pedido(id_pedido),\n",
        "    FOREIGN KEY (id_pizza) REFERENCES tb_pizza(id_pizza)\n",
        ");\n",
        "\n",
        "INSERT INTO tb_cliente (nome,email,endereco) VALUES\n",
        "\t ('Francisco Jose','franc@xpto.com','av. Beltrano, numero 32, apt. 13, Centro'),\n",
        "\t ('Antonio Luiz','ant_luz@fb.com','rua das Flores, quadra B, numero 2, Liberdade'),\n",
        "\t ('Belchior Lopez','blopez@fb.com','rua Projetada, numero 2, Lagos'),\n",
        "\t ('Maria Jose','jmaria21@xpto.com','av. Embaixador Luiz, numero 3, Centro'),\n",
        "\t ('Jose de Ribamar','joseribas@yes.com','av. Beira mar, numero 33, Lagoa Amarela'),\n",
        "\t ('Maria Fernanda','mary100@fb.com','av. Rocha, numero 5, Rio Vermelho'),\n",
        "\t ('Michael Rey','mrey@xpto.com','rua das Flores, quadra C, numero 12, Liberdade'),\n",
        "\t ('Lara Goncalves','lg@yes.com','av. Embaixador Luiz, numero 13, Centro'),\n",
        "\t ('Julia da Silva','juju_s@fb.com','av. beira mar, numero 25, Lagoa Amarela'),\n",
        "\t ('Raimundo Nonato','rai7@xpto.com','av. Rocha, numero 12, Rio Vermelho'),\n",
        "\t ('Enzo Gabriel','gabriel_enzo@fb.com','av. Olimpica, numero 10, apt. 102, Centro'),\n",
        "\t ('Valentina Rangel','val_rangel@xpto.com','rua 4, quadra B, numero 3, Montes Altos');\n",
        "\n",
        "INSERT INTO tb_pizza (nome,descricao,categoria,preco) VALUES\n",
        "     ('BACON COM CATUPIRY', 'Molho de tomate, queijo mozarela, fatias de bacon e Catupiry', 'Tradicionais', 55.0),\n",
        "     ('CALABRESA COM CATUPIRY', 'Molho de tomate, queijo mozarela, calabresa fatiada Cerati, Catupiry, cebola e orégano', 'Tradicionais', 50.0),\n",
        "     ('MARGUERITA ESPECIAL', 'Molho de tomate, queijo mozarela, tomate confit, queijo parmesão ralado na hora e manjericão', 'Tradicionais', 45.0),\n",
        "     ('PORTUGUESA', 'Molho de tomate, queijo mozarela, presunto, ovo, cebola, azeitona preta e orégano', 'Tradicionais', 50.0),\n",
        "     ('CAPRESE', 'Molho de tomate, queijo mozarela, mozarela de búfala, molho pesto, tomate cereja e manjericão', 'Especiais', 60.0),\n",
        "     ('PALETA SUÍNA DEFUMADA COM GELEIA DE PIMENTA', 'Molho de tomate, queijo mozarela, paleta suína defumada e geleia de pimenta', 'Especiais', 60.0),\n",
        "     ('PEPPERONI AO PESTO', 'Molho de tomate, queijo mozarela, pepperoni, e molho pesto', 'Especiais', 55.0),\n",
        "     ('QUATRO QUEIJOS', 'Molho de tomate, queijos gorgonzola, provolone, mozarela e parmesão ralado na hora', 'Especiais', 60.0),\n",
        "     ('ROMEU E JULIETA', 'Queijo mozarela, pedaços de goiabada e queijo parmesão ralado na hora', 'Especiais', 40.0),\n",
        "     ('TOMATE SECO COM RÚCULA', 'Molho de tomate, queijo mozarela, mozarela de búfala, tomate seco, rúcula e parmesão ralado na hora', 'Especiais', 60.0),\n",
        "     ('BACON ZERO LACTOSE', 'Molho de tomate, queijo mozarela zero lactose, fatias de bacon', 'Zero Lactose', 55.0),\n",
        "     ('CALABRESA ZERO LACTOSE', 'Molho de tomate, queijo mozarela zero lactose, calabresa fatiada Cerati, Catupiry, cebola e orégano', 'Zero Lactose', 55.0),\n",
        "     ('MARGUERITA ESPECIAL ZERO LACTOSE', 'Molho de tomate, queijo mozarela zero lactose, tomate confit e manjericão', 'Zero Lactose', 55.0),\n",
        "     ('PORTUGUESA ZERO LACTOSE', 'Molho de tomate, queijo mozarela zero lactose, presunto, ovo, cebola, azeitona preta e orégano', 'Zero Lactose', 55.0),\n",
        "     ('PALETA SUÍNA DEFUMADA COM GELEIA DE PIMENTA ZERO LACTOSE', 'Molho de tomate, queijo mozarela zero lactose, paleta suína defumada e geleia de pimenta', 'Zero Lactose', 60.0),\n",
        "     ('PEPPERONI AO PESTO ZERO LACTOSE', 'Molho de tomate, queijo mozarela zero lactose, pepperoni, e molho pesto', 'Zero Lactose', 55.0),\n",
        "     ('ROMEU E JULIETA ZERO LACTOSE', 'Queijo mozarela zero lactose e pedaços de goiabada', 'Zero Lactose', 40.0),\n",
        "     ('TOMATE SECO COM RÚCULA ZERO LACTOSE', 'Molho de tomate, queijo mozarela zero lactose, tomate seco e rúcula', 'Zero Lactose', 55.0);\n",
        "\n",
        "INSERT INTO tb_pedido (id_cliente,observacao,tipo_entrega,preco,data_pedido) VALUES\n",
        "\t (1,NULL,'Delivery',55.00,'2021-04-17 19:12:23'),\n",
        "\t (2,NULL,'Delivery',120.00,'2021-04-17 19:17:20'),\n",
        "\t (3,'Sem molho pesto.','Delivery',55.00,'2021-04-17 20:51:17'),\n",
        "\t (1,NULL,'Delivery',60.00,'2021-04-18 18:02:03'),\n",
        "\t (4,NULL,'Delivery',57.50,'2021-04-18 18:12:35'),\n",
        "\t (5,'Sem cebola.','Retirada no balcão',90.00,'2021-04-18 18:35:12'),\n",
        "\t (3,NULL,'Delivery',55.00,'2021-04-18 18:47:44'),\n",
        "\t (2,NULL,'Delivery',55.00,'2021-04-18 19:21:07'),\n",
        "\t (6,NULL,'Delivery',60.00,'2021-04-18 19:24:10'),\n",
        "\t (7,NULL,'Delivery',155.00,'2021-04-18 19:32:55'),\n",
        "\t (1,NULL,'Delivery',320.00,'2021-04-18 19:57:00'),\n",
        "\t (8,NULL,'Delivery',110.00,'2021-04-18 20:01:45'),\n",
        "\t (9,NULL,'Delivery',55.00,'2021-04-18 20:12:13'),\n",
        "\t (2,NULL,'Delivery',55.00,'2021-04-18 20:18:09'),\n",
        "\t (5,NULL,'Retirada no balcão',60.00,'2021-04-18 20:30:08'),\n",
        "\t (6,NULL,'Delivery',95.00,'2021-04-18 20:47:56'),\n",
        "\t (4,NULL,'Delivery',57.50,'2021-04-18 21:07:09'),\n",
        "\t (9,NULL,'Retirada no balcão',107.50,'2021-04-20 18:17:23'),\n",
        "\t (10,NULL,'Delivery',260.00,'2021-04-20 18:50:35'),\n",
        "\t (11,NULL,'Delivery',45.00,'2021-04-20 19:20:46'),\n",
        "\t (6,NULL,'Delivery',57.50,'2021-04-20 20:47:19'),\n",
        "\t (12,NULL,'Retirada no balcão',100.00,'2021-04-20 21:15:02'),\n",
        "\t (1,NULL,'Delivery',100.00,'2021-04-20 22:30:44'),\n",
        "\t (12,NULL,'Retirada no balcão',50.00,'2021-04-21 19:41:00'),\n",
        "\t (3,NULL,'Delivery',60.00,'2021-04-21 20:22:59'),\n",
        "\t (4,NULL,'Delivery',95.00,'2021-04-22 20:05:13'),\n",
        "\t (11,NULL,'Delivery',57.50,'2021-04-22 21:37:41'),\n",
        "\t (5,NULL,'Delivery',215.00,'2021-04-23 19:02:33'),\n",
        "\t (9,NULL,'Delivery',60.00,'2021-04-23 19:55:56'),\n",
        "\t (1,NULL,'Delivery',47.50,'2021-04-23 20:47:42');\n",
        "\n",
        "INSERT INTO tb_pedido_pizza (id_pedido,id_pizza,quantidade) VALUES\n",
        "\t (1,11,'Inteira'),\n",
        "\t (2,5,'Meia'),\n",
        "\t (2,6,'Meia'),\n",
        "\t (2,8,'Meia'),\n",
        "\t (2,10,'Meia'),\n",
        "\t (3,1,'Meia'),\n",
        "\t (3,7,'Meia'),\n",
        "\t (4,10,'Inteira'),\n",
        "\t (5,7,'Meia'),\n",
        "\t (5,8,'Meia'),\n",
        "\t (6,9,'Inteira'),\n",
        "\t (6,2,'Meia'),\n",
        "\t (6,4,'Meia'),\n",
        "\t (7,16,'Inteira'),\n",
        "\t (8,12,'Inteira'),\n",
        "\t (9,5,'Meia'),\n",
        "\t (9,6,'Meia'),\n",
        "\t (10,1,'Meia'),\n",
        "\t (10,2,'Meia'),\n",
        "\t (10,4,'Meia'),\n",
        "\t (10,7,'Meia'),\n",
        "\t (10,9,'Meia'),\n",
        "\t (10,10,'Meia'),\n",
        "\t (11,1,'Inteira'),\n",
        "\t (11,2,'Inteira'),\n",
        "\t (11,3,'Inteira'),\n",
        "\t (11,4,'Inteira'),\n",
        "\t (11,5,'Inteira'),\n",
        "\t (11,6,'Inteira'),\n",
        "\t (12,6,'Meia'),\n",
        "\t (12,2,'Meia'),\n",
        "\t (13,1,'Inteira'),\n",
        "\t (14,13,'Meia'),\n",
        "\t (14,14,'Meia'),\n",
        "\t (15,5,'Inteira'),\n",
        "\t (16,3,'Inteira'),\n",
        "\t (16,4,'Inteira'),\n",
        "\t (17,15,'Meia'),\n",
        "\t (17,16,'Meia'),\n",
        "\t (18,4,'Meia'),\n",
        "\t (18,7,'Meia'),\n",
        "\t (18,1,'Inteira'),\n",
        "\t (19,1,'Inteira'),\n",
        "\t (19,2,'Inteira'),\n",
        "\t (19,4,'Inteira'),\n",
        "\t (19,3,'Inteira'),\n",
        "\t (19,5,'Inteira'),\n",
        "\t (20,3,'Inteira'),\n",
        "\t (21,1,'Meia'),\n",
        "\t (21,5,'Meia'),\n",
        "\t (22,1,'Meia'),\n",
        "\t (22,3,'Meia'),\n",
        "\t (22,2,'Meia'),\n",
        "\t (22,4,'Meia'),\n",
        "\t (23,10,'Inteira'),\n",
        "\t (23,9,'Inteira'),\n",
        "\t (24,2,'Inteira'),\n",
        "\t (24,4,'Inteira'),\n",
        "\t (25,15,'Inteira'),\n",
        "\t (26,11,'Meia'),\n",
        "\t (26,12,'Meia'),\n",
        "\t (26,9,'Inteira'),\n",
        "\t (27,7,'Meia'),\n",
        "\t (27,8,'Meia'),\n",
        "\t (28,1,'Inteira'),\n",
        "\t (28,3,'Inteira'),\n",
        "\t (28,5,'Inteira'),\n",
        "\t (28,9,'Inteira'),\n",
        "\t (29,5,'Meia'),\n",
        "\t (29,6,'Meia'),\n",
        "\t (30,3,'Meia'),\n",
        "\t (30,4,'Meia');"
      ],
      "metadata": {
        "id": "YS-LscZRU4mc"
      }
    },
    {
      "cell_type": "markdown",
      "source": [
        "###***BANCO RESILIA - MODULO 3***"
      ],
      "metadata": {
        "id": "dGnCyCh0RtsC"
      }
    },
    {
      "cell_type": "markdown",
      "source": [
        "\n",
        "```sql\n",
        "DROP TABLE IF EXISTS senac;\n",
        "DROP TABLE IF EXISTS aluno;\n",
        "DROP TABLE IF EXISTS matricula;\n",
        "DROP TABLE IF EXISTS curso;\n",
        "DROP TABLE IF EXISTS turma;\n",
        "DROP TABLE IF EXISTS monitor;\n",
        "DROP TABLE IF EXISTS facilitador;\n",
        "DROP TABLE IF EXISTS modulo;\n",
        "DROP TABLE IF EXISTS presenca;\n",
        "DROP TABLE IF EXISTS presenca_aluno_monitor ;\n",
        "DROP TABLE IF EXISTS presenca_aluno_facilitador;\n",
        "DROP TABLE IF EXISTS coordenação_senac;\n",
        "\n",
        "\n",
        "CREATE TABLE senac (\n",
        "unidade VARCHAR(100) PRIMARY KEY NOT NULL,\n",
        "endereco VARCHAR(250) NOT NULL);\n",
        "\n",
        "CREATE TABLE aluno (\n",
        "matricula_pk INT(50) PRIMARY KEY NOT NULL,\n",
        "nome VARCHAR(200) NOT NULL,\n",
        "cpf INT(20) NOT NULL,\n",
        "idade INT(3) NOT NULL,\n",
        "genero VARCHAR(100) NOT NULL,\n",
        "email VARCHAR(250) NOT NULL,\n",
        "senha VARCHAR(100) NOT NULL);\n",
        "\n",
        "CREATE TABLE matricula (\n",
        "matricula INT PRIMARY KEY NOT NULL DEFAULT 50,\n",
        "unidade_fk VARCHAR(100) NOT NULL,\n",
        "curso_fk VARCHAR(200) NOT NULL,\n",
        "status VARCHAR(100) NOT NULL);\n",
        "\n",
        "CREATE TABLE curso (\n",
        "matricula_fk INTEGER(100) NOT NULL,\n",
        "curso VARCHAR(200) PRIMARY KEY NOT NULL,\n",
        "duracao VARCHAR(100) NOT NULL,\n",
        "inicio DATE NOT NULL,\n",
        "fim DATE NOT NULL);\n",
        "\n",
        "CREATE TABLE turma (\n",
        "curso_fk VARCHAR(200) NOT NULL,\n",
        "unidade_fk VARCHAR(100) NOT NULL,\n",
        "turma_pk INT(3) PRIMARY KEY NOT NULL,\n",
        "sala INT(3) NOT NULL,\n",
        "computador INT(34) NOT NULL);\n",
        "\n",
        "CREATE TABLE monitor (\n",
        "cpf_monitor INT(11) PRIMARY KEY NOT NULL,\n",
        "turma_fk INT(10) NOT NULL,\n",
        "nome VARCHAR(200) NOT NULL,\n",
        "idade INT(3) NOT NULL,\n",
        "genero VARCHAR(100) NOT NULL,\n",
        "email VARCHAR(250) NOT NULL,\n",
        "senha VARCHAR(250) NOT NULL);\n",
        "\n",
        "CREATE TABLE facilitador (\n",
        "cpf_facilitador INT(11) PRIMARY KEY NOT NULL,\n",
        "turma_fk INT(10) NOT NULL,\n",
        "nome VARCHAR NOT NULL DEFAULT '250',\n",
        "idade INT(3) NOT NULL,\n",
        "genero VARCHAR(100) NOT NULL,\n",
        "especializacao VARCHAR(200) NOT NULL,\n",
        "email VARCHAR(250) NOT NULL,\n",
        "senha CHAR(250) NOT NULL);\n",
        "\n",
        "CREATE TABLE modulo (\n",
        "modulo INT(10) PRIMARY KEY NOT NULL,\n",
        "curso_fk VARCHAR(200) NOT NULL,\n",
        "cpf_facilitador INT(11) NOT NULL,\n",
        "avaliacao INT(3));\n",
        "\n",
        "CREATE TABLE presenca (\n",
        "id_presenca INT PRIMARY KEY AUTO_INCREMENT NOT NULL,\n",
        "matricula_fk INTEGER(100) NOT NULL,\n",
        "aula_soft DATE,\n",
        "aula_hard DATE,\n",
        "presenca_aluno_facilitador_fk BOOLEAN NOT NULL,\n",
        "presenca_aluno_monitor_fk BOOLEAN NOT NULL,\n",
        "login_computador INT(250) NOT NULL);\n",
        "\n",
        "CREATE TABLE presenca_aluno_monitor  (\n",
        "presenca_aluno_monitor_fk BOOLEAN PRIMARY KEY NOT NULL,\n",
        "data DATE NOT NULL,\n",
        "cpf_monitor INT(11) NOT NULL);\n",
        "\n",
        "CREATE TABLE presenca_aluno_facilitador (\n",
        "presenca_aluno_facilitador BOOLEAN PRIMARY KEY NOT NULL,\n",
        "data DATE NOT NULL,\n",
        "cpf_facilitador INT(11) NOT NULL);\n",
        "\n",
        "CREATE TABLE coordenação_senac (\n",
        "id_cordenacao INT(10) PRIMARY KEY NOT NULL,\n",
        "supervisor_tecnico VARCHAR(200) NOT NULL,\n",
        "coordenador VARCHAR(200) NOT NULL,\n",
        "turma_fk INT(10) NOT NULL,\n",
        "unidade_fk VARCHAR(100) NOT NULL);\n",
        "\n",
        "ALTER TABLE matricula ADD CONSTRAINT matricula_unidade_fk_senac_unidade FOREIGN KEY (unidade_fk) REFERENCES senac(unidade);\n",
        "ALTER TABLE matricula ADD CONSTRAINT matricula_curso_fk_curso_curso FOREIGN KEY (curso_fk) REFERENCES curso(curso);\n",
        "ALTER TABLE curso ADD CONSTRAINT curso_matricula_fk_aluno_matricula_pk FOREIGN KEY (matricula_fk) REFERENCES aluno(matricula_pk);\n",
        "ALTER TABLE turma ADD CONSTRAINT turma_curso_fk_curso_curso FOREIGN KEY (curso_fk) REFERENCES curso(curso);\n",
        "ALTER TABLE turma ADD CONSTRAINT turma_unidade_fk_senac_unidade FOREIGN KEY (unidade_fk) REFERENCES senac(unidade);\n",
        "ALTER TABLE monitor ADD CONSTRAINT monitor_turma_fk_turma_turma_pk FOREIGN KEY (turma_fk) REFERENCES turma(turma_pk);\n",
        "ALTER TABLE facilitador ADD CONSTRAINT facilitador_turma_fk_turma_turma_pk FOREIGN KEY (turma_fk) REFERENCES turma(turma_pk);\n",
        "ALTER TABLE modulo ADD CONSTRAINT modulo_curso_fk_curso_curso FOREIGN KEY (curso_fk) REFERENCES curso(curso);\n",
        "ALTER TABLE modulo ADD CONSTRAINT modulo_cpf_facilitador_facilitador_cpf_facilitador FOREIGN KEY (cpf_facilitador) REFERENCES facilitador(cpf_facilitador);\n",
        "ALTER TABLE presenca ADD CONSTRAINT presenca_matricula_fk_aluno_matricula_pk FOREIGN KEY (matricula_fk) REFERENCES aluno(matricula_pk);\n",
        "ALTER TABLE presenca ADD CONSTRAINT presenca_presenca_aluno_facilitador_fk_presenca_aluno_facilitador_presenca_aluno_facilitador FOREIGN KEY (presenca_aluno_facilitador_fk) REFERENCES presenca_aluno_facilitador(presenca_aluno_facilitador);\n",
        "ALTER TABLE presenca ADD CONSTRAINT presenca_presenca_aluno_monitor_fk_presenca_aluno_monitor _presenca_aluno_monitor_fk FOREIGN KEY (presenca_aluno_monitor_fk) REFERENCES presenca_aluno_monitor (presenca_aluno_monitor_fk);\n",
        "ALTER TABLE presenca_aluno_monitor  ADD CONSTRAINT presenca_aluno_monitor _cpf_monitor_monitor_cpf_monitor FOREIGN KEY (cpf_monitor) REFERENCES monitor(cpf_monitor);\n",
        "ALTER TABLE presenca_aluno_facilitador ADD CONSTRAINT presenca_aluno_facilitador_cpf_facilitador_facilitador_cpf_facilitador FOREIGN KEY (cpf_facilitador) REFERENCES facilitador(cpf_facilitador);\n",
        "ALTER TABLE coordenação_senac ADD CONSTRAINT coordenação_senac_turma_fk_turma_turma_pk FOREIGN KEY (turma_fk) REFERENCES turma(turma_pk);\n",
        "ALTER TABLE coordenação_senac ADD CONSTRAINT coordenação_senac_unidade_fk_senac_unidade FOREIGN KEY (unidade_fk) REFERENCES senac(unidade);\n",
        "\n",
        "```"
      ],
      "metadata": {
        "id": "n8U6cT3cWaDM"
      }
    },
    {
      "cell_type": "markdown",
      "source": [
        "###***ACOMPANHANDO A AULA***"
      ],
      "metadata": {
        "id": "X5cFYe-4XaeC"
      }
    },
    {
      "cell_type": "markdown",
      "source": [
        "```sql\n",
        "--\n",
        "\n",
        "USE pizzaria;\n",
        "\n",
        "select length(nome) from tb_cliente;\n",
        "SELECT data_pedido from tb_pedido;\n",
        "SELECT extract(year from data_pedido) from tb_pedido;\n",
        "SELECT extract(month from data_pedido) from tb_pedido;\n",
        "\n",
        "SELECT tb_cliente a, tb_pedido b, cliente_pedido\n",
        "FROM tb_cliente\n",
        "\n",
        "--\n",
        "\n",
        "create view cliente2 as select nome, email from tb_cliente;\n",
        "\n",
        "select * from cliente2;\n",
        "create or replace view cliente2 as select nome,email,endereco from tb_cliente;\n",
        "\n",
        "--\n",
        "\n",
        "create view cliente2 as select nome, email from tb_cliente;\n",
        "\n",
        "select * from cliente2;\n",
        "\n",
        "create or replace view cliente2 as\n",
        "select nome,email,endereco from tb_cliente;\n",
        "\n",
        "--\n",
        "\n",
        "use pizzaria;\n",
        "create view cliente2 as select nome, email from tb_cliente;\n",
        "use pizzaria;\n",
        "create view cliente2 as select nome, email from tb_cliente;\n",
        "select * from cliente2;\n",
        "SELECT c.nome,pz.nome,pz.categoria,p.tipo_entrega FROM tb_cliente c\n",
        "INNER JOIN tb_pedido p ON p.id_cliente = c.id_cliente\n",
        "INNER JOIN tb_pedido_pizza pp ON pp.id_pedido = p.id_pedido\n",
        "INNER JOIN tb_pizza pz ON pz.id_pizza = pp.id_pizza\n",
        "WHERE categoria = 'zero lactose';\n",
        "\n",
        "--\n",
        "\n",
        "SELECT c.nome,pz.nome,pz.categoria,p.tipo_entrega FROM tb_cliente c\n",
        "INNER JOIN tb_pedido p ON p.id_cliente = c.id_cliente\n",
        "INNER JOIN tb_pedido_pizza pp ON pp.id_pedido = p.id_pedido\n",
        "INNER JOIN tb_pizza pz ON pz.id_pizza = pp.id_pizza\n",
        "WHERE categoria = 'zero lactose';\n",
        "\n",
        "--\n",
        "\n",
        "SELECT nome\n",
        "FROM tb_pizza\n",
        "WHERE id_pizza IN (\n",
        "    SELECT pp.id_pizza\n",
        "    FROM tb_pedido_pizza pp\n",
        "    JOIN tb_pedido p ON pp.id_pedido = p.id_pedido\n",
        "    WHERE categoria = 'zero lactose'\n",
        ");\n",
        "\n",
        "--\n",
        "\n",
        "SELECT * FROM tb_pizza WHERE id_pizza IN ( SELECT id_pizza FROM tb_pedido WHERE categoria = 'Zero Lactose');\n",
        "\n",
        "--\n",
        "\n",
        "SELECT c.nome FROM tb_cliente c where id_cliente in(SELECT p.id_cliente FROM tb_pedido p WHERE tipo_entrega=\"Delivery\");\n",
        "SELECT c.nome FROM tb_cliente c (SELECT p.tipo_entrega FROM tb_pedido p WHERE tipo_entrega=\"Delivery\");\n",
        "\n",
        "--\n",
        "\n",
        "SELECT *\n",
        "FROM tb_cliente\n",
        "WHERE id_cliente IN (\n",
        "    SELECT id_cliente\n",
        "    FROM tb_pedido\n",
        "    WHERE tipo_entrega = 'Delivery'\n",
        ");\n",
        "\n",
        "--\n",
        "\n",
        "select nome from tb_cliente where id_cliente in (select id_cliente from tb_pedido where tipo_entrega = 'Delivery');\n",
        "\n",
        "--\n",
        "\n",
        "SELECT c.nome FROM tb_cliente c (SELECT p.tipo_entrega FROM tb_pedido p WHERE tipo_entrega=\"Delivery\");\n",
        "\n",
        "--\n",
        "\n",
        "select tbc.nome, tp.nome from  tb_cliente tbc\n",
        "inner join tb_pedido tbp on tbc.id_cliente = tbp.id_cliente\n",
        "inner join tb_pedido_pizza tbpp on tbp.id_pedido  = tbpp.id_pedido\n",
        "inner join tb_pizza tp on tp.id_pizza = tbpp.id_pizza group by tbc.nome ;\n",
        "\n",
        "--\n",
        "\n",
        "SELECT c.nome,pz.nome as pizza,MAX(p.id_pedido) AS qtd FROM tb_cliente c INNER JOIN tb_pedido p ON c.id_cliente=1 INNER JOIN tb_pedido_pizza pp ON pp.id_pedido=p.id_pedido INNER JOIN tb_pizza pz ON pz.id_pizza=pp.id_pizza ;\n",
        "\n",
        "--\n",
        "\n",
        "select tbc.nome, tp.nome from  tb_cliente tbc\n",
        "inner join tb_pedido tbp on tbc.id_cliente = tbp.id_cliente\n",
        "inner join tb_pedido_pizza tbpp on tbp.id_pedido  = tbpp.id_pedido\n",
        "inner join tb_pizza tp on tp.id_pizza = tbpp.id_pizza\n",
        "\n",
        "--\n",
        "\n",
        "SELECT c.nome,COUNT(p.id_pizza) AS qtd FROM tb_pizza c\n",
        "INNER JOIN tb_pedido_pizza p ON p.id_pizza=c.id_pizza GROUP BY c.nome ;\n",
        "\n",
        "--\n",
        "\n",
        "SELECT c.nome,COUNT(p.id_pizza) AS qtd FROM tb_pizza c INNER JOIN tb_pedido_pizza p ON p.id_pizza=c.id_pizza GROUP BY c.nome ;\n",
        "\n",
        "--\n",
        "\n",
        "SELECT tb_cliente.id_cliente, tb_cliente.nome, COUNT(tb_pedido.id_pedido) AS total_pedidos\n",
        "FROM tb_cliente\n",
        "inner JOIN tb_pedido  ON tb_cliente.id_cliente = tb_pedido.id_cliente\n",
        "GROUP BY tb_cliente.nome;\n",
        "\n",
        "--\n",
        "\n",
        "SELECT c.nome,COUNT(p.id_pedido) AS qtd FROM tb_cliente c INNER JOIN tb_pedido p ON c.id_cliente=p.id_cliente GROUP BY c.nome ;\n",
        "\n",
        "--\n",
        "\n",
        "SELECT c.nome,COUNT(p.id_pedido) AS qtd FROM tb_cliente c\n",
        "INNER JOIN tb_pedido p ON c.id_cliente=p.id_cliente GROUP BY c.nome  ;\n",
        "\n",
        "--\n",
        "\n",
        "SELECT id_cliente, nome_cliente, COUNT(p.id_pedido) AS total_pedidos\n",
        "FROM tb_clientes\n",
        "LEFT JOIN tb_pedido  ON tb_cliente.id_cliente = tb_pedidoid_cliente\n",
        "GROUP BY id_cliente, nome;\n",
        "\n",
        "--\n",
        "\n",
        "SELECT c.nome,COUNT(p.id_pedido) AS qtd FROM tb_cliente c INNER JOIN tb_pedido p ON c.id_cliente=p.id_cliente GROUP BY c.nome ORDER BY c.nome ;\n",
        "\n",
        "--\n",
        "\n",
        "SELECT c.nome,p.tipo_entrega FROM tb_cliente c LEFT JOIN tb_pedido p ON c.id_cliente=p.id_cliente;\n",
        "\n",
        "--\n",
        "\n",
        "select tb_cliente.nome, tb_pedido.tipo_entrega from   tb_cliente\n",
        "inner join tb_pedido  on tb_cliente.id_cliente = tb_pedido.id_cliente ;\n",
        "select tb_cliente.nome, tb_pedido.tipo_entrega from   tb_cliente\n",
        "inner join tb_pedido  on tb_cliente.id_cliente = tb_pedido.id_cliente ;\n",
        "\n",
        "select tb_cliente.nome, tb_pedido.tipo_entrega from   tb_cliente\n",
        "left join tb_pedido  on tb_cliente.id_cliente = tb_pedido.id_cliente ;\n",
        "\n",
        "select tb_cliente.nome, tb_pedido.tipo_entrega from   tb_cliente\n",
        "right join tb_pedido  on tb_cliente.id_cliente = tb_pedido.id_cliente ;\n",
        "\n",
        "--\n",
        "```"
      ],
      "metadata": {
        "id": "B182fk8zXfKq"
      }
    },
    {
      "cell_type": "markdown",
      "source": [
        "##**MODULO 4 - PANDA E NUMPY**"
      ],
      "metadata": {
        "id": "OfJRMtTqM6Ez"
      }
    },
    {
      "cell_type": "code",
      "source": [
        "print('ola mundo')"
      ],
      "metadata": {
        "colab": {
          "base_uri": "https://localhost:8080/"
        },
        "id": "UBhyQnGkNMZz",
        "outputId": "b0d491d6-0054-4ebd-b16f-c5c3ccc7d59f"
      },
      "execution_count": 1,
      "outputs": [
        {
          "output_type": "stream",
          "name": "stdout",
          "text": [
            "ola mundo\n"
          ]
        }
      ]
    },
    {
      "cell_type": "markdown",
      "metadata": {
        "id": "zgtYGo4bY1IP"
      },
      "source": [
        "# **ESTUDOS E EXERCICIOS DE PYTHON 🐍**\n",
        "Estrutura de Dados com listas, Dicionário, tuplas e conjunto."
      ]
    },
    {
      "cell_type": "markdown",
      "metadata": {
        "id": "ERh9JRNXfaXY"
      },
      "source": [
        "### Listas 📋"
      ]
    },
    {
      "cell_type": "markdown",
      "metadata": {
        "id": "D1-GrRSKgBoh"
      },
      "source": [
        "Em Python, você pode iniciar uma lista de diversas maneiras. Aqui estão alguns exemplos:\n",
        "\n",
        "1. Iniciar uma lista vazia:\n",
        "```python\n",
        "minha_lista = []\n",
        "```\n",
        "\n",
        "2. Iniciar uma lista com elementos:\n",
        "```python\n",
        "minha_lista = [1, 2, 3, 4, 5]\n",
        "```\n",
        "\n",
        "3. Iniciar uma lista com strings:\n",
        "```python\n",
        "frutas = [\"maçã\", \"banana\", \"laranja\"]\n",
        "```\n",
        "\n",
        "4. Iniciar uma lista com tipos de dados mistos:\n",
        "```python\n",
        "dados_mistos = [1, \"cachorro\", 3.14, True]\n",
        "```\n",
        "\n",
        "5. Iniciar uma lista usando a função `list()`:\n",
        "```python\n",
        "outra_lista = list(range(1, 6))  # Cria uma lista de 1 a 5\n",
        "```\n",
        "\n",
        "6. Iniciar uma lista com valores repetidos:\n",
        "```python\n",
        "repeticoes = [0] * 3  # Cria uma lista com três zeros: [0, 0, 0]\n",
        "```\n",
        "\n",
        "E temos também a lista como função:\n",
        "\n",
        "1. Converter uma string em uma lista de caracteres:\n",
        "```python\n",
        "texto = \"Python\"\n",
        "lista_de_caracteres = list(texto)  # Converte para: ['P', 'y', 't', 'h', 'o', 'n']\n",
        "```\n",
        "\n",
        "2. Converter uma tupla em uma lista:\n",
        "```python\n",
        "tupla = (1, 2, 3)\n",
        "lista = list(tupla)  # Converte para: [1, 2, 3]\n",
        "```\n",
        "\n",
        "3. Converter um conjunto em uma lista:\n",
        "```python\n",
        "conjunto = {4, 5, 6}\n",
        "lista = list(conjunto)  # Converte para: [4, 5, 6]\n",
        "```\n",
        "\n",
        "4. Converter um dicionário em uma lista de chaves, valores ou itens:\n",
        "```python\n",
        "dicionario = {'a': 1, 'b': 2, 'c': 3}\n",
        "chaves = list(dicionario.keys())  # Converte para: ['a', 'b', 'c']\n",
        "valores = list(dicionario.values())  # Converte para: [1, 2, 3]\n",
        "itens = list(dicionario.items())  # Converte para: [('a', 1), ('b', 2), ('c', 3)]\n",
        "```\n",
        "\n",
        "A função `list()` é versátil e útil para converter outros tipos de dados em listas em Python.\n",
        "\n",
        "Podemos também acessar elementos individuais nas listas adicionando \"CONCHETES\"\n",
        "Ex.\n",
        "numero = [1, 2, 3, 4, 5]\n",
        "print(numero[0])\n",
        "\n",
        "Existem vários métodos para manipulados as Listas em Python.\n",
        "\n",
        "■ append(): adiciona um elemento ao final da lista;\n",
        "\n",
        "■ insert(): adiciona um elemento em uma posição específica da lista;\n",
        "\n",
        "■ remove(): remove o primeiro elemento da lista que corresponde a um\n",
        "valor específico;\n",
        "\n",
        "■ pop(): remove e retorna o elemento na posição especificada da lista."
      ]
    },
    {
      "cell_type": "code",
      "execution_count": null,
      "metadata": {
        "id": "6OmUHZjqfqAi"
      },
      "outputs": [],
      "source": []
    },
    {
      "cell_type": "markdown",
      "metadata": {
        "id": "-lSXqZ4xlpRQ"
      },
      "source": [
        "### Tuplas 📋"
      ]
    },
    {
      "cell_type": "markdown",
      "metadata": {
        "id": "2c9NK4rPmBy9"
      },
      "source": [
        "Atividade: Criando tuplas\n",
        "\n",
        "➔ O QUE FAZER?\n",
        "Elaborar um algoritmo que cria duas tuplas de dez posições e fazer a\n",
        "multiplicação dos elementos de mesmo índice, colocando o resultado em uma\n",
        "terceira tupla que deve ser mostrada como saída."
      ]
    },
    {
      "cell_type": "code",
      "execution_count": null,
      "metadata": {
        "colab": {
          "base_uri": "https://localhost:8080/"
        },
        "id": "z8swc3LPmA17",
        "outputId": "d7edcb7b-ac23-450c-8213-f01b4224c505"
      },
      "outputs": [
        {
          "name": "stdout",
          "output_type": "stream",
          "text": [
            "(2, 6, 12, 20, 30)\n",
            "(10, 18, 24, 28, 30, 30, 28, 24, 18, 10)\n"
          ]
        }
      ],
      "source": [
        "Ex: 1\n",
        "x = (1, 2, 3, 4, 5)\n",
        "y = (2, 3, 4, 5, 6)\n",
        "z = ()\n",
        "for i in range(len(x)):\n",
        "    z += (x[i] * y[i],)\n",
        "print(z)\n",
        "\n",
        "Ex: 2\n",
        "tupla_x = (1, 2, 3, 4, 5, 6, 7, 8, 9, 10)\n",
        "tupla_y = (10, 9, 8, 7, 6, 5, 4, 3, 2, 1)\n",
        "tupla_z = tuple(x * y for x, y in zip(tupla_x, tupla_y))\n",
        "#\n",
        "print(tupla_z)"
      ]
    },
    {
      "cell_type": "markdown",
      "metadata": {
        "id": "5959UdgJ0roM"
      },
      "source": [
        "### Dicionários 📋"
      ]
    },
    {
      "cell_type": "markdown",
      "metadata": {
        "id": "U_mNC_YJDcC_"
      },
      "source": [
        "***Formas de criar um dicionário.***\n",
        "\n",
        "Em Python, você pode criar um dicionário de várias maneiras. Aqui estão algumas das formas mais comuns de criar um dicionário:\n",
        "\n",
        "1. **Chaves e Valores Literais:**\n",
        "   Você pode definir um dicionário diretamente, especificando suas chaves e valores. Por exemplo:\n",
        "   ```python\n",
        "   meu_dicionario = {\"chave1\": \"valor1\", \"chave2\": \"valor2\"}\n",
        "   ```\n",
        "\n",
        "2. **Usando o Construtor `dict()`:**\n",
        "   Você pode usar o construtor `dict()` para criar um dicionário. Por exemplo:\n",
        "   ```python\n",
        "   meu_dicionario = dict(chave1=\"valor1\", chave2=\"valor2\")\n",
        "   ```\n",
        "\n",
        "3. **Usando Listas de Tuples:**\n",
        "   Você pode criar um dicionário a partir de uma lista de tuples, onde cada tuple contém uma chave e um valor. Por exemplo:\n",
        "   ```python\n",
        "   lista_de_tuples = [(\"chave1\", \"valor1\"), (\"chave2\", \"valor2\")]\n",
        "   meu_dicionario = dict(lista_de_tuples)\n",
        "   ```\n",
        "\n",
        "4. **Usando Listas de Chaves e Listas de Valores:**\n",
        "   Você pode criar um dicionário a partir de duas listas separadas, uma contendo as chaves e a outra contendo os valores. Por exemplo:\n",
        "   ```python\n",
        "   chaves = [\"chave1\", \"chave2\"]\n",
        "   valores = [\"valor1\", \"valor2\"]\n",
        "   meu_dicionario = dict(zip(chaves, valores))\n",
        "   ```\n",
        "\n",
        "5. **Usando Compreensões de Dicionário (Dictionary Comprehensions):**\n",
        "   Você pode criar um dicionário usando uma compreensão de dicionário. Por exemplo:\n",
        "   ```python\n",
        "   meu_dicionario = {chave: valor for chave, valor in lista_de_tuples}\n",
        "   ```\n",
        "\n",
        "6. **Inicialização Vazia e Adição de Elementos:**\n",
        "   Você pode criar um dicionário vazio e adicionar elementos posteriormente. Por exemplo:\n",
        "   ```python\n",
        "   meu_dicionario = {}\n",
        "   meu_dicionario[\"chave1\"] = \"valor1\"\n",
        "   meu_dicionario[\"chave2\"] = \"valor2\"\n",
        "   ```\n",
        "\n",
        "Essas são algumas das formas de criar dicionários em Python. Escolha a que melhor se adapte à sua situação e aos seus dados."
      ]
    },
    {
      "cell_type": "markdown",
      "metadata": {
        "id": "yKcXrNB60-0j"
      },
      "source": [
        "***Exercício de Dicionario***"
      ]
    },
    {
      "cell_type": "code",
      "execution_count": null,
      "metadata": {
        "colab": {
          "base_uri": "https://localhost:8080/"
        },
        "id": "tpKxpX0J0_jz",
        "outputId": "ec98bae5-a8f0-4505-9824-0819639cee4c"
      },
      "outputs": [
        {
          "name": "stdout",
          "output_type": "stream",
          "text": [
            "3\n",
            "{'one': 'zero', 'two': 'dois', 'three': 'três'}\n",
            "3\n",
            "Essa é uma chave válida\n"
          ]
        }
      ],
      "source": [
        "\n",
        "#Criando um dicionário vazio\n",
        "inglesPort = {}\n",
        "# Dicionário\n",
        "inglesPort = {'one':'um', 'two':'dois','three':'três'}\n",
        "# Número de chaves-valores dentro do Dicionário\n",
        "print(len(inglesPort))\n",
        "# Adicionar\n",
        "inglesPort['one']='zero'\n",
        "\n",
        "print(inglesPort)\n",
        "print(len(inglesPort))\n",
        "\n",
        "if 'one' in inglesPort:\n",
        "  print('Essa é uma chave válida')\n",
        "if 'um' in inglesPort:\n",
        "  print('Essa é uma chave válida')"
      ]
    },
    {
      "cell_type": "markdown",
      "metadata": {
        "id": "bJFMnBaA3UWE"
      },
      "source": [
        "***Acessando Elementos***"
      ]
    },
    {
      "cell_type": "code",
      "execution_count": null,
      "metadata": {
        "colab": {
          "base_uri": "https://localhost:8080/"
        },
        "id": "TmVhQ2br3Ob8",
        "outputId": "40f4bbb0-b377-436a-8e30-04c6cb75e91a"
      },
      "outputs": [
        {
          "name": "stdout",
          "output_type": "stream",
          "text": [
            "dois\n",
            "dois\n"
          ]
        }
      ],
      "source": [
        "inglesPort = { 'one': 'um', 'two': 'dois', 'three': 'três'}\n",
        "\n",
        "print(inglesPort['two'])\n",
        "print(inglesPort.get('two'))"
      ]
    },
    {
      "cell_type": "code",
      "execution_count": null,
      "metadata": {
        "colab": {
          "base_uri": "https://localhost:8080/"
        },
        "id": "6hci-NzF3_7e",
        "outputId": "e7ac72c7-f564-4c42-bb7b-c4623e0b59cf"
      },
      "outputs": [
        {
          "name": "stdout",
          "output_type": "stream",
          "text": [
            "dict_keys(['one', 'two', 'three'])\n",
            "dict_values(['um', 'dois', 'três'])\n",
            "dict_values(['um', 'dois', 'três'])\n",
            "dict_keys(['one', 'two', 'three'])\n",
            "dict_values(['um', 'dois', 'três'])\n",
            "dict_keys(['one', 'two', 'three'])\n",
            "dict_items([('one', 'um'), ('two', 'dois'), ('three', 'três')])\n"
          ]
        }
      ],
      "source": [
        "inglesPort = { 'one': 'um', 'two': 'dois', 'three': 'três'}\n",
        "\n",
        "print(inglesPort.keys())\n",
        "inglesPort = { 'one': 'um', 'two': 'dois', 'three': 'três'}\n",
        "\n",
        "print(inglesPort.values())\n",
        "inglesPort = { 'one': 'um', 'two': 'dois', 'three': 'três'}\n",
        "\n",
        "print(inglesPort.values())\n",
        "print(inglesPort.keys())\n",
        "inglesPort = { 'one': 'um', 'two': 'dois', 'three': 'três'}\n",
        "\n",
        "print(inglesPort.values())\n",
        "print(inglesPort.keys())\n",
        "print(inglesPort.items())"
      ]
    },
    {
      "cell_type": "markdown",
      "metadata": {
        "id": "aXfSpge0G2A2"
      },
      "source": [
        "***Atividade: Meu primeiro dicionário***\n",
        "\n",
        "➔ O QUE FAZER?\n",
        "Criar um glossário. Elaborar um algoritmo que:\n",
        "\n",
        "1. Crie um dicionário e adicione cinco palavras relacionadas à programação que você conheceu nos\n",
        "módulos anteriores.\n",
        "\n",
        "2. Use essas palavras como chaves em seu glossário e armazene seus significados como valores.\n",
        "\n",
        "3. Em seguida, leia do usuário palavras a serem buscadas no seu glossário e exiba em tela seu\n",
        "significado."
      ]
    },
    {
      "cell_type": "code",
      "execution_count": null,
      "metadata": {
        "colab": {
          "base_uri": "https://localhost:8080/",
          "height": 845
        },
        "id": "9zngA0e4HE7X",
        "outputId": "a4587347-f50a-4772-e816-d209b3e05eef"
      },
      "outputs": [
        {
          "name": "stdout",
          "output_type": "stream",
          "text": [
            "\n",
            "dict_keys(['fruta', 'numero', 'objeto', 'adjetivo', 'criatura'])\n"
          ]
        },
        {
          "ename": "KeyboardInterrupt",
          "evalue": "ignored",
          "output_type": "error",
          "traceback": [
            "\u001b[0;31m---------------------------------------------------------------------------\u001b[0m",
            "\u001b[0;31mKeyboardInterrupt\u001b[0m                         Traceback (most recent call last)",
            "\u001b[0;32m<ipython-input-39-895b50baf392>\u001b[0m in \u001b[0;36m<cell line: 18>\u001b[0;34m()\u001b[0m\n\u001b[1;32m     16\u001b[0m \u001b[0;34m\u001b[0m\u001b[0m\n\u001b[1;32m     17\u001b[0m \u001b[0;31m#Salvando na variável x uma chave do dicionário\u001b[0m\u001b[0;34m\u001b[0m\u001b[0;34m\u001b[0m\u001b[0m\n\u001b[0;32m---> 18\u001b[0;31m \u001b[0mx\u001b[0m \u001b[0;34m=\u001b[0m \u001b[0minput\u001b[0m\u001b[0;34m(\u001b[0m\u001b[0;34m\"Digite uma chave do dicionario:\"\u001b[0m\u001b[0;34m)\u001b[0m\u001b[0;34m\u001b[0m\u001b[0;34m\u001b[0m\u001b[0m\n\u001b[0m\u001b[1;32m     19\u001b[0m \u001b[0;34m\u001b[0m\u001b[0m\n\u001b[1;32m     20\u001b[0m \u001b[0;31m#Criando uma condição 'if', seguido de um operador 'in' para verificar se a variável 'x' tem alguma chave do dicionario 'd'.\u001b[0m\u001b[0;34m\u001b[0m\u001b[0;34m\u001b[0m\u001b[0m\n",
            "\u001b[0;32m/usr/local/lib/python3.10/dist-packages/ipykernel/kernelbase.py\u001b[0m in \u001b[0;36mraw_input\u001b[0;34m(self, prompt)\u001b[0m\n\u001b[1;32m    849\u001b[0m                 \u001b[0;34m\"raw_input was called, but this frontend does not support input requests.\"\u001b[0m\u001b[0;34m\u001b[0m\u001b[0;34m\u001b[0m\u001b[0m\n\u001b[1;32m    850\u001b[0m             )\n\u001b[0;32m--> 851\u001b[0;31m         return self._input_request(str(prompt),\n\u001b[0m\u001b[1;32m    852\u001b[0m             \u001b[0mself\u001b[0m\u001b[0;34m.\u001b[0m\u001b[0m_parent_ident\u001b[0m\u001b[0;34m,\u001b[0m\u001b[0;34m\u001b[0m\u001b[0;34m\u001b[0m\u001b[0m\n\u001b[1;32m    853\u001b[0m             \u001b[0mself\u001b[0m\u001b[0;34m.\u001b[0m\u001b[0m_parent_header\u001b[0m\u001b[0;34m,\u001b[0m\u001b[0;34m\u001b[0m\u001b[0;34m\u001b[0m\u001b[0m\n",
            "\u001b[0;32m/usr/local/lib/python3.10/dist-packages/ipykernel/kernelbase.py\u001b[0m in \u001b[0;36m_input_request\u001b[0;34m(self, prompt, ident, parent, password)\u001b[0m\n\u001b[1;32m    893\u001b[0m             \u001b[0;32mexcept\u001b[0m \u001b[0mKeyboardInterrupt\u001b[0m\u001b[0;34m:\u001b[0m\u001b[0;34m\u001b[0m\u001b[0;34m\u001b[0m\u001b[0m\n\u001b[1;32m    894\u001b[0m                 \u001b[0;31m# re-raise KeyboardInterrupt, to truncate traceback\u001b[0m\u001b[0;34m\u001b[0m\u001b[0;34m\u001b[0m\u001b[0m\n\u001b[0;32m--> 895\u001b[0;31m                 \u001b[0;32mraise\u001b[0m \u001b[0mKeyboardInterrupt\u001b[0m\u001b[0;34m(\u001b[0m\u001b[0;34m\"Interrupted by user\"\u001b[0m\u001b[0;34m)\u001b[0m \u001b[0;32mfrom\u001b[0m \u001b[0;32mNone\u001b[0m\u001b[0;34m\u001b[0m\u001b[0;34m\u001b[0m\u001b[0m\n\u001b[0m\u001b[1;32m    896\u001b[0m             \u001b[0;32mexcept\u001b[0m \u001b[0mException\u001b[0m \u001b[0;32mas\u001b[0m \u001b[0me\u001b[0m\u001b[0;34m:\u001b[0m\u001b[0;34m\u001b[0m\u001b[0;34m\u001b[0m\u001b[0m\n\u001b[1;32m    897\u001b[0m                 \u001b[0mself\u001b[0m\u001b[0;34m.\u001b[0m\u001b[0mlog\u001b[0m\u001b[0;34m.\u001b[0m\u001b[0mwarning\u001b[0m\u001b[0;34m(\u001b[0m\u001b[0;34m\"Invalid Message:\"\u001b[0m\u001b[0;34m,\u001b[0m \u001b[0mexc_info\u001b[0m\u001b[0;34m=\u001b[0m\u001b[0;32mTrue\u001b[0m\u001b[0;34m)\u001b[0m\u001b[0;34m\u001b[0m\u001b[0;34m\u001b[0m\u001b[0m\n",
            "\u001b[0;31mKeyboardInterrupt\u001b[0m: Interrupted by user"
          ]
        }
      ],
      "source": [
        "# Exemplo 1\n",
        "#Criando um Dicionário\n",
        "d = {\n",
        "    \"fruta\": \"banana\",\n",
        "    \"numero\": \"um\",\n",
        "    \"objeto\": \"tesoura\",\n",
        "    \"adjetivo\": \"belo\",\n",
        "    \"criatura\": \"humano\",\n",
        "}\n",
        "\n",
        "#Função print para pular uma linha\n",
        "print(\"\")\n",
        "\n",
        "#Mostrando as chaves do Dicionario\n",
        "print(d.keys())\n",
        "\n",
        "#Salvando na variável x uma chave do dicionário\n",
        "x = input(\"Digite uma chave do dicionario:\")\n",
        "\n",
        "#Criando uma condição 'if', seguido de um operador 'in' para verificar se a variável 'x' tem alguma chave do dicionario 'd'.\n",
        "if x in d:\n",
        "# O d.get(x) mostra o valor da chave 'x'\n",
        "    print(d.get(x))\n",
        "else:\n",
        "    print(\"Palavra não esta no dicionario\")"
      ]
    },
    {
      "cell_type": "code",
      "execution_count": null,
      "metadata": {
        "id": "EBhQ8E1sH7LA"
      },
      "outputs": [],
      "source": [
        "# pedir ao usuário uma palavra para buscar no glossário\n",
        "glossario = {\n",
        "    \"fruta\": \"banana\",\n",
        "    \"numero\": \"um\",\n",
        "    \"objeto\": \"tesoura\",\n",
        "    \"adjetivo\": \"belo\",\n",
        "    \"criatura\": \"humano\",\n",
        "}\n",
        "print(glossario)\n",
        "palavra = input(\"Digite uma palavra que tenha a ver com programação \")\n",
        "# ver se a palavra existe no dicionário\n",
        "if palavra in glossario:\n",
        "    # Exibir o significado da palavra\n",
        "    print(f\"{palavra}: {glossario[palavra]}\")\n",
        "else:\n",
        "    # Exibir uma mensagem de erro\n",
        "    print(f\"Desculpe, essa palavra {palavra} não foi encontrada no glossário.\")"
      ]
    },
    {
      "cell_type": "markdown",
      "metadata": {
        "id": "2UgXjONsOF2C"
      },
      "source": [
        "***Removendo itens do dicionário***"
      ]
    },
    {
      "cell_type": "code",
      "execution_count": null,
      "metadata": {
        "id": "Nh2jbwu1eXJq"
      },
      "outputs": [],
      "source": [
        "#Exemplo 2\n",
        "# Criando Dicionário\n",
        "inglesPort = { 'one': 'um', 'two': 'dois', 'three': 'três'}\n",
        "print(inglesPort)\n",
        "\n",
        "# Remover chave-valor\n",
        "inglesPort.pop('one')\n",
        "print(inglesPort)\n",
        "\n",
        "# Remover pela chave\n",
        "del inglesPort['two']\n",
        "print(inglesPort)\n",
        "\n",
        "# Remove o último item inserido\n",
        "inglesPort.popitem()\n",
        "print(inglesPort)\n",
        "\n",
        "# Esvaziando o dicionário\n",
        "inglesPort.clear()\n",
        "print(inglesPort)"
      ]
    },
    {
      "cell_type": "markdown",
      "metadata": {
        "id": "lQGwELMY2LFq"
      },
      "source": [
        "### Orientação a Objeto 🗽"
      ]
    },
    {
      "cell_type": "markdown",
      "metadata": {
        "id": "txmB8oF32fgo"
      },
      "source": [
        "Exercício 1 - Criar um Carro"
      ]
    },
    {
      "cell_type": "code",
      "execution_count": null,
      "metadata": {
        "colab": {
          "base_uri": "https://localhost:8080/"
        },
        "id": "HxNVm-_R2xzK",
        "outputId": "a46d1206-94fc-47a5-9bf0-20ad19fc74c3"
      },
      "outputs": [
        {
          "name": "stdout",
          "output_type": "stream",
          "text": [
            "Possui 4 Rodas e a velocidade máxima é 200\n",
            "Possui 4 Rodas e a velocidade máxima é 200.\n"
          ]
        }
      ],
      "source": [
        "class Carro:\n",
        "  quantidade_rodas = None\n",
        "  velocidade_maxima = None\n",
        "\n",
        "  def __init__ (self,quantidade_rodas, velocidade_maxima):\n",
        "    self.quantidade_rodas = quantidade_rodas\n",
        "    self.velocidade_maxima = velocidade_maxima\n",
        "\n",
        "  def mostrar_info(self):\n",
        "    print('Possui {} Rodas e a velocidade máxima é {}'.format(self.quantidade_rodas,self.velocidade_maxima))\n",
        "\n",
        "carro = Carro(4,200)\n",
        "carro.mostrar_info()\n",
        "\n",
        "#Criar uma Classe Carro com os atributos, rodas e velocidade.\n",
        "class Carro:\n",
        "  def __init__(self, rodas, velocidade):\n",
        "    self.rodas = rodas\n",
        "    self.velocidade = velocidade\n",
        "\n",
        "#Criar o método mostrar informações\n",
        "\n",
        "  def mostrar (self):\n",
        "    print(\"Possui {} Rodas e a velocidade máxima é {}.\".format(self.rodas,self.velocidade))\n",
        "\n",
        "carro = Carro(4,200)\n",
        "carro.mostrar()\n",
        "\n",
        "#"
      ]
    },
    {
      "cell_type": "markdown",
      "source": [
        "#**👨‍🔬CIENTISTA DE DADOS - ADA** 📊"
      ],
      "metadata": {
        "id": "5bMuT8Egp17L"
      }
    },
    {
      "cell_type": "markdown",
      "source": [
        "##***ESTATISTICA***📈"
      ],
      "metadata": {
        "id": "2SlgrcriqXCp"
      }
    },
    {
      "cell_type": "markdown",
      "source": [
        "###***Amostragem*** 🧪"
      ],
      "metadata": {
        "id": "lAUqXuOnGu1l"
      }
    },
    {
      "cell_type": "markdown",
      "source": [
        "A amostragem é uma técnica crucial na estatística e na ciência de dados, onde se extrai um subconjunto representativo de uma população maior para realizar análises e inferências. Aqui estão alguns pontos-chave sobre amostragem:\n",
        "\n",
        "### ***População e Amostra:***\n",
        "\n",
        "- **População:** É o conjunto completo de elementos que possuem uma característica específica. Exemplo: todos os clientes de uma empresa.\n",
        "- **Amostra:** É um subconjunto representativo da população.\n",
        "\n",
        "### ***Tipos de Amostragem:***\n",
        "\n",
        "1. **Amostragem Aleatória Simples:**\n",
        "   - Cada elemento tem a mesma chance de ser selecionado.\n",
        "\n",
        "   **EXEMPLO de Amostragem Simples:** Vamos Retirar 9 Amostras de 90 pessoas para um sorteio. Com os números dentro de uma urna, sorteamos um número, e esse número pode ser repetido enviando-o de volta para a urna, ou sorteamos um número e retiramos ele da urna para não ser repetido novamente. E armazenamos esses números em uma lista.\n",
        "\n",
        "2. **Amostragem Estratificada:**\n",
        "   - A população é dividida em estratos e, em seguida, são selecionadas amostras de cada estrato.\n",
        "\n",
        "   **EXEMPLO de Amostragem Estratificada:**\n",
        "   - Vamos retirar 10% de cada Extrato da população. Um exemplo de extrato de pessoas é separá-las por sua orientação sexual. Então: Grupo de pessoas masculinas (54 × 0.1 = 5,4 - Arredondados para baixo). Grupo de pessoas femininas (36 × 0.1 = 3,6 - Arredondados para cima). Total dos grupos: 9.\n",
        "\n",
        "3. ***Amostragem Sistemática***🎯\n",
        "\n",
        "  - A amostragem sistemática é um método de seleção de amostras em que os elementos são escolhidos a intervalos fixos de uma lista ordenada. A ideia básica é selecionar um ponto de partida aleatório e, em seguida, escolher elementos subsequentes em intervalos predefinidos.\n",
        "\n",
        "## ***Exemplo Prático:***\n",
        "\n",
        "Suponha que você tenha uma população de 1000 pessoas e deseje selecionar uma amostra sistemática de 100 indivíduos. O primeiro passo seria calcular o intervalo, que seria dado por:\n",
        "\n",
        "*INTERVALO =*\n",
        "*Tamanho da População* - 1000\n",
        "*Tamanho da amostra* - 100\n",
        "*Dividido pelo tamanho da Amostra* - 10\n",
        "\n",
        "Agora, você escolhe um número aleatório entre 1 e 10, que determinará o ponto de partida. Se escolhermos 4, por exemplo, começaríamos a seleção a partir do quarto elemento da lista. A partir daí, a cada 10 elementos, um novo elemento seria incluído na amostra.\n",
        "\n",
        "Assumindo que começamos no quarto elemento, a seleção seria feita da seguinte forma:\n",
        "- Elemento 4\n",
        "- Elemento 14\n",
        "- Elemento 24\n",
        "- ...\n",
        "- Elemento 994\n",
        "\n",
        "Isso garante que a amostra seja representativa e que todos os elementos da população tenham uma chance igual de serem incluídos na amostra.\n",
        "\n",
        "A amostragem sistemática é eficiente quando a ordem dos elementos não influencia a seleção. No entanto, se houver algum padrão na ordem que possa coincidir com o intervalo, isso pode levar a resultados enviesados. Portanto, é importante garantir que a lista seja aleatória ou que qualquer padrão na ordem não afete os resultados desejados.\n",
        "\n",
        "\n",
        "4. **Amostragem por Conglomerados:**\n",
        "   - A população é dividida em conglomerados, e alguns são escolhidos aleatoriamente.\n",
        "\n",
        "### ***Erro Amostral:***\n",
        "- O erro amostral é a diferença entre os resultados obtidos na amostra e os resultados que seriam obtidos se toda a população fosse medida.\n",
        "\n",
        "### ***Tamanho da Amostra:***\n",
        "- Determinar o tamanho adequado da amostra é crucial para garantir resultados representativos e minimizar o erro amostral. Isso é muitas vezes feito usando cálculos estatísticos ou por experiência prévia.\n",
        "\n",
        "### ***Importância na Ciência de Dados:***\n",
        "- Na ciência de dados, amostragem eficiente pode economizar recursos computacionais ao analisar grandes conjuntos de dados.\n",
        "\n",
        "### ***Viés de Amostragem:***\n",
        "- O viés ocorre quando a amostra não é representativa da população. Isso pode levar a conclusões incorretas.\n",
        "\n",
        "### ***Intervalos de Confiança:***\n",
        "- Os intervalos de confiança são frequentemente usados para expressar a precisão de uma estimativa baseada em uma amostra.\n",
        "\n",
        "### ***Testes de Hipóteses:***\n",
        "- Amostragem é fundamental para a realização de testes de hipóteses, onde se avalia se as diferenças observadas são significativas.\n",
        "\n",
        "*Em resumo*, a amostragem desempenha um papel essencial em tornar possível a generalização de resultados obtidos a partir de uma amostra para toda a população, tornando as conclusões mais acessíveis e eficientes."
      ],
      "metadata": {
        "id": "-4MosvbYqf84"
      }
    },
    {
      "cell_type": "markdown",
      "source": [
        "##***Construção de Tabelas***"
      ],
      "metadata": {
        "id": "fxr0ZCORHhRv"
      }
    },
    {
      "cell_type": "markdown",
      "source": [
        "Ao construir uma tabela na estatística, é fundamental incluir algumas informações essenciais para tornar a apresentação dos dados completa e compreensível. Aqui estão elementos-chave a considerar:\n",
        "\n",
        "1. **Título da Tabela:**\n",
        "   - Fornece uma descrição clara do conteúdo da tabela, identificando as variáveis ou características específicas que estão sendo analisadas.\n",
        "\n",
        "2. **Cabeçalhos de Coluna e Linha:**\n",
        "   - Indicam o que cada coluna e linha representa. Os cabeçalhos de coluna geralmente incluem as categorias das variáveis, enquanto os de linha podem indicar subgrupos ou intervalos.\n",
        "\n",
        "3. **Unidades de Medida:**\n",
        "   - Se os dados envolverem quantidades (como valores monetários, medidas físicas, etc.), é importante indicar as unidades de medida relevantes.\n",
        "\n",
        "4. **Fontes e Referências:**\n",
        "   - Quando aplicável, inclua fontes de dados ou referências para que os leitores possam verificar a autenticidade e a origem das informações apresentadas.\n",
        "\n",
        "5. **Notas Explicativas:**\n",
        "   - Adicione notas explicativas para esclarecer aspectos específicos da tabela, como definições de termos, métodos de coleta de dados, ou qualquer outra informação relevante.\n",
        "\n",
        "6. **Totais e Subtotais:**\n",
        "   - Inclua totais de coluna e/ou linha, dependendo da natureza dos dados. Subtotais podem ser úteis para categorias específicas.\n",
        "\n",
        "7. **Frequências Cumulativas:**\n",
        "   - Em tabelas de frequência, é comum incluir uma coluna de frequências acumuladas, fornecendo uma visão mais abrangente da distribuição dos dados.\n",
        "\n",
        "8. **Legendas e Símbolos:**\n",
        "   - Utilize legendas e símbolos quando necessário para explicar códigos, abreviações ou outros elementos específicos na tabela.\n",
        "\n",
        "Lembre-se de que a clareza e a precisão são cruciais ao apresentar dados estatísticos. Ao incorporar esses elementos, você ajuda os leitores a interpretar e entender as informações de maneira eficaz."
      ],
      "metadata": {
        "id": "1q-mpQTCMnPJ"
      }
    },
    {
      "cell_type": "markdown",
      "source": [
        "## **Tipos de Dados na Estatísticas**"
      ],
      "metadata": {
        "id": "b9XPOyt09tbB"
      }
    },
    {
      "cell_type": "markdown",
      "source": [
        "Em estatísticas, os \"tipos de dados\" referem-se às diferentes formas que os dados podem assumir. Existem dois principais tipos de dados: dados qualitativos (ou categóricos) e dados quantitativos.\n",
        "\n",
        "1. **Dados Qualitativos (Categóricos):**\n",
        "   - São dados que representam categorias ou qualidades.\n",
        "   - Exemplos incluem cores, gêneros, estados civis, tipos de frutas, entre outros.\n",
        "   - Podem ser nominais, onde não há ordem ou hierarquia (por exemplo, cores), ou ordinais, onde existe uma ordem específica (por exemplo, classificações de satisfação: \"baixo\", \"médio\", \"alto\").\n",
        "\n",
        "2. **Dados Quantitativos:**\n",
        "   - Representam quantidades numéricas e são subdivididos em dois tipos principais: discretos e contínuos.\n",
        "   - **Dados Discretos:**\n",
        "     - São contáveis e geralmente representam números inteiros.\n",
        "     - Exemplos incluem o número de alunos em uma sala de aula, o número de carros em um estacionamento.\n",
        "   - **Dados Contínuos:**\n",
        "     - Representam valores que podem assumir qualquer número dentro de um intervalo.\n",
        "     - Exemplos incluem altura, peso, temperatura.\n",
        "\n",
        "Além disso, os dados podem ser classificados como univariados ou bivariados:\n",
        "\n",
        "- **Dados Univariados:**\n",
        "  - Envolvem apenas uma variável.\n",
        "  - Exemplo: altura de uma amostra de pessoas.\n",
        "\n",
        "- **Dados Bivariados:**\n",
        "  - Envolvem duas variáveis e exploram a relação entre elas.\n",
        "  - Exemplo: altura e peso de uma amostra de pessoas.\n",
        "\n",
        "A escolha do tipo de dados depende da natureza da informação que está sendo coletada e analisada. Compreender esses tipos é fundamental para selecionar as técnicas estatísticas apropriadas para análise."
      ],
      "metadata": {
        "id": "r6OYYOh491BG"
      }
    },
    {
      "cell_type": "markdown",
      "source": [
        "###***EXEMPLO*** de cada tipo de dados de tabela."
      ],
      "metadata": {
        "id": "pE77aElYCXwa"
      }
    },
    {
      "cell_type": "markdown",
      "source": [
        "**1. Tabelas de Frequência:**\n",
        "\n",
        "   - **Univariadas: Variáveis Qualitativas**\n",
        "   \n",
        "     *Contexto:* A pesquisa de mercado envolveu a coleta de respostas sobre a preferência de cores de 47 participantes. Após a coleta dos dados, cada resposta foi categorizada nas opções Azul, Vermelho ou Verde. As frequências foram contadas e registradas na tabela.\n",
        "\n",
        "| Cor    | Frequência |\n",
        "|--------|------------|\n",
        "| Azul   | 15         |\n",
        "| Vermelho| 20         |\n",
        "| Verde  | 12         |\n",
        "\n",
        "     *Processo:* Após a categorização das respostas, contamos quantas pessoas escolheram cada cor. A categoria Vermelho foi escolhida com mais frequência, resultando em uma frequência de 20.\n",
        "\n",
        "   - **Univariadas: Variáveis Quantitativas Discretas**\n",
        "   \n",
        "     *Contexto:* Um estudo realizado em uma amostra de 25 famílias coletou dados sobre o número de filhos em cada família. As famílias foram agrupadas com base no número de filhos e a frequência foi registrada.\n",
        "\n",
        "| Número | Frequência |\n",
        "|--------|------------|\n",
        "| 1      | 5          |\n",
        "| 2      | 8          |\n",
        "| 3      | 12         |\n",
        "\n",
        "     *Processo:* Contamos quantas famílias tinham 1, 2 ou 3 filhos. A maioria das famílias tinha 3 filhos, resultando em uma frequência de 12.\n",
        "\n",
        "**2. Tabelas de Contingência:**\n",
        "\n",
        "   *Contexto:* Um levantamento em uma escola coletou dados sobre preferências esportivas em gêneros diferentes. Cada aluno foi classificado como Gosta ou Não Gosta de Esportes, e a tabela de contingência mostra a distribuição dessas preferências com base no gênero.\n",
        "\n",
        "|               | Gênero Masculino | Gênero Feminino |\n",
        "|---------------|-------------------|-----------------|\n",
        "| Gosta de Esporte | 15              | 20              |\n",
        "| Não Gosta de Esporte | 5             | 8               |\n",
        "\n",
        "   *Processo:* Cada aluno foi questionado sobre sua preferência por esportes, e essas respostas foram categorizadas. Os números foram registrados na tabela, revelando que mais mulheres indicaram que não gostam de esportes em comparação com os homens.\n",
        "\n",
        "**3. Tabelas de Distribuição de Frequência Cumulativa:**\n",
        "\n",
        "   *Contexto:* Um professor de matemática registrou as notas de 25 alunos em uma prova. A tabela de distribuição de frequência cumulativa mostra como as notas estão distribuídas e como a frequência acumulada aumenta.\n",
        "\n",
        "| Nota  | Frequência | Frequência Acumulada |\n",
        "|-------|------------|----------------------|\n",
        "| 60    | 5          | 5                    |\n",
        "| 70    | 12         | 17                   |\n",
        "| 80    | 8          | 25                   |\n",
        "\n",
        "   *Processo:* Cada aluno recebeu uma nota na prova, e essas notas foram agrupadas em intervalos (60, 70, 80). A frequência de alunos que obtiveram notas em cada intervalo foi registrada, e a frequência acumulada foi calculada, indicando quantos alunos atingiram ou ficaram abaixo de determinada nota."
      ],
      "metadata": {
        "id": "0jouHwPhCkuu"
      }
    },
    {
      "cell_type": "markdown",
      "source": [
        "###***EXEMPLO 2*** de cada tipo de dados de tabela."
      ],
      "metadata": {
        "id": "HcBvSPFPOBkT"
      }
    },
    {
      "cell_type": "markdown",
      "source": [
        "Na estatística, ao construir tabelas, três conceitos relacionados são frequentemente utilizados para descrever a distribuição de dados: frequência, frequência relativa e frequência relativa percentual. Vamos entender cada um deles:\n",
        "\n",
        "1. **Frequência:**\n",
        "   - A frequência é o número de vezes que uma determinada categoria ou valor ocorre em um conjunto de dados. Por exemplo, em uma tabela que mostra a distribuição de notas em uma sala de aula, a frequência de \"7\" pode ser 5, indicando que cinco alunos obtiveram a nota 7.\n",
        "\n",
        "2. **Frequência Relativa:**\n",
        "   - A frequência relativa é a proporção ou a porcentagem de vezes que uma determinada categoria ou valor ocorre em relação ao total de observações. É calculada dividindo a frequência da categoria pelo total de observações. A fórmula é:\n",
        "\n",
        "\\[ \\text{Frequência Relativa} = \\frac{\\text{Frequência da Categoria}}{\\text{Total de Observações}} \\]\n",
        "\n",
        "   - Essa medida fornece uma ideia da contribuição de cada categoria para o conjunto de dados em termos percentuais ou proporcionais.\n",
        "\n",
        "3. **Frequência Relativa Percentual:**\n",
        "   - A frequência relativa percentual expressa a frequência relativa como uma porcentagem. Essa medida é obtida multiplicando a frequência relativa por 100. A fórmula é:\n",
        "\n",
        "\\[ \\text{Frequência Relativa Percentual} = \\text{Frequência Relativa} \\times 100\\% \\]\n",
        "\n",
        "   - Essa medida é útil para apresentar as proporções em termos mais facilmente compreendidos, pois está na escala percentual.\n",
        "\n",
        "**Exemplo:**\n",
        "Vamos considerar uma tabela de frequência para as notas de uma turma:\n",
        "\n",
        "| Nota | Frequência |\n",
        "|------|------------|\n",
        "| 5    | 3          |\n",
        "| 6    | 7          |\n",
        "| 7    | 5          |\n",
        "| 8    | 2          |\n",
        "| 9    | 3          |\n",
        "| 10   | 1          |\n",
        "\n",
        "- **Frequência Relativa:**\n",
        "  - Para a nota 6: \\[ \\frac{7}{21} \\] (onde 21 é o total de observações).\n",
        "  - O mesmo raciocínio se aplica a outras notas.\n",
        "\n",
        "- **Frequência Relativa Percentual:**\n",
        "- Para a nota 6: \\[ \\frac{7}{21} \\times 100\\% \\].\n",
        "\n",
        "Esses conceitos fornecem uma visão abrangente da distribuição dos dados, permitindo uma análise mais aprofundada."
      ],
      "metadata": {
        "id": "Tmdb35RsOEy7"
      }
    },
    {
      "cell_type": "markdown",
      "source": [
        "# WORKANA\n"
      ],
      "metadata": {
        "id": "sq0bC3xvk4xy"
      }
    },
    {
      "cell_type": "markdown",
      "source": [
        "https://betransfero.gupy.io/jobs/6004907?jobBoardSource=share_link"
      ],
      "metadata": {
        "id": "mBOxMkevp8vg"
      }
    },
    {
      "cell_type": "markdown",
      "source": [
        "chrome-extension://efaidnbmnnnibpcajpcglclefindmkaj/https://d3uyk7qgi7fgpo.cloudfront.net/lms/modules/materials/Modelagem%20l%C3%B3gica-04bf46e4415e3488f1d1963b0aab7e2c.pdf\n",
        "\n",
        "https://d3uyk7qgi7fgpo.cloudfront.net/lms/modules/materials/Modelagem%20l%C3%B3gica-04bf46e4415e3488f1d1963b0aab7e2c.pdf\n",
        "\n",
        "https://t.me/vagastalentsjuniors\n",
        "\n",
        "https://www.dio.me/bootcamp/potencia-tech-ifood-programacao-do-zero?ref=CG\n",
        "\n",
        "\n",
        "\n",
        "\n",
        "https://ead.escoladotrabalhador40.com.br/"
      ],
      "metadata": {
        "id": "ouqPSWSERAAG"
      }
    }
  ],
  "metadata": {
    "colab": {
      "provenance": [],
      "include_colab_link": true
    },
    "kernelspec": {
      "display_name": "Python 3",
      "name": "python3"
    },
    "language_info": {
      "name": "python"
    }
  },
  "nbformat": 4,
  "nbformat_minor": 0
}