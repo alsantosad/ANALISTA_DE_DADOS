{
  "cells": [
    {
      "cell_type": "markdown",
      "metadata": {
        "id": "FtSpb2h4EAa6"
      },
      "source": [
        "## ***Pandas*** 🐼\n",
        "\n"
      ]
    },
    {
      "cell_type": "markdown",
      "metadata": {},
      "source": [
        "### **Importando Pandas**\n",
        "```python\n",
        "import pandas as pd:\n",
        "```\n",
        "Importa a biblioteca pandas e a apelida de pd. O pandas é uma biblioteca poderosa para manipulação e análise de dados em Python.\n",
        "\n"
      ]
    },
    {
      "cell_type": "code",
      "execution_count": null,
      "metadata": {},
      "outputs": [],
      "source": [
        "pip install --upgrade pip"
      ]
    },
    {
      "cell_type": "code",
      "execution_count": 20,
      "metadata": {
        "id": "A9Aj0epo2KdP"
      },
      "outputs": [],
      "source": [
        "import pandas as pd"
      ]
    },
    {
      "cell_type": "markdown",
      "metadata": {
        "id": "k5AbX1O41sGd"
      },
      "source": [
        "###**pd.Series**\n"
      ]
    },
    {
      "cell_type": "markdown",
      "metadata": {
        "id": "YWU1AhZl1umN"
      },
      "source": [
        "```Python\n",
        "pd.Series(...):\n",
        "```\n",
        "\n",
        "Converte a lista em uma Série do pandas. Uma Série é uma estrutura de dados unidimensional que pode armazenar qualquer tipo de dado. Cada elemento na Série possui um rótulo, chamado de índice.\n",
        "\n",
        "```Python\n",
        "list('abcdef'):\n",
        "```\n",
        "Cria uma lista contendo os caracteres 'a', 'b', 'c', 'd', 'e' e 'f'. A função list() converte a string em uma lista de caracteres.\n",
        "\n",
        "Veja:\n",
        "\n",
        "```python\n",
        "s1 = pd.Series(list('abcdef'))\n",
        "s1\n",
        "```"
      ]
    },
    {
      "cell_type": "markdown",
      "metadata": {
        "id": "KfrjthWG5Fhe"
      },
      "source": [
        "***Exemplo Serie 1:***\n",
        "\n",
        "A Série s1 foi criada com os valores 'a', 'b', 'c', 'd', 'e' e 'f', e os índices são automaticamente atribuídos de 0 a 5.\n"
      ]
    },
    {
      "cell_type": "code",
      "execution_count": null,
      "metadata": {
        "colab": {
          "base_uri": "https://localhost:8080/"
        },
        "id": "rkvN7VmX6N2g",
        "outputId": "f021a92c-0c0b-490c-b668-1b3deeaa10eb"
      },
      "outputs": [],
      "source": [
        "s1 = pd.Series(list('abcdef'))\n",
        "s1"
      ]
    },
    {
      "cell_type": "markdown",
      "metadata": {
        "id": "w8TLmFog7DIV"
      },
      "source": [
        "***Exemplo Serie 2:***\n",
        "\n",
        "`pd.Series([...]):` Cria uma Série no pandas.\n",
        "\n",
        "`[2, 4, 6, 8]:` Os valores que serão armazenados na Série.\n",
        "\n",
        " A Série s2 terá automaticamente índices atribuídos de 0 a 3, e você pode realizar diversas operações e análises de dados utilizando os recursos oferecidos pelo pandas para manipulação de Séries e DataFrames."
      ]
    },
    {
      "cell_type": "code",
      "execution_count": null,
      "metadata": {
        "id": "mAo7LZ1Nzco0"
      },
      "outputs": [],
      "source": [
        "s2 = pd.Series([2,4,6,8])\n",
        "s2"
      ]
    },
    {
      "cell_type": "markdown",
      "metadata": {
        "id": "pDrRXWCI7eXK"
      },
      "source": [
        "***Exemplo Serie 3:***\n",
        "\n",
        "`pd.Series([...], index=['a', 'b', 'c', 'd']):`\n",
        "\n",
        "Cria uma Série no pandas com valores específicos e índices associados.\n",
        "\n",
        "A principal diferença em relação à Série anterior (s2) é que, desta vez, os índices são especificados manualmente como `['a', 'b', 'c', 'd']`, em vez de serem gerados automaticamente. Isso permite associar rótulos personalizados aos elementos da Série, facilitando a referência aos valores por meio desses rótulos.\n"
      ]
    },
    {
      "cell_type": "code",
      "execution_count": null,
      "metadata": {
        "id": "j10WYNQQ0gRT"
      },
      "outputs": [],
      "source": [
        "s3 = pd.Series([2,4,6,8], index = ['a','b','c','d'])\n",
        "s3"
      ]
    },
    {
      "cell_type": "markdown",
      "metadata": {
        "id": "E2gqpvwq7zLC"
      },
      "source": [
        "***Exemplo Serie 3.1:***\n",
        "\n",
        "`s3['b']`: Acessa o valor na Série s3 correspondente ao índice 'b'.\n",
        "\n",
        "Neste caso específico, a Série s3 foi criada com índices personalizados, onde 'b' é um desses índices. Portanto, a expressão `s3['b']` retornará o valor associado ao índice 'b', que é 4. Esse tipo de indexação baseada em rótulos é uma característica poderosa das estruturas de dados do pandas."
      ]
    },
    {
      "cell_type": "code",
      "execution_count": null,
      "metadata": {
        "id": "F8-K88EM1551"
      },
      "outputs": [],
      "source": [
        "s3['b']"
      ]
    },
    {
      "cell_type": "markdown",
      "metadata": {
        "id": "8Vst3rfG8Gzb"
      },
      "source": [
        "***Exemplo Serie 3.2:***\n",
        "\n",
        "`s3[['b', 'c']]`: Seleciona os valores da Série s3 correspondentes aos índices 'b' e 'c', resultando em uma nova Série.\n",
        "\n",
        "A expressão retorna uma Série contendo os valores 4 e 6, que estão associados aos índices 'b' e 'c', respectivamente. O uso de uma lista `['b', 'c']` na indexação permite selecionar múltiplos valores ao mesmo tempo. Essa é uma funcionalidade flexível do pandas que facilita a manipulação de dados em conjuntos."
      ]
    },
    {
      "cell_type": "code",
      "execution_count": null,
      "metadata": {
        "id": "ZuMjBCag1-0O"
      },
      "outputs": [],
      "source": [
        "s3[['b','c']]"
      ]
    },
    {
      "cell_type": "markdown",
      "metadata": {
        "id": "DjQJC0B08dNJ"
      },
      "source": [
        "***Exemplo Serie 4:***\n",
        "\n",
        "O código `s4 = pd.Series(range(10), index=list('ababcedded'))` cria uma Série no pandas chamada s4 com valores de 0 a 9 e índices associados às letras 'a', 'b', 'a', 'b', 'c', 'e', 'd', 'd', 'e' e 'd'.\n",
        "\n",
        "Em resumo:\n",
        "`pd.Series(range(10), index=list('ababcedded'))`: Cria uma Série no pandas com valores de 0 a 9 e índices específicos.\n",
        "\n",
        "Os índices são baseados na lista de caracteres 'ababcedded'. Cada letra na lista é associada a um valor na Série. Por exemplo, 'a' está associado a 0, 'b' está associado a 1, 'c' está associado a 4, e assim por diante."
      ]
    },
    {
      "cell_type": "code",
      "execution_count": null,
      "metadata": {
        "id": "J8Iv5lBQ3Kcn"
      },
      "outputs": [],
      "source": [
        "s4 = pd.Series(range(10), index = list('ababcedded'))\n",
        "s4"
      ]
    },
    {
      "cell_type": "markdown",
      "metadata": {
        "id": "FSHSUcfHADMz"
      },
      "source": [
        "***Exemplo Serie 4:***\n",
        "\n",
        "A expressão s4['a'] realiza uma operação de indexação na Série s4, retornando uma nova Série que contém os valores associados ao índice 'a'. Em resumo:\n",
        "\n",
        "`s4['a']`: Seleciona os valores da Série s4 associados ao índice 'a'.\n",
        "\n",
        "Se a Série s4 for definida como no exemplo anterior, onde os índices 'a' estão associados aos valores 0 e 2, então `s4['a']` resultará em uma Série contendo esses valores.\n",
        "\n",
        "Esta Série resultante mostra os valores 0 e 2 associados aos índices 'a'. Note que, como os índices não são únicos, a operação de indexação pode retornar múltiplos valores."
      ]
    },
    {
      "cell_type": "code",
      "execution_count": null,
      "metadata": {
        "id": "TFvorV2b5ND-"
      },
      "outputs": [],
      "source": [
        "s4['a']"
      ]
    },
    {
      "cell_type": "markdown",
      "metadata": {
        "id": "U6_3cVMPCFX1"
      },
      "source": [
        "***Exemplo Serie 4.1:***\n",
        "\n",
        "s4['d']: Seleciona os valores da Série s4 associados ao índice 'd', resultando em uma nova Série.\n",
        "\n",
        "[0]: Seleciona o primeiro elemento dessa nova Série.\n",
        "\n",
        "Assumindo que a Série s4 tenha sido definida conforme mencionado anteriormente, onde os índices 'd' estão associados aos valores 6, 7 e 9, então s4['d'][0] resultará em:"
      ]
    },
    {
      "cell_type": "code",
      "execution_count": null,
      "metadata": {
        "id": "LVvFsHOl5Px-"
      },
      "outputs": [],
      "source": [
        "s4['d'][1]"
      ]
    },
    {
      "cell_type": "code",
      "execution_count": null,
      "metadata": {
        "colab": {
          "base_uri": "https://localhost:8080/"
        },
        "id": "8RnjpKr06OtL",
        "outputId": "5fbd8f73-0c25-41d5-852f-ac69515dd5ed"
      },
      "outputs": [
        {
          "data": {
            "text/plain": [
              "a    0\n",
              "b    1\n",
              "a    2\n",
              "b    3\n",
              "c    4\n",
              "e    5\n",
              "d    6\n",
              "d    7\n",
              "e    8\n",
              "d    9\n",
              "dtype: int64"
            ]
          },
          "execution_count": 95,
          "metadata": {},
          "output_type": "execute_result"
        }
      ],
      "source": [
        "# Imprime a Serie 4\n",
        "s4"
      ]
    },
    {
      "cell_type": "markdown",
      "metadata": {
        "id": "87epFUzzKDRo"
      },
      "source": [
        "***Exemplo Serie 4.2:***\n",
        "\n",
        "A expressão `s4[s4 < 2]` realiza uma operação de filtragem na Série s4, retornando uma nova Série contendo apenas os elementos cujos valores são menores que 2. Em resumo:\n",
        "\n",
        "`s4 < 2`: Cria uma Série de valores booleanos indicando se cada elemento na Série s4 é menor que 2.\n",
        "\n",
        "`s4[s4 < 2]`: Seleciona apenas os elementos da Série s4 onde a condição é verdadeira, ou seja, onde o valor é menor que 2.\n",
        "\n",
        "Assumindo que a Série s4 tenha sido definida conforme mencionado anteriormente, onde os primeiros três valores são associados aos índices 'a', 'b' e 'a', e assim por diante, então `s4[s4 < 2]` resultará em:"
      ]
    },
    {
      "cell_type": "code",
      "execution_count": null,
      "metadata": {
        "id": "E4nBHuzI6TDZ"
      },
      "outputs": [],
      "source": [
        "s4[s4<2]"
      ]
    },
    {
      "cell_type": "code",
      "execution_count": null,
      "metadata": {
        "id": "yeXY4KHw6gsK"
      },
      "outputs": [],
      "source": [
        "s4[s4>3]"
      ]
    },
    {
      "cell_type": "markdown",
      "metadata": {
        "id": "rJLYCnh5Kogl"
      },
      "source": [
        "***Exemplo Serie 4.3:***\n",
        "\n"
      ]
    },
    {
      "cell_type": "code",
      "execution_count": null,
      "metadata": {
        "colab": {
          "base_uri": "https://localhost:8080/"
        },
        "id": "nugKz4Ni6su6",
        "outputId": "96d6d98d-667c-4cfa-8b6c-e4cc59037b01"
      },
      "outputs": [
        {
          "data": {
            "text/plain": [
              "a    False\n",
              "b    False\n",
              "a    False\n",
              "b    False\n",
              "c     True\n",
              "e     True\n",
              "d     True\n",
              "d     True\n",
              "e     True\n",
              "d     True\n",
              "dtype: bool"
            ]
          },
          "execution_count": 97,
          "metadata": {},
          "output_type": "execute_result"
        }
      ],
      "source": [
        "s4>3"
      ]
    },
    {
      "cell_type": "code",
      "execution_count": null,
      "metadata": {
        "colab": {
          "base_uri": "https://localhost:8080/"
        },
        "id": "fhIaUCZr7ZIq",
        "outputId": "aba8641d-46d4-4da2-cc2c-b75855a7f405"
      },
      "outputs": [],
      "source": [
        "s4+2"
      ]
    },
    {
      "cell_type": "code",
      "execution_count": null,
      "metadata": {
        "colab": {
          "base_uri": "https://localhost:8080/"
        },
        "id": "iHKO5QFtAe_c",
        "outputId": "03ed0aef-3856-4d96-a404-52ca06859147"
      },
      "outputs": [
        {
          "data": {
            "text/plain": [
              "a     0\n",
              "b     2\n",
              "a     4\n",
              "b     6\n",
              "c     8\n",
              "e    10\n",
              "d    12\n",
              "d    14\n",
              "e    16\n",
              "d    18\n",
              "dtype: int64"
            ]
          },
          "execution_count": 96,
          "metadata": {},
          "output_type": "execute_result"
        }
      ],
      "source": [
        "s4*2"
      ]
    },
    {
      "cell_type": "code",
      "execution_count": null,
      "metadata": {
        "colab": {
          "base_uri": "https://localhost:8080/"
        },
        "id": "heTJB50aAuC0",
        "outputId": "03756bca-06df-40c4-ddb4-f0b9e9956b3e"
      },
      "outputs": [
        {
          "data": {
            "text/plain": [
              "a    100\n",
              "b    200\n",
              "c    300\n",
              "dtype: int64"
            ]
          },
          "execution_count": 59,
          "metadata": {},
          "output_type": "execute_result"
        }
      ],
      "source": [
        "dicio = {'a':100, 'b':200, 'c':300}\n",
        "s5 = pd.Series(dicio)\n",
        "s5"
      ]
    },
    {
      "cell_type": "code",
      "execution_count": null,
      "metadata": {
        "colab": {
          "base_uri": "https://localhost:8080/"
        },
        "id": "GGbDujOwAviE",
        "outputId": "e95cb96a-5f88-44e7-8494-4b945ae1f518"
      },
      "outputs": [
        {
          "data": {
            "text/plain": [
              "nome        Maria\n",
              "idade          50\n",
              "sexo     feminino\n",
              "dtype: object"
            ]
          },
          "execution_count": 60,
          "metadata": {},
          "output_type": "execute_result"
        }
      ],
      "source": [
        "dicio2 = {'nome':'Maria', 'idade':'50','sexo':'feminino'}\n",
        "s6 = pd.Series(dicio2)\n",
        "s6"
      ]
    },
    {
      "cell_type": "code",
      "execution_count": null,
      "metadata": {
        "colab": {
          "base_uri": "https://localhost:8080/"
        },
        "id": "gE62z3H4AxJr",
        "outputId": "7fec5594-16f2-4e34-dd2b-f9871ce70b3c"
      },
      "outputs": [
        {
          "data": {
            "text/plain": [
              "b    100\n",
              "c    150\n",
              "d    200\n",
              "dtype: int64"
            ]
          },
          "execution_count": 61,
          "metadata": {},
          "output_type": "execute_result"
        }
      ],
      "source": [
        "dicionario = {'b': 100, 'c': 150, 'd': 200}\n",
        "s = pd.Series(dicionario)\n",
        "s"
      ]
    },
    {
      "cell_type": "code",
      "execution_count": null,
      "metadata": {
        "colab": {
          "base_uri": "https://localhost:8080/"
        },
        "id": "D-Ypqdl2Ay2s",
        "outputId": "de59c839-1e9f-4e5f-8631-beeba247c03d"
      },
      "outputs": [
        {
          "data": {
            "text/plain": [
              "a      NaN\n",
              "b    100.0\n",
              "c    150.0\n",
              "d    200.0\n",
              "dtype: float64"
            ]
          },
          "execution_count": 62,
          "metadata": {},
          "output_type": "execute_result"
        }
      ],
      "source": [
        "s = pd.Series(dicionario, list('abcd'))\n",
        "s"
      ]
    },
    {
      "cell_type": "code",
      "execution_count": null,
      "metadata": {
        "colab": {
          "base_uri": "https://localhost:8080/"
        },
        "id": "1spKPFMABI1F",
        "outputId": "804c4378-6fa8-45f9-ab60-f909296465a2"
      },
      "outputs": [
        {
          "data": {
            "text/plain": [
              "c    1\n",
              "b    2\n",
              "a    3\n",
              "dtype: int64"
            ]
          },
          "execution_count": 63,
          "metadata": {},
          "output_type": "execute_result"
        }
      ],
      "source": [
        "s6 = pd.Series([1,2,3], index = ['c','b','a'])\n",
        "s6"
      ]
    },
    {
      "cell_type": "code",
      "execution_count": null,
      "metadata": {
        "colab": {
          "base_uri": "https://localhost:8080/"
        },
        "id": "cyA0vU3xBhaM",
        "outputId": "9f3d85c0-be00-459d-fd39-286abcfba3e7"
      },
      "outputs": [
        {
          "data": {
            "text/plain": [
              "a      NaN\n",
              "b    200.0\n",
              "c    150.0\n",
              "d      NaN\n",
              "dtype: float64"
            ]
          },
          "execution_count": 64,
          "metadata": {},
          "output_type": "execute_result"
        }
      ],
      "source": [
        "s*s6"
      ]
    },
    {
      "cell_type": "markdown",
      "metadata": {
        "id": "_joDS0FRCeDF"
      },
      "source": [
        "### ***ATIVIDADE: PRIMEIRA SÉRIE***"
      ]
    },
    {
      "cell_type": "markdown",
      "metadata": {
        "id": "dr1po_j5a4Q5"
      },
      "source": [
        "####PRIMEIRA SÉRIE"
      ]
    },
    {
      "cell_type": "markdown",
      "metadata": {
        "id": "gS9CwgkzCnQl"
      },
      "source": [
        "**O QUE FAZER?**\n",
        "1. Criar duas series pandas com 4 posições cada, realizar as quatro operações matemáticas\n",
        "básicas entre as series e mostrar o resultado;\n",
        "2. Criar uma terceira serie pandas com apenas 3 posições, realizar as quatro operações\n",
        "matemáticas básicas com uma das series do exercício anterior e explicar o resultado.\n",
        "➔ **COMO FAZER?**\n",
        "\n",
        "Em grupos de 3 a 4 pessoas.\n",
        "➔ **FECHAMENTO**\n",
        "Compartilhar as impressões gerais da atividade e dúvidas.\n"
      ]
    },
    {
      "cell_type": "code",
      "execution_count": null,
      "metadata": {
        "id": "iwBj_xoVCxD1"
      },
      "outputs": [],
      "source": [
        "import pandas as pd"
      ]
    },
    {
      "cell_type": "code",
      "execution_count": null,
      "metadata": {
        "id": "7jRJSrsWFucI"
      },
      "outputs": [],
      "source": [
        "Sa = pd.Series([3,6,9,12])\n",
        "Sa"
      ]
    },
    {
      "cell_type": "code",
      "execution_count": null,
      "metadata": {
        "id": "XcEiowfZHWIm"
      },
      "outputs": [],
      "source": [
        "Sb = pd.Series([5,10,15,20])\n",
        "Sb"
      ]
    },
    {
      "cell_type": "code",
      "execution_count": null,
      "metadata": {
        "id": "i5-7ABlnHji7"
      },
      "outputs": [],
      "source": [
        "Sa+Sb"
      ]
    },
    {
      "cell_type": "code",
      "execution_count": null,
      "metadata": {
        "id": "OVyIEF4pHoYx"
      },
      "outputs": [],
      "source": [
        "Sa*Sb"
      ]
    },
    {
      "cell_type": "code",
      "execution_count": null,
      "metadata": {
        "id": "uU2FnNX4HrbY"
      },
      "outputs": [],
      "source": [
        "Sa-Sb"
      ]
    },
    {
      "cell_type": "code",
      "execution_count": null,
      "metadata": {
        "id": "vAVuoISkHtlq"
      },
      "outputs": [],
      "source": [
        "Sa/Sb"
      ]
    },
    {
      "cell_type": "code",
      "execution_count": null,
      "metadata": {
        "id": "JTMz8RRpQPBM"
      },
      "outputs": [],
      "source": [
        "Sc = pd.Series([1,2,3])\n",
        "Sc"
      ]
    },
    {
      "cell_type": "code",
      "execution_count": null,
      "metadata": {
        "id": "kyrYG1yeQ3je"
      },
      "outputs": [],
      "source": [
        "Sc+Sa"
      ]
    },
    {
      "cell_type": "code",
      "execution_count": null,
      "metadata": {
        "id": "NcWJ3XTmQ_2X"
      },
      "outputs": [],
      "source": [
        "Sc-Sb"
      ]
    },
    {
      "cell_type": "code",
      "execution_count": null,
      "metadata": {
        "id": "fCQeZt7GRBqA"
      },
      "outputs": [],
      "source": [
        "Sc*Sa"
      ]
    },
    {
      "cell_type": "code",
      "execution_count": null,
      "metadata": {
        "id": "naAwKL3aRFND"
      },
      "outputs": [],
      "source": [
        "Sc/Sb"
      ]
    },
    {
      "cell_type": "markdown",
      "metadata": {
        "id": "VCAWvk_7bI0o"
      },
      "source": []
    },
    {
      "cell_type": "markdown",
      "metadata": {
        "id": "byLRiDnAa-xQ"
      },
      "source": [
        "#### ATIVIDADE 2"
      ]
    },
    {
      "cell_type": "markdown",
      "metadata": {
        "id": "YQ39YLkpbIKx"
      },
      "source": [
        "cfriar séries para guardar as seguintes informações sobre notas de alunos.\n",
        "aluna maria tirou 7 no teste 10 na prova\n",
        "aluno bruno tirou 6 no teste 8 na prova\n",
        "aluno Lucas tirou 6 no teste e 10 na prova"
      ]
    },
    {
      "cell_type": "code",
      "execution_count": null,
      "metadata": {
        "id": "I9A73-n3bLfo"
      },
      "outputs": [],
      "source": [
        "# prompt: criar séries para guardar as seguintes informações sobre notas de alunos. aluna maria tirou 7 no teste 10 na prova aluno bruno tirou 6 no teste 8 na prova aluno Lucas tirou 6 no teste e 10 na prova\n",
        "\n",
        "notas = pd.Series({'Maria': [7, 10], 'Bruno': [6, 8], 'Lucas': [6, 10]})\n",
        "notas"
      ]
    },
    {
      "cell_type": "markdown",
      "metadata": {
        "id": "c7azlXYFPHDB"
      },
      "source": [
        "## ***Importando CSV do Google Drive***"
      ]
    },
    {
      "cell_type": "code",
      "execution_count": null,
      "metadata": {
        "colab": {
          "base_uri": "https://localhost:8080/",
          "height": 947
        },
        "id": "g_t2_vzKPLR4",
        "outputId": "7f014f91-f841-422c-fecf-4e706a0001bd"
      },
      "outputs": [
        {
          "name": "stdout",
          "output_type": "stream",
          "text": [
            "Mounted at /content/drive\n"
          ]
        },
        {
          "data": {
            "text/html": [
              "\n",
              "  <div id=\"df-24af5725-73f9-4ce8-82c0-9a02a6ebd4c5\" class=\"colab-df-container\">\n",
              "    <div>\n",
              "<style scoped>\n",
              "    .dataframe tbody tr th:only-of-type {\n",
              "        vertical-align: middle;\n",
              "    }\n",
              "\n",
              "    .dataframe tbody tr th {\n",
              "        vertical-align: top;\n",
              "    }\n",
              "\n",
              "    .dataframe thead th {\n",
              "        text-align: right;\n",
              "    }\n",
              "</style>\n",
              "<table border=\"1\" class=\"dataframe\">\n",
              "  <thead>\n",
              "    <tr style=\"text-align: right;\">\n",
              "      <th></th>\n",
              "      <th>Regiao - Sigla</th>\n",
              "      <th>Estado - Sigla</th>\n",
              "      <th>Municipio</th>\n",
              "      <th>Revenda</th>\n",
              "      <th>CNPJ da Revenda</th>\n",
              "      <th>Nome da Rua</th>\n",
              "      <th>Numero Rua</th>\n",
              "      <th>Complemento</th>\n",
              "      <th>Bairro</th>\n",
              "      <th>Cep</th>\n",
              "      <th>Produto</th>\n",
              "      <th>Data da Coleta</th>\n",
              "      <th>Valor de Venda</th>\n",
              "      <th>Valor de Compra</th>\n",
              "      <th>Unidade de Medida</th>\n",
              "      <th>Bandeira</th>\n",
              "    </tr>\n",
              "  </thead>\n",
              "  <tbody>\n",
              "    <tr>\n",
              "      <th>0</th>\n",
              "      <td>N</td>\n",
              "      <td>AC</td>\n",
              "      <td>RIO BRANCO</td>\n",
              "      <td>AUTO POSTO AMAPA - EIRELI</td>\n",
              "      <td>00.529.581/0001-53</td>\n",
              "      <td>VIA CHICO MENDES</td>\n",
              "      <td>3570</td>\n",
              "      <td>NaN</td>\n",
              "      <td>AREAL</td>\n",
              "      <td>69906-119</td>\n",
              "      <td>GASOLINA</td>\n",
              "      <td>03/01/2022</td>\n",
              "      <td>6,99</td>\n",
              "      <td>NaN</td>\n",
              "      <td>R$ / litro</td>\n",
              "      <td>VIBRA ENERGIA</td>\n",
              "    </tr>\n",
              "    <tr>\n",
              "      <th>1</th>\n",
              "      <td>N</td>\n",
              "      <td>AC</td>\n",
              "      <td>RIO BRANCO</td>\n",
              "      <td>AUTO POSTO AMAPA - EIRELI</td>\n",
              "      <td>00.529.581/0001-53</td>\n",
              "      <td>VIA CHICO MENDES</td>\n",
              "      <td>3570</td>\n",
              "      <td>NaN</td>\n",
              "      <td>AREAL</td>\n",
              "      <td>69906-119</td>\n",
              "      <td>ETANOL</td>\n",
              "      <td>03/01/2022</td>\n",
              "      <td>5,99</td>\n",
              "      <td>NaN</td>\n",
              "      <td>R$ / litro</td>\n",
              "      <td>VIBRA ENERGIA</td>\n",
              "    </tr>\n",
              "    <tr>\n",
              "      <th>2</th>\n",
              "      <td>N</td>\n",
              "      <td>AC</td>\n",
              "      <td>RIO BRANCO</td>\n",
              "      <td>AUTO POSTO AMAPA - EIRELI</td>\n",
              "      <td>00.529.581/0001-53</td>\n",
              "      <td>VIA CHICO MENDES</td>\n",
              "      <td>3570</td>\n",
              "      <td>NaN</td>\n",
              "      <td>AREAL</td>\n",
              "      <td>69906-119</td>\n",
              "      <td>DIESEL</td>\n",
              "      <td>03/01/2022</td>\n",
              "      <td>6,09</td>\n",
              "      <td>NaN</td>\n",
              "      <td>R$ / litro</td>\n",
              "      <td>VIBRA ENERGIA</td>\n",
              "    </tr>\n",
              "    <tr>\n",
              "      <th>3</th>\n",
              "      <td>N</td>\n",
              "      <td>AC</td>\n",
              "      <td>RIO BRANCO</td>\n",
              "      <td>AUTO POSTO AMAPA - EIRELI</td>\n",
              "      <td>00.529.581/0001-53</td>\n",
              "      <td>VIA CHICO MENDES</td>\n",
              "      <td>3570</td>\n",
              "      <td>NaN</td>\n",
              "      <td>AREAL</td>\n",
              "      <td>69906-119</td>\n",
              "      <td>GASOLINA ADITIVADA</td>\n",
              "      <td>03/01/2022</td>\n",
              "      <td>7,05</td>\n",
              "      <td>NaN</td>\n",
              "      <td>R$ / litro</td>\n",
              "      <td>VIBRA ENERGIA</td>\n",
              "    </tr>\n",
              "    <tr>\n",
              "      <th>4</th>\n",
              "      <td>N</td>\n",
              "      <td>AC</td>\n",
              "      <td>RIO BRANCO</td>\n",
              "      <td>AUTO POSTO AMAPA - EIRELI</td>\n",
              "      <td>00.529.581/0001-53</td>\n",
              "      <td>VIA CHICO MENDES</td>\n",
              "      <td>3570</td>\n",
              "      <td>NaN</td>\n",
              "      <td>AREAL</td>\n",
              "      <td>69906-119</td>\n",
              "      <td>DIESEL S10</td>\n",
              "      <td>03/01/2022</td>\n",
              "      <td>6,12</td>\n",
              "      <td>NaN</td>\n",
              "      <td>R$ / litro</td>\n",
              "      <td>VIBRA ENERGIA</td>\n",
              "    </tr>\n",
              "    <tr>\n",
              "      <th>...</th>\n",
              "      <td>...</td>\n",
              "      <td>...</td>\n",
              "      <td>...</td>\n",
              "      <td>...</td>\n",
              "      <td>...</td>\n",
              "      <td>...</td>\n",
              "      <td>...</td>\n",
              "      <td>...</td>\n",
              "      <td>...</td>\n",
              "      <td>...</td>\n",
              "      <td>...</td>\n",
              "      <td>...</td>\n",
              "      <td>...</td>\n",
              "      <td>...</td>\n",
              "      <td>...</td>\n",
              "      <td>...</td>\n",
              "    </tr>\n",
              "    <tr>\n",
              "      <th>529419</th>\n",
              "      <td>CO</td>\n",
              "      <td>MT</td>\n",
              "      <td>CUIABA</td>\n",
              "      <td>OZ REVENDEDORA DE COMBUSTIVEIS LTDA</td>\n",
              "      <td>36.757.198/0001-08</td>\n",
              "      <td>AVENIDA SENADOR METELLO</td>\n",
              "      <td>868</td>\n",
              "      <td>NaN</td>\n",
              "      <td>CENTRO-SUL</td>\n",
              "      <td>78020-600</td>\n",
              "      <td>GASOLINA</td>\n",
              "      <td>30/06/2022</td>\n",
              "      <td>6,49</td>\n",
              "      <td>NaN</td>\n",
              "      <td>R$ / litro</td>\n",
              "      <td>BRANCA</td>\n",
              "    </tr>\n",
              "    <tr>\n",
              "      <th>529420</th>\n",
              "      <td>NE</td>\n",
              "      <td>MA</td>\n",
              "      <td>CAXIAS</td>\n",
              "      <td>POSTAO COMERCIO DE COMBUSTIVEIS LTDA</td>\n",
              "      <td>31.597.569/0001-00</td>\n",
              "      <td>RODOVIA BR-316</td>\n",
              "      <td>S/N</td>\n",
              "      <td>KM    552                 SALA  A</td>\n",
              "      <td>VOLTA REDONDA</td>\n",
              "      <td>65606-525</td>\n",
              "      <td>GASOLINA ADITIVADA</td>\n",
              "      <td>30/06/2022</td>\n",
              "      <td>6,99</td>\n",
              "      <td>NaN</td>\n",
              "      <td>R$ / litro</td>\n",
              "      <td>BRANCA</td>\n",
              "    </tr>\n",
              "    <tr>\n",
              "      <th>529421</th>\n",
              "      <td>NE</td>\n",
              "      <td>MA</td>\n",
              "      <td>CAXIAS</td>\n",
              "      <td>POSTAO COMERCIO DE COMBUSTIVEIS LTDA</td>\n",
              "      <td>31.597.569/0001-00</td>\n",
              "      <td>RODOVIA BR-316</td>\n",
              "      <td>S/N</td>\n",
              "      <td>KM    552                 SALA  A</td>\n",
              "      <td>VOLTA REDONDA</td>\n",
              "      <td>65606-525</td>\n",
              "      <td>DIESEL S10</td>\n",
              "      <td>30/06/2022</td>\n",
              "      <td>7,59</td>\n",
              "      <td>NaN</td>\n",
              "      <td>R$ / litro</td>\n",
              "      <td>BRANCA</td>\n",
              "    </tr>\n",
              "    <tr>\n",
              "      <th>529422</th>\n",
              "      <td>NE</td>\n",
              "      <td>MA</td>\n",
              "      <td>CAXIAS</td>\n",
              "      <td>POSTAO COMERCIO DE COMBUSTIVEIS LTDA</td>\n",
              "      <td>31.597.569/0001-00</td>\n",
              "      <td>RODOVIA BR-316</td>\n",
              "      <td>S/N</td>\n",
              "      <td>KM    552                 SALA  A</td>\n",
              "      <td>VOLTA REDONDA</td>\n",
              "      <td>65606-525</td>\n",
              "      <td>DIESEL</td>\n",
              "      <td>30/06/2022</td>\n",
              "      <td>7,55</td>\n",
              "      <td>NaN</td>\n",
              "      <td>R$ / litro</td>\n",
              "      <td>BRANCA</td>\n",
              "    </tr>\n",
              "    <tr>\n",
              "      <th>529423</th>\n",
              "      <td>NE</td>\n",
              "      <td>MA</td>\n",
              "      <td>CAXIAS</td>\n",
              "      <td>POSTAO COMERCIO DE COMBUSTIVEIS LTDA</td>\n",
              "      <td>31.597.569/0001-00</td>\n",
              "      <td>RODOVIA BR-316</td>\n",
              "      <td>S/N</td>\n",
              "      <td>KM    552                 SALA  A</td>\n",
              "      <td>VOLTA REDONDA</td>\n",
              "      <td>65606-525</td>\n",
              "      <td>GASOLINA</td>\n",
              "      <td>30/06/2022</td>\n",
              "      <td>6,99</td>\n",
              "      <td>NaN</td>\n",
              "      <td>R$ / litro</td>\n",
              "      <td>BRANCA</td>\n",
              "    </tr>\n",
              "  </tbody>\n",
              "</table>\n",
              "<p>529424 rows × 16 columns</p>\n",
              "</div>\n",
              "    <div class=\"colab-df-buttons\">\n",
              "\n",
              "  <div class=\"colab-df-container\">\n",
              "    <button class=\"colab-df-convert\" onclick=\"convertToInteractive('df-24af5725-73f9-4ce8-82c0-9a02a6ebd4c5')\"\n",
              "            title=\"Convert this dataframe to an interactive table.\"\n",
              "            style=\"display:none;\">\n",
              "\n",
              "  <svg xmlns=\"http://www.w3.org/2000/svg\" height=\"24px\" viewBox=\"0 -960 960 960\">\n",
              "    <path d=\"M120-120v-720h720v720H120Zm60-500h600v-160H180v160Zm220 220h160v-160H400v160Zm0 220h160v-160H400v160ZM180-400h160v-160H180v160Zm440 0h160v-160H620v160ZM180-180h160v-160H180v160Zm440 0h160v-160H620v160Z\"/>\n",
              "  </svg>\n",
              "    </button>\n",
              "\n",
              "  <style>\n",
              "    .colab-df-container {\n",
              "      display:flex;\n",
              "      gap: 12px;\n",
              "    }\n",
              "\n",
              "    .colab-df-convert {\n",
              "      background-color: #E8F0FE;\n",
              "      border: none;\n",
              "      border-radius: 50%;\n",
              "      cursor: pointer;\n",
              "      display: none;\n",
              "      fill: #1967D2;\n",
              "      height: 32px;\n",
              "      padding: 0 0 0 0;\n",
              "      width: 32px;\n",
              "    }\n",
              "\n",
              "    .colab-df-convert:hover {\n",
              "      background-color: #E2EBFA;\n",
              "      box-shadow: 0px 1px 2px rgba(60, 64, 67, 0.3), 0px 1px 3px 1px rgba(60, 64, 67, 0.15);\n",
              "      fill: #174EA6;\n",
              "    }\n",
              "\n",
              "    .colab-df-buttons div {\n",
              "      margin-bottom: 4px;\n",
              "    }\n",
              "\n",
              "    [theme=dark] .colab-df-convert {\n",
              "      background-color: #3B4455;\n",
              "      fill: #D2E3FC;\n",
              "    }\n",
              "\n",
              "    [theme=dark] .colab-df-convert:hover {\n",
              "      background-color: #434B5C;\n",
              "      box-shadow: 0px 1px 3px 1px rgba(0, 0, 0, 0.15);\n",
              "      filter: drop-shadow(0px 1px 2px rgba(0, 0, 0, 0.3));\n",
              "      fill: #FFFFFF;\n",
              "    }\n",
              "  </style>\n",
              "\n",
              "    <script>\n",
              "      const buttonEl =\n",
              "        document.querySelector('#df-24af5725-73f9-4ce8-82c0-9a02a6ebd4c5 button.colab-df-convert');\n",
              "      buttonEl.style.display =\n",
              "        google.colab.kernel.accessAllowed ? 'block' : 'none';\n",
              "\n",
              "      async function convertToInteractive(key) {\n",
              "        const element = document.querySelector('#df-24af5725-73f9-4ce8-82c0-9a02a6ebd4c5');\n",
              "        const dataTable =\n",
              "          await google.colab.kernel.invokeFunction('convertToInteractive',\n",
              "                                                    [key], {});\n",
              "        if (!dataTable) return;\n",
              "\n",
              "        const docLinkHtml = 'Like what you see? Visit the ' +\n",
              "          '<a target=\"_blank\" href=https://colab.research.google.com/notebooks/data_table.ipynb>data table notebook</a>'\n",
              "          + ' to learn more about interactive tables.';\n",
              "        element.innerHTML = '';\n",
              "        dataTable['output_type'] = 'display_data';\n",
              "        await google.colab.output.renderOutput(dataTable, element);\n",
              "        const docLink = document.createElement('div');\n",
              "        docLink.innerHTML = docLinkHtml;\n",
              "        element.appendChild(docLink);\n",
              "      }\n",
              "    </script>\n",
              "  </div>\n",
              "\n",
              "\n",
              "<div id=\"df-a10913eb-0790-40f6-9e5f-31c9eabb4972\">\n",
              "  <button class=\"colab-df-quickchart\" onclick=\"quickchart('df-a10913eb-0790-40f6-9e5f-31c9eabb4972')\"\n",
              "            title=\"Suggest charts\"\n",
              "            style=\"display:none;\">\n",
              "\n",
              "<svg xmlns=\"http://www.w3.org/2000/svg\" height=\"24px\"viewBox=\"0 0 24 24\"\n",
              "     width=\"24px\">\n",
              "    <g>\n",
              "        <path d=\"M19 3H5c-1.1 0-2 .9-2 2v14c0 1.1.9 2 2 2h14c1.1 0 2-.9 2-2V5c0-1.1-.9-2-2-2zM9 17H7v-7h2v7zm4 0h-2V7h2v10zm4 0h-2v-4h2v4z\"/>\n",
              "    </g>\n",
              "</svg>\n",
              "  </button>\n",
              "\n",
              "<style>\n",
              "  .colab-df-quickchart {\n",
              "      --bg-color: #E8F0FE;\n",
              "      --fill-color: #1967D2;\n",
              "      --hover-bg-color: #E2EBFA;\n",
              "      --hover-fill-color: #174EA6;\n",
              "      --disabled-fill-color: #AAA;\n",
              "      --disabled-bg-color: #DDD;\n",
              "  }\n",
              "\n",
              "  [theme=dark] .colab-df-quickchart {\n",
              "      --bg-color: #3B4455;\n",
              "      --fill-color: #D2E3FC;\n",
              "      --hover-bg-color: #434B5C;\n",
              "      --hover-fill-color: #FFFFFF;\n",
              "      --disabled-bg-color: #3B4455;\n",
              "      --disabled-fill-color: #666;\n",
              "  }\n",
              "\n",
              "  .colab-df-quickchart {\n",
              "    background-color: var(--bg-color);\n",
              "    border: none;\n",
              "    border-radius: 50%;\n",
              "    cursor: pointer;\n",
              "    display: none;\n",
              "    fill: var(--fill-color);\n",
              "    height: 32px;\n",
              "    padding: 0;\n",
              "    width: 32px;\n",
              "  }\n",
              "\n",
              "  .colab-df-quickchart:hover {\n",
              "    background-color: var(--hover-bg-color);\n",
              "    box-shadow: 0 1px 2px rgba(60, 64, 67, 0.3), 0 1px 3px 1px rgba(60, 64, 67, 0.15);\n",
              "    fill: var(--button-hover-fill-color);\n",
              "  }\n",
              "\n",
              "  .colab-df-quickchart-complete:disabled,\n",
              "  .colab-df-quickchart-complete:disabled:hover {\n",
              "    background-color: var(--disabled-bg-color);\n",
              "    fill: var(--disabled-fill-color);\n",
              "    box-shadow: none;\n",
              "  }\n",
              "\n",
              "  .colab-df-spinner {\n",
              "    border: 2px solid var(--fill-color);\n",
              "    border-color: transparent;\n",
              "    border-bottom-color: var(--fill-color);\n",
              "    animation:\n",
              "      spin 1s steps(1) infinite;\n",
              "  }\n",
              "\n",
              "  @keyframes spin {\n",
              "    0% {\n",
              "      border-color: transparent;\n",
              "      border-bottom-color: var(--fill-color);\n",
              "      border-left-color: var(--fill-color);\n",
              "    }\n",
              "    20% {\n",
              "      border-color: transparent;\n",
              "      border-left-color: var(--fill-color);\n",
              "      border-top-color: var(--fill-color);\n",
              "    }\n",
              "    30% {\n",
              "      border-color: transparent;\n",
              "      border-left-color: var(--fill-color);\n",
              "      border-top-color: var(--fill-color);\n",
              "      border-right-color: var(--fill-color);\n",
              "    }\n",
              "    40% {\n",
              "      border-color: transparent;\n",
              "      border-right-color: var(--fill-color);\n",
              "      border-top-color: var(--fill-color);\n",
              "    }\n",
              "    60% {\n",
              "      border-color: transparent;\n",
              "      border-right-color: var(--fill-color);\n",
              "    }\n",
              "    80% {\n",
              "      border-color: transparent;\n",
              "      border-right-color: var(--fill-color);\n",
              "      border-bottom-color: var(--fill-color);\n",
              "    }\n",
              "    90% {\n",
              "      border-color: transparent;\n",
              "      border-bottom-color: var(--fill-color);\n",
              "    }\n",
              "  }\n",
              "</style>\n",
              "\n",
              "  <script>\n",
              "    async function quickchart(key) {\n",
              "      const quickchartButtonEl =\n",
              "        document.querySelector('#' + key + ' button');\n",
              "      quickchartButtonEl.disabled = true;  // To prevent multiple clicks.\n",
              "      quickchartButtonEl.classList.add('colab-df-spinner');\n",
              "      try {\n",
              "        const charts = await google.colab.kernel.invokeFunction(\n",
              "            'suggestCharts', [key], {});\n",
              "      } catch (error) {\n",
              "        console.error('Error during call to suggestCharts:', error);\n",
              "      }\n",
              "      quickchartButtonEl.classList.remove('colab-df-spinner');\n",
              "      quickchartButtonEl.classList.add('colab-df-quickchart-complete');\n",
              "    }\n",
              "    (() => {\n",
              "      let quickchartButtonEl =\n",
              "        document.querySelector('#df-a10913eb-0790-40f6-9e5f-31c9eabb4972 button');\n",
              "      quickchartButtonEl.style.display =\n",
              "        google.colab.kernel.accessAllowed ? 'block' : 'none';\n",
              "    })();\n",
              "  </script>\n",
              "</div>\n",
              "\n",
              "  <div id=\"id_59b2b05f-bb91-4d0e-9e9b-b952e149fd74\">\n",
              "    <style>\n",
              "      .colab-df-generate {\n",
              "        background-color: #E8F0FE;\n",
              "        border: none;\n",
              "        border-radius: 50%;\n",
              "        cursor: pointer;\n",
              "        display: none;\n",
              "        fill: #1967D2;\n",
              "        height: 32px;\n",
              "        padding: 0 0 0 0;\n",
              "        width: 32px;\n",
              "      }\n",
              "\n",
              "      .colab-df-generate:hover {\n",
              "        background-color: #E2EBFA;\n",
              "        box-shadow: 0px 1px 2px rgba(60, 64, 67, 0.3), 0px 1px 3px 1px rgba(60, 64, 67, 0.15);\n",
              "        fill: #174EA6;\n",
              "      }\n",
              "\n",
              "      [theme=dark] .colab-df-generate {\n",
              "        background-color: #3B4455;\n",
              "        fill: #D2E3FC;\n",
              "      }\n",
              "\n",
              "      [theme=dark] .colab-df-generate:hover {\n",
              "        background-color: #434B5C;\n",
              "        box-shadow: 0px 1px 3px 1px rgba(0, 0, 0, 0.15);\n",
              "        filter: drop-shadow(0px 1px 2px rgba(0, 0, 0, 0.3));\n",
              "        fill: #FFFFFF;\n",
              "      }\n",
              "    </style>\n",
              "    <button class=\"colab-df-generate\" onclick=\"generateWithVariable('df')\"\n",
              "            title=\"Generate code using this dataframe.\"\n",
              "            style=\"display:none;\">\n",
              "\n",
              "  <svg xmlns=\"http://www.w3.org/2000/svg\" height=\"24px\"viewBox=\"0 0 24 24\"\n",
              "       width=\"24px\">\n",
              "    <path d=\"M7,19H8.4L18.45,9,17,7.55,7,17.6ZM5,21V16.75L18.45,3.32a2,2,0,0,1,2.83,0l1.4,1.43a1.91,1.91,0,0,1,.58,1.4,1.91,1.91,0,0,1-.58,1.4L9.25,21ZM18.45,9,17,7.55Zm-12,3A5.31,5.31,0,0,0,4.9,8.1,5.31,5.31,0,0,0,1,6.5,5.31,5.31,0,0,0,4.9,4.9,5.31,5.31,0,0,0,6.5,1,5.31,5.31,0,0,0,8.1,4.9,5.31,5.31,0,0,0,12,6.5,5.46,5.46,0,0,0,6.5,12Z\"/>\n",
              "  </svg>\n",
              "    </button>\n",
              "    <script>\n",
              "      (() => {\n",
              "      const buttonEl =\n",
              "        document.querySelector('#id_59b2b05f-bb91-4d0e-9e9b-b952e149fd74 button.colab-df-generate');\n",
              "      buttonEl.style.display =\n",
              "        google.colab.kernel.accessAllowed ? 'block' : 'none';\n",
              "\n",
              "      buttonEl.onclick = () => {\n",
              "        google.colab.notebook.generateWithVariable('df');\n",
              "      }\n",
              "      })();\n",
              "    </script>\n",
              "  </div>\n",
              "\n",
              "    </div>\n",
              "  </div>\n"
            ],
            "text/plain": [
              "       Regiao - Sigla Estado - Sigla   Municipio  \\\n",
              "0                   N             AC  RIO BRANCO   \n",
              "1                   N             AC  RIO BRANCO   \n",
              "2                   N             AC  RIO BRANCO   \n",
              "3                   N             AC  RIO BRANCO   \n",
              "4                   N             AC  RIO BRANCO   \n",
              "...               ...            ...         ...   \n",
              "529419             CO             MT      CUIABA   \n",
              "529420             NE             MA      CAXIAS   \n",
              "529421             NE             MA      CAXIAS   \n",
              "529422             NE             MA      CAXIAS   \n",
              "529423             NE             MA      CAXIAS   \n",
              "\n",
              "                                     Revenda      CNPJ da Revenda  \\\n",
              "0                  AUTO POSTO AMAPA - EIRELI   00.529.581/0001-53   \n",
              "1                  AUTO POSTO AMAPA - EIRELI   00.529.581/0001-53   \n",
              "2                  AUTO POSTO AMAPA - EIRELI   00.529.581/0001-53   \n",
              "3                  AUTO POSTO AMAPA - EIRELI   00.529.581/0001-53   \n",
              "4                  AUTO POSTO AMAPA - EIRELI   00.529.581/0001-53   \n",
              "...                                      ...                  ...   \n",
              "529419   OZ REVENDEDORA DE COMBUSTIVEIS LTDA   36.757.198/0001-08   \n",
              "529420  POSTAO COMERCIO DE COMBUSTIVEIS LTDA   31.597.569/0001-00   \n",
              "529421  POSTAO COMERCIO DE COMBUSTIVEIS LTDA   31.597.569/0001-00   \n",
              "529422  POSTAO COMERCIO DE COMBUSTIVEIS LTDA   31.597.569/0001-00   \n",
              "529423  POSTAO COMERCIO DE COMBUSTIVEIS LTDA   31.597.569/0001-00   \n",
              "\n",
              "                    Nome da Rua Numero Rua                        Complemento  \\\n",
              "0              VIA CHICO MENDES       3570                                NaN   \n",
              "1              VIA CHICO MENDES       3570                                NaN   \n",
              "2              VIA CHICO MENDES       3570                                NaN   \n",
              "3              VIA CHICO MENDES       3570                                NaN   \n",
              "4              VIA CHICO MENDES       3570                                NaN   \n",
              "...                         ...        ...                                ...   \n",
              "529419  AVENIDA SENADOR METELLO        868                                NaN   \n",
              "529420           RODOVIA BR-316        S/N  KM    552                 SALA  A   \n",
              "529421           RODOVIA BR-316        S/N  KM    552                 SALA  A   \n",
              "529422           RODOVIA BR-316        S/N  KM    552                 SALA  A   \n",
              "529423           RODOVIA BR-316        S/N  KM    552                 SALA  A   \n",
              "\n",
              "               Bairro        Cep             Produto Data da Coleta  \\\n",
              "0               AREAL  69906-119            GASOLINA     03/01/2022   \n",
              "1               AREAL  69906-119              ETANOL     03/01/2022   \n",
              "2               AREAL  69906-119              DIESEL     03/01/2022   \n",
              "3               AREAL  69906-119  GASOLINA ADITIVADA     03/01/2022   \n",
              "4               AREAL  69906-119          DIESEL S10     03/01/2022   \n",
              "...               ...        ...                 ...            ...   \n",
              "529419     CENTRO-SUL  78020-600            GASOLINA     30/06/2022   \n",
              "529420  VOLTA REDONDA  65606-525  GASOLINA ADITIVADA     30/06/2022   \n",
              "529421  VOLTA REDONDA  65606-525          DIESEL S10     30/06/2022   \n",
              "529422  VOLTA REDONDA  65606-525              DIESEL     30/06/2022   \n",
              "529423  VOLTA REDONDA  65606-525            GASOLINA     30/06/2022   \n",
              "\n",
              "       Valor de Venda  Valor de Compra Unidade de Medida       Bandeira  \n",
              "0                6,99              NaN        R$ / litro  VIBRA ENERGIA  \n",
              "1                5,99              NaN        R$ / litro  VIBRA ENERGIA  \n",
              "2                6,09              NaN        R$ / litro  VIBRA ENERGIA  \n",
              "3                7,05              NaN        R$ / litro  VIBRA ENERGIA  \n",
              "4                6,12              NaN        R$ / litro  VIBRA ENERGIA  \n",
              "...               ...              ...               ...            ...  \n",
              "529419           6,49              NaN        R$ / litro         BRANCA  \n",
              "529420           6,99              NaN        R$ / litro         BRANCA  \n",
              "529421           7,59              NaN        R$ / litro         BRANCA  \n",
              "529422           7,55              NaN        R$ / litro         BRANCA  \n",
              "529423           6,99              NaN        R$ / litro         BRANCA  \n",
              "\n",
              "[529424 rows x 16 columns]"
            ]
          },
          "metadata": {},
          "output_type": "display_data"
        }
      ],
      "source": [
        "import os\n",
        "from google.colab import drive\n",
        "import pandas as pd\n",
        "\n",
        "# Montar o Google Drive\n",
        "drive.mount ('/content/drive', force_remount=True)\n",
        "\n",
        "#Caminho para o arquivo .csv no google drive\n",
        "csv_path = '/content/drive/MyDrive/ANALISTA DE DADOS/PROJETOS SENAC ANALISTA DE DADOS/PROJETO EM GRUPO - MODULO 4/precos-semestrais-ca-2022-01.csv'\n",
        "\n",
        "# Ler o arquivo .csv usando Pandas\n",
        "df = pd.read_csv(csv_path, encoding='utf-8', sep=';')\n",
        "\n",
        "display(df)"
      ]
    },
    {
      "cell_type": "code",
      "execution_count": null,
      "metadata": {
        "id": "NN7dS1M0kDrA"
      },
      "outputs": [],
      "source": []
    },
    {
      "cell_type": "markdown",
      "metadata": {
        "id": "bGK6X99fXNoR"
      },
      "source": [
        "## ***Importando CSV do SAMPLE_DATA***"
      ]
    },
    {
      "cell_type": "code",
      "execution_count": null,
      "metadata": {
        "id": "88Vw1OjDV1eG"
      },
      "outputs": [],
      "source": [
        "import pandas as pd\n",
        "\n",
        "csv_path = '/content/Preços semestrais - AUTOMOTIVOS_2023.01.1.csv'\n",
        "df_csv = pd.read_csv(csv_path, encoding='utf-8', sep=';')\n",
        "\n",
        "print('\\nConteúdo do arquivo .csv:')\n",
        "print(df_csv)"
      ]
    }
  ],
  "metadata": {
    "colab": {
      "provenance": []
    },
    "kernelspec": {
      "display_name": "Python 3",
      "name": "python3"
    },
    "language_info": {
      "codemirror_mode": {
        "name": "ipython",
        "version": 3
      },
      "file_extension": ".py",
      "mimetype": "text/x-python",
      "name": "python",
      "nbconvert_exporter": "python",
      "pygments_lexer": "ipython3",
      "version": "3.11.4"
    }
  },
  "nbformat": 4,
  "nbformat_minor": 0
}
