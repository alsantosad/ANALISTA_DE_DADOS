{
 "cells": [
  {
   "cell_type": "code",
   "execution_count": null,
   "metadata": {},
   "outputs": [],
   "source": [
    "# Criar uma lista para armazenar os resultados\n",
    "resultado=[]\n",
    "# Dicionário de Candidatos\n",
    "candidatos = {\n",
    "\"Candidato 1\": {\"Entrevista\":(\"e\",5),\n",
    "\"Técnica\":(\"t\",10),\n",
    "\"Prática\":(\"p\",8),\n",
    "\"Soft Skill\":(\"s\",8)},\n",
    "\"Candidato 2\": {\"Entrevista\":(\"e\",10),\n",
    "\"Técnica\":(\"t\",7),\n",
    "\"Prática\":(\"p\",7),\n",
    "\"Soft Skill\":(\"s\",8)},\n",
    "\"Candidato 3\": {\"Entrevista\":(\"e\",8),\n",
    "\"Técnica\":(\"t\",5),\n",
    "\"Prática\":(\"p\",4),\n",
    "\"Soft Skill\":(\"s\",9)},\n",
    "\"Candidato 4\": {\"Entrevista\":(\"e\",2),\n",
    "\"Técnica\":(\"t\",2),\n",
    "\"Prática\":(\"p\",2),\n",
    "\"Soft Skill\":(\"s\",1)},\n",
    "\"Candidato 5\": {\"Entrevista\":(\"e\",10),\n",
    "\"Técnica\":(\"t\",10),\n",
    "\"Prática\":(\"p\",8),\n",
    "\"Soft Skill\":(\"s\",9)}\n",
    "}\n",
    "\n",
    "# Função que busca o candidato de acordo com os critérios digitados pelo usuário\n",
    "def requisito_vaga():\n",
    "    print(\"verificador de compatibilidade de um candidato com uma vaga\")\n",
    "    print(\"Temos uma vaga para Analista e os requisitos mínimos são:\")\n",
    "    requisitos = [int(input(\"Entrevista: \")),int(input(\"Técnica: \")), int(input(\"Prática: \")), int(input(\"Soft Skill: \"))]\n",
    "    resultado.append(requisitos)\n",
    "    return requisitos\n",
    "\n",
    "def buscar_candidatos(requisitos):\n",
    "    candidatos_compativeis = []\n",
    "\n",
    "    for candidato, habilidades in candidatos.items():\n",
    "        atende_requisitos = all(habilidades[chave][1] >= requisito for chave, requisito in zip(habilidades.keys(), requisitos))\n",
    "\n",
    "        if atende_requisitos:\n",
    "            requisitos_formatados = \"_\".join(f\"{chave[0].lower()}{requisito[1]}\" for chave, requisito in habilidades.items())\n",
    "            candidatos_compativeis.append((candidato, requisitos_formatados))\n",
    "\n",
    "    return candidatos_compativeis\n",
    "\n",
    "requisitos = requisito_vaga()\n",
    "candidatos_compativeis = buscar_candidatos(requisitos)\n",
    "\n",
    "print(\"Candidatos compatíveis com os requisitos mínimos:\")\n",
    "for candidato, requisitos_formatados in candidatos_compativeis:\n",
    "    requisitos_str = \"_\".join(requisitos_formatados.split(\"_\")[:])\n",
    "    print(f\"Candidato: {candidato}, Requisitos: {requisitos_str}\")\n"
   ]
  }
 ],
 "metadata": {
  "kernelspec": {
   "display_name": "Python 3.11.6 64-bit",
   "language": "python",
   "name": "python3"
  },
  "language_info": {
   "codemirror_mode": {
    "name": "ipython",
    "version": 3
   },
   "file_extension": ".py",
   "mimetype": "text/x-python",
   "name": "python",
   "nbconvert_exporter": "python",
   "pygments_lexer": "ipython3",
   "version": "3.11.6"
  },
  "orig_nbformat": 4,
  "vscode": {
   "interpreter": {
    "hash": "c261aea317cc0286b3b3261fbba9abdec21eaa57589985bb7a274bf54d6cc0a7"
   }
  }
 },
 "nbformat": 4,
 "nbformat_minor": 2
}
